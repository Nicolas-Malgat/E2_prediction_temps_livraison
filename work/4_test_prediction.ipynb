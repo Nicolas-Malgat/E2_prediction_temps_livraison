{
 "cells": [
  {
   "cell_type": "code",
   "execution_count": 1,
   "metadata": {},
   "outputs": [],
   "source": [
    "from model_interaction import predict_delivery_time\n",
    "import pandas as pd\n",
    "import sqlite3"
   ]
  },
  {
   "cell_type": "code",
   "execution_count": 6,
   "metadata": {},
   "outputs": [
    {
     "data": {
      "text/plain": [
       "((99025, 20), (1000, 1))"
      ]
     },
     "execution_count": 6,
     "metadata": {},
     "output_type": "execute_result"
    }
   ],
   "source": [
    "clean = '../../datas/CLEAN/E2/'\n",
    "\n",
    "con = sqlite3.connect(clean + 'E2.db')\n",
    "X = pd.read_sql('select * from preprocessor_input', con, index_col='index')\n",
    "y = pd.read_sql('select * from y LIMIT 1000', con, index_col='index')\n",
    "\n",
    "con.close()\n",
    "\n",
    "X.shape, y.shape"
   ]
  },
  {
   "cell_type": "code",
   "execution_count": 3,
   "metadata": {},
   "outputs": [
    {
     "name": "stdout",
     "output_type": "stream",
     "text": [
      "reel:  [19.33229167]\n"
     ]
    },
    {
     "name": "stderr",
     "output_type": "stream",
     "text": [
      "F:\\Anaconda\\envs\\E2\\lib\\site-packages\\sklearn\\base.py:450: UserWarning: X does not have valid feature names, but ElasticNet was fitted with feature names\n",
      "  warnings.warn(\n"
     ]
    },
    {
     "data": {
      "text/plain": [
       "array([13.96058292])"
      ]
     },
     "execution_count": 3,
     "metadata": {},
     "output_type": "execute_result"
    }
   ],
   "source": [
    "form_data = X.sample(n=1)\n",
    "index = form_data.index\n",
    "form_data = form_data.iloc[0].to_list()\n",
    "print('reel: ', y.iloc[index].shipping_delay.values)\n",
    "predict_delivery_time(\n",
    "    form_data\n",
    ")"
   ]
  },
  {
   "cell_type": "code",
   "execution_count": 5,
   "metadata": {},
   "outputs": [
    {
     "data": {
      "text/plain": [
       "Index(['distance', 'estimated_delay', 'price', 'freight_value', 'weight',\n",
       "       'volume', 'ferramentas_jardim', 'utilidades_domesticas',\n",
       "       'moveis_escritorio', 'Friday', 'Monday', 'August', 'December',\n",
       "       'February', 'January', 'July', 'June', 'March', 'May', 'November'],\n",
       "      dtype='object')"
      ]
     },
     "execution_count": 5,
     "metadata": {},
     "output_type": "execute_result"
    }
   ],
   "source": [
    "X.columns"
   ]
  },
  {
   "cell_type": "code",
   "execution_count": 7,
   "metadata": {},
   "outputs": [
    {
     "name": "stdout",
     "output_type": "stream",
     "text": [
      "distance \t 1444.2850341796875 \t 4814.70166015625\n",
      "estimated_delay \t 2.008009195327759 \t 50.03599548339844\n",
      "price \t 0.8500000238418579 \t 670.0\n",
      "freight_value \t 0.0 \t 67.4000015258789\n",
      "weight \t 0.0 \t 144300.0\n",
      "volume \t 168.0 \t 864000.0\n",
      "ferramentas_jardim \t 0.0 \t 1.0\n",
      "utilidades_domesticas \t 0.0 \t 1.0\n",
      "moveis_escritorio \t 0.0 \t 1.0\n",
      "Friday \t 0.0 \t 1.0\n",
      "Monday \t 0.0 \t 1.0\n",
      "August \t 0.0 \t 1.0\n",
      "December \t 0.0 \t 1.0\n",
      "February \t 0.0 \t 1.0\n",
      "January \t 0.0 \t 1.0\n",
      "July \t 0.0 \t 1.0\n",
      "June \t 0.0 \t 1.0\n",
      "March \t 0.0 \t 1.0\n",
      "May \t 0.0 \t 1.0\n",
      "November \t 0.0 \t 1.0\n"
     ]
    }
   ],
   "source": [
    "for col in X.columns:\n",
    "    print(\n",
    "        col, '\\t', X[col].min(), '\\t', X[col].max()\n",
    "    )"
   ]
  },
  {
   "cell_type": "code",
   "execution_count": 14,
   "metadata": {},
   "outputs": [],
   "source": [
    "products = ['ferramentas_jardim', 'utilidades_domesticas', 'moveis_escritorio']\n",
    "day = 'Other'\n",
    "month = 'Other'"
   ]
  },
  {
   "cell_type": "code",
   "execution_count": 15,
   "metadata": {},
   "outputs": [],
   "source": [
    "ref_products = ['ferramentas_jardim', 'utilidades_domesticas', 'moveis_escritorio']\n",
    "ref_days = ['Friday', 'Monday']\n",
    "ref_months = ['August', 'December', 'February', 'January', 'July', 'June', 'March', 'May', 'November']"
   ]
  },
  {
   "cell_type": "code",
   "execution_count": 18,
   "metadata": {},
   "outputs": [
    {
     "data": {
      "text/plain": [
       "(9, [0, 0, 0, 0, 0, 0, 0, 0, 0])"
      ]
     },
     "execution_count": 18,
     "metadata": {},
     "output_type": "execute_result"
    }
   ],
   "source": [
    "OHE = []\n",
    "OHE += [ 1 if ref in products else 0 for ref in ref_products]\n",
    "OHE += [ 1 if ref == day else 0 for ref in ref_days]\n",
    "OHE += [ 1 if ref == month else 0 for ref in ref_months]\n",
    "len(OHE), OHE"
   ]
  }
 ],
 "metadata": {
  "interpreter": {
   "hash": "b4e0f46da02f9850f267e2781d63d0f02c45fa623264b236c8ad258f9318af4a"
  },
  "kernelspec": {
   "display_name": "Python 3.9.7 ('E2')",
   "language": "python",
   "name": "python3"
  },
  "language_info": {
   "codemirror_mode": {
    "name": "ipython",
    "version": 3
   },
   "file_extension": ".py",
   "mimetype": "text/x-python",
   "name": "python",
   "nbconvert_exporter": "python",
   "pygments_lexer": "ipython3",
   "version": "3.9.7"
  },
  "orig_nbformat": 4
 },
 "nbformat": 4,
 "nbformat_minor": 2
}
