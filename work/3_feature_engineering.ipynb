{
 "cells": [
  {
   "cell_type": "code",
   "execution_count": 1,
   "metadata": {},
   "outputs": [],
   "source": [
    "import pandas as pd\n",
    "import numpy as np\n",
    "import sqlite3"
   ]
  },
  {
   "cell_type": "markdown",
   "metadata": {},
   "source": [
    "# Chargement des donnees"
   ]
  },
  {
   "cell_type": "code",
   "execution_count": 20,
   "metadata": {},
   "outputs": [
    {
     "data": {
      "text/html": [
       "<div>\n",
       "<style scoped>\n",
       "    .dataframe tbody tr th:only-of-type {\n",
       "        vertical-align: middle;\n",
       "    }\n",
       "\n",
       "    .dataframe tbody tr th {\n",
       "        vertical-align: top;\n",
       "    }\n",
       "\n",
       "    .dataframe thead th {\n",
       "        text-align: right;\n",
       "    }\n",
       "</style>\n",
       "<table border=\"1\" class=\"dataframe\">\n",
       "  <thead>\n",
       "    <tr style=\"text-align: right;\">\n",
       "      <th></th>\n",
       "      <th>order_item_id</th>\n",
       "      <th>shipping_limit_date</th>\n",
       "      <th>price</th>\n",
       "      <th>freight_value</th>\n",
       "      <th>order_status</th>\n",
       "      <th>order_purchase_timestamp</th>\n",
       "      <th>order_approved_at</th>\n",
       "      <th>order_delivered_carrier_date</th>\n",
       "      <th>order_delivered_customer_date</th>\n",
       "      <th>order_estimated_delivery_date</th>\n",
       "      <th>customer_city</th>\n",
       "      <th>customer_state</th>\n",
       "      <th>seller_city</th>\n",
       "      <th>seller_state</th>\n",
       "      <th>weight</th>\n",
       "      <th>volume</th>\n",
       "    </tr>\n",
       "    <tr>\n",
       "      <th>index</th>\n",
       "      <th></th>\n",
       "      <th></th>\n",
       "      <th></th>\n",
       "      <th></th>\n",
       "      <th></th>\n",
       "      <th></th>\n",
       "      <th></th>\n",
       "      <th></th>\n",
       "      <th></th>\n",
       "      <th></th>\n",
       "      <th></th>\n",
       "      <th></th>\n",
       "      <th></th>\n",
       "      <th></th>\n",
       "      <th></th>\n",
       "      <th></th>\n",
       "    </tr>\n",
       "  </thead>\n",
       "  <tbody>\n",
       "    <tr>\n",
       "      <th>0</th>\n",
       "      <td>1</td>\n",
       "      <td>2018-03-26 23:31:39</td>\n",
       "      <td>19.5</td>\n",
       "      <td>8.290000</td>\n",
       "      <td>delivered</td>\n",
       "      <td>2018-03-20 23:22:32</td>\n",
       "      <td>2018-03-20 23:35:35</td>\n",
       "      <td>2018-03-21 20:32:23</td>\n",
       "      <td>2018-03-28 13:06:40</td>\n",
       "      <td>2018-04-02 00:00:00</td>\n",
       "      <td>sao paulo</td>\n",
       "      <td>SP</td>\n",
       "      <td>sao paulo</td>\n",
       "      <td>SP</td>\n",
       "      <td>500.0</td>\n",
       "      <td>2057.0</td>\n",
       "    </tr>\n",
       "    <tr>\n",
       "      <th>1</th>\n",
       "      <td>1</td>\n",
       "      <td>2018-03-27 02:56:23</td>\n",
       "      <td>412.0</td>\n",
       "      <td>26.200001</td>\n",
       "      <td>delivered</td>\n",
       "      <td>2018-03-20 15:08:17</td>\n",
       "      <td>2018-03-21 02:56:23</td>\n",
       "      <td>2018-03-21 21:05:05</td>\n",
       "      <td>2018-04-02 23:32:55</td>\n",
       "      <td>2018-04-24 00:00:00</td>\n",
       "      <td>rio de janeiro</td>\n",
       "      <td>RJ</td>\n",
       "      <td>curitiba</td>\n",
       "      <td>PR</td>\n",
       "      <td>3000.0</td>\n",
       "      <td>18000.0</td>\n",
       "    </tr>\n",
       "    <tr>\n",
       "      <th>2</th>\n",
       "      <td>1</td>\n",
       "      <td>2018-03-01 02:35:49</td>\n",
       "      <td>412.0</td>\n",
       "      <td>17.090000</td>\n",
       "      <td>delivered</td>\n",
       "      <td>2018-02-23 15:00:35</td>\n",
       "      <td>2018-02-24 02:35:49</td>\n",
       "      <td>2018-02-26 19:55:39</td>\n",
       "      <td>2018-02-27 20:04:41</td>\n",
       "      <td>2018-03-09 00:00:00</td>\n",
       "      <td>curitiba</td>\n",
       "      <td>PR</td>\n",
       "      <td>curitiba</td>\n",
       "      <td>PR</td>\n",
       "      <td>3000.0</td>\n",
       "      <td>18000.0</td>\n",
       "    </tr>\n",
       "    <tr>\n",
       "      <th>3</th>\n",
       "      <td>1</td>\n",
       "      <td>2018-02-06 14:21:20</td>\n",
       "      <td>412.0</td>\n",
       "      <td>27.719999</td>\n",
       "      <td>delivered</td>\n",
       "      <td>2018-01-31 11:48:43</td>\n",
       "      <td>2018-01-31 14:21:20</td>\n",
       "      <td>2018-02-06 22:57:38</td>\n",
       "      <td>2018-02-20 18:44:57</td>\n",
       "      <td>2018-03-01 00:00:00</td>\n",
       "      <td>matao</td>\n",
       "      <td>SP</td>\n",
       "      <td>curitiba</td>\n",
       "      <td>PR</td>\n",
       "      <td>3000.0</td>\n",
       "      <td>18000.0</td>\n",
       "    </tr>\n",
       "    <tr>\n",
       "      <th>4</th>\n",
       "      <td>1</td>\n",
       "      <td>2018-01-23 17:50:48</td>\n",
       "      <td>412.0</td>\n",
       "      <td>27.719999</td>\n",
       "      <td>delivered</td>\n",
       "      <td>2018-01-17 17:34:42</td>\n",
       "      <td>2018-01-17 17:50:48</td>\n",
       "      <td>2018-01-19 18:32:14</td>\n",
       "      <td>2018-01-31 19:22:56</td>\n",
       "      <td>2018-02-14 00:00:00</td>\n",
       "      <td>amparo</td>\n",
       "      <td>SP</td>\n",
       "      <td>curitiba</td>\n",
       "      <td>PR</td>\n",
       "      <td>3000.0</td>\n",
       "      <td>18000.0</td>\n",
       "    </tr>\n",
       "  </tbody>\n",
       "</table>\n",
       "</div>"
      ],
      "text/plain": [
       "       order_item_id  shipping_limit_date  price  freight_value order_status  \\\n",
       "index                                                                          \n",
       "0                  1  2018-03-26 23:31:39   19.5       8.290000    delivered   \n",
       "1                  1  2018-03-27 02:56:23  412.0      26.200001    delivered   \n",
       "2                  1  2018-03-01 02:35:49  412.0      17.090000    delivered   \n",
       "3                  1  2018-02-06 14:21:20  412.0      27.719999    delivered   \n",
       "4                  1  2018-01-23 17:50:48  412.0      27.719999    delivered   \n",
       "\n",
       "      order_purchase_timestamp    order_approved_at  \\\n",
       "index                                                 \n",
       "0          2018-03-20 23:22:32  2018-03-20 23:35:35   \n",
       "1          2018-03-20 15:08:17  2018-03-21 02:56:23   \n",
       "2          2018-02-23 15:00:35  2018-02-24 02:35:49   \n",
       "3          2018-01-31 11:48:43  2018-01-31 14:21:20   \n",
       "4          2018-01-17 17:34:42  2018-01-17 17:50:48   \n",
       "\n",
       "      order_delivered_carrier_date order_delivered_customer_date  \\\n",
       "index                                                              \n",
       "0              2018-03-21 20:32:23           2018-03-28 13:06:40   \n",
       "1              2018-03-21 21:05:05           2018-04-02 23:32:55   \n",
       "2              2018-02-26 19:55:39           2018-02-27 20:04:41   \n",
       "3              2018-02-06 22:57:38           2018-02-20 18:44:57   \n",
       "4              2018-01-19 18:32:14           2018-01-31 19:22:56   \n",
       "\n",
       "      order_estimated_delivery_date   customer_city customer_state  \\\n",
       "index                                                                \n",
       "0               2018-04-02 00:00:00       sao paulo             SP   \n",
       "1               2018-04-24 00:00:00  rio de janeiro             RJ   \n",
       "2               2018-03-09 00:00:00        curitiba             PR   \n",
       "3               2018-03-01 00:00:00           matao             SP   \n",
       "4               2018-02-14 00:00:00          amparo             SP   \n",
       "\n",
       "      seller_city seller_state  weight   volume  \n",
       "index                                            \n",
       "0       sao paulo           SP   500.0   2057.0  \n",
       "1        curitiba           PR  3000.0  18000.0  \n",
       "2        curitiba           PR  3000.0  18000.0  \n",
       "3        curitiba           PR  3000.0  18000.0  \n",
       "4        curitiba           PR  3000.0  18000.0  "
      ]
     },
     "execution_count": 20,
     "metadata": {},
     "output_type": "execute_result"
    }
   ],
   "source": [
    "clean = '../../datas/CLEAN/E2/'\n",
    "\n",
    "con = sqlite3.connect(clean + 'E2.db')\n",
    "df = pd.read_sql('select * from clean_data', con, index_col='index')\n",
    "\n",
    "con.close()\n",
    "\n",
    "df[df.columns[:16]].head(5)"
   ]
  },
  {
   "cell_type": "markdown",
   "metadata": {},
   "source": [
    "# Calcul des differentes distances"
   ]
  },
  {
   "cell_type": "code",
   "execution_count": 22,
   "metadata": {},
   "outputs": [
    {
     "name": "stdout",
     "output_type": "stream",
     "text": [
      "<class 'pandas.core.frame.DataFrame'>\n",
      "Int64Index: 108636 entries, 0 to 108635\n",
      "Data columns (total 5 columns):\n",
      " #   Column                         Non-Null Count   Dtype         \n",
      "---  ------                         --------------   -----         \n",
      " 0   order_purchase_timestamp       108636 non-null  datetime64[ns]\n",
      " 1   order_approved_at              108636 non-null  datetime64[ns]\n",
      " 2   order_delivered_carrier_date   108636 non-null  datetime64[ns]\n",
      " 3   order_delivered_customer_date  108636 non-null  datetime64[ns]\n",
      " 4   order_estimated_delivery_date  108636 non-null  datetime64[ns]\n",
      "dtypes: datetime64[ns](5)\n",
      "memory usage: 5.0 MB\n"
     ]
    }
   ],
   "source": [
    "for col in df.columns[5:10]:\n",
    "    df[col] = pd.to_datetime(df[col])\n",
    "\n",
    "df[df.columns[5:10]].info()"
   ]
  },
  {
   "cell_type": "code",
   "execution_count": 52,
   "metadata": {},
   "outputs": [
    {
     "data": {
      "text/plain": [
       "count    108636.000000\n",
       "mean         12.467263\n",
       "std           9.434257\n",
       "min           0.533414\n",
       "25%           6.734311\n",
       "50%          10.182257\n",
       "75%          15.532130\n",
       "max         209.628611\n",
       "dtype: float64"
      ]
     },
     "execution_count": 52,
     "metadata": {},
     "output_type": "execute_result"
    }
   ],
   "source": [
    "temp = df.iloc[0:4]\n",
    "\n",
    "target = pd.Series(\n",
    "    [\n",
    "        (end - start).total_seconds()/60/60/24\n",
    "        for end, start in df[['order_delivered_customer_date', 'order_purchase_timestamp']].itertuples(index=False)\n",
    "    ]\n",
    ")\n",
    "\n",
    "target.describe()"
   ]
  },
  {
   "cell_type": "code",
   "execution_count": 58,
   "metadata": {},
   "outputs": [
    {
     "data": {
      "text/plain": [
       "<AxesSubplot:>"
      ]
     },
     "execution_count": 58,
     "metadata": {},
     "output_type": "execute_result"
    },
    {
     "data": {
      "image/png": "[encoded data removed]",
      "text/plain": [
       "<Figure size 432x288 with 1 Axes>"
      ]
     },
     "metadata": {
      "needs_background": "light"
     },
     "output_type": "display_data"
    }
   ],
   "source": [
    "target.hist(bins=50)"
   ]
  },
  {
   "cell_type": "code",
   "execution_count": 61,
   "metadata": {},
   "outputs": [
    {
     "data": {
      "text/plain": [
       "count    108636.000000\n",
       "mean         12.467263\n",
       "std           9.434257\n",
       "min           0.533414\n",
       "25%           6.734311\n",
       "50%          10.182257\n",
       "75%          15.532130\n",
       "max         209.628611\n",
       "dtype: float64"
      ]
     },
     "execution_count": 61,
     "metadata": {},
     "output_type": "execute_result"
    }
   ],
   "source": [
    "target.describe()"
   ]
  },
  {
   "cell_type": "code",
   "execution_count": 56,
   "metadata": {},
   "outputs": [
    {
     "data": {
      "text/plain": [
       "0          7.572315\n",
       "1         13.350440\n",
       "2          4.211181\n",
       "3         20.289051\n",
       "4         14.075162\n",
       "            ...    \n",
       "108630    22.748738\n",
       "108631     4.349606\n",
       "108632    18.109225\n",
       "108633    16.048403\n",
       "108634     7.671574\n",
       "Length: 106822, dtype: float64"
      ]
     },
     "execution_count": 56,
     "metadata": {},
     "output_type": "execute_result"
    }
   ],
   "source": [
    "from scipy.stats import zscore\n",
    "clean_target = target[np.abs(zscore(target)) < 3]\n",
    "clean_target"
   ]
  },
  {
   "cell_type": "code",
   "execution_count": 57,
   "metadata": {},
   "outputs": [
    {
     "data": {
      "text/plain": [
       "<AxesSubplot:>"
      ]
     },
     "execution_count": 57,
     "metadata": {},
     "output_type": "execute_result"
    },
    {
     "data": {
      "image/png": "[encoded data removed]",
      "text/plain": [
       "<Figure size 432x288 with 1 Axes>"
      ]
     },
     "metadata": {
      "needs_background": "light"
     },
     "output_type": "display_data"
    }
   ],
   "source": [
    "clean_target.hist()"
   ]
  }
 ],
 "metadata": {
  "interpreter": {
   "hash": "b4e0f46da02f9850f267e2781d63d0f02c45fa623264b236c8ad258f9318af4a"
  },
  "kernelspec": {
   "display_name": "Python 3.9.7 64-bit ('E2': conda)",
   "language": "python",
   "name": "python3"
  },
  "language_info": {
   "codemirror_mode": {
    "name": "ipython",
    "version": 3
   },
   "file_extension": ".py",
   "mimetype": "text/x-python",
   "name": "python",
   "nbconvert_exporter": "python",
   "pygments_lexer": "ipython3",
   "version": "3.9.7"
  },
  "orig_nbformat": 4
 },
 "nbformat": 4,
 "nbformat_minor": 2
}
