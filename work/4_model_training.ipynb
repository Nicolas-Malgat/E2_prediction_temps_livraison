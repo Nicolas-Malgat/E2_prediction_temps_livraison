{
 "cells": [
  {
   "cell_type": "code",
   "execution_count": 1,
   "metadata": {},
   "outputs": [],
   "source": [
    "import pandas as pd\n",
    "import numpy as np\n",
    "import sqlite3\n",
    "\n",
    "from sklearn.model_selection import GridSearchCV\n",
    "from sklearn.metrics import mean_squared_error, \\\n",
    "                            mean_absolute_error, \\\n",
    "                            r2_score\n",
    "from sklearn.metrics import make_scorer\n",
    "from sklearn.linear_model import \\\n",
    "    ElasticNet, \\\n",
    "    Lasso\n",
    "\n",
    "import time"
   ]
  },
  {
   "cell_type": "code",
   "execution_count": 2,
   "metadata": {},
   "outputs": [
    {
     "data": {
      "text/plain": [
       "((99411, 20), (99411, 1))"
      ]
     },
     "execution_count": 2,
     "metadata": {},
     "output_type": "execute_result"
    }
   ],
   "source": [
    "clean = '../../datas/CLEAN/E2/'\n",
    "\n",
    "con = sqlite3.connect(clean + 'E2.db')\n",
    "X = pd.read_sql('select * from X', con, index_col='index')\n",
    "y = pd.read_sql('select * from y', con, index_col='index')\n",
    "\n",
    "con.close()\n",
    "\n",
    "X.shape, y.shape"
   ]
  },
  {
   "cell_type": "code",
   "execution_count": 3,
   "metadata": {},
   "outputs": [],
   "source": [
    "model = ElasticNet(random_state=0)\n",
    "# model = Lasso(random_state=0)\n",
    "\n",
    "scorers = {\n",
    "    'MSE': make_scorer(mean_squared_error, greater_is_better=False),\n",
    "    'RMSE': make_scorer(mean_squared_error, greater_is_better=False, squared=False),\n",
    "    'MAE': make_scorer(mean_absolute_error, greater_is_better=False),\n",
    "    'R2':  make_scorer(r2_score, greater_is_better=True)\n",
    "}\n",
    "params = {\n",
    "    'alpha': [1e-5, 1e-2, 1e-1, 1],\n",
    "    # 'alpha': [1e-5, 1e-4, 1e-3, 1e-2, 1e-1],\n",
    "    'l1_ratio': np.arange(0.1, 0.9, 0.25)\n",
    "}\n",
    "grid = GridSearchCV(\n",
    "    estimator=model, \n",
    "    param_grid=params, \n",
    "    cv=3,\n",
    "    scoring=scorers,\n",
    "    refit='MSE',\n",
    "    n_jobs=-1\n",
    ")"
   ]
  },
  {
   "cell_type": "code",
   "execution_count": 4,
   "metadata": {},
   "outputs": [
    {
     "name": "stdout",
     "output_type": "stream",
     "text": [
      "--- 5.7 seconds ---\n"
     ]
    }
   ],
   "source": [
    "start_time = time.time()\n",
    "\n",
    "result = grid.fit(X, y)\n",
    "\n",
    "print(\"--- %.3s seconds ---\" % (time.time() - start_time))"
   ]
  },
  {
   "cell_type": "code",
   "execution_count": 5,
   "metadata": {},
   "outputs": [
    {
     "name": "stdout",
     "output_type": "stream",
     "text": [
      "{'alpha': 0.01, 'l1_ratio': 0.8499999999999999} -34.219175492069894 \n",
      "\n",
      "{'alpha': 1e-05, 'l1_ratio': 0.1} \t-34.79\t-5.90\t-4.30\t0.292\n",
      "{'alpha': 1e-05, 'l1_ratio': 0.35} \t-34.79\t-5.90\t-4.30\t0.292\n",
      "{'alpha': 1e-05, 'l1_ratio': 0.6} \t-34.79\t-5.90\t-4.30\t0.292\n",
      "{'alpha': 1e-05, 'l1_ratio': 0.8499999999999999} \t-34.80\t-5.90\t-4.30\t0.292\n",
      "{'alpha': 0.01, 'l1_ratio': 0.1} \t-34.25\t-5.85\t-4.29\t0.303\n",
      "{'alpha': 0.01, 'l1_ratio': 0.35} \t-34.23\t-5.85\t-4.29\t0.303\n",
      "{'alpha': 0.01, 'l1_ratio': 0.6} \t-34.22\t-5.85\t-4.29\t0.303\n",
      "{'alpha': 0.01, 'l1_ratio': 0.8499999999999999} \t-34.22\t-5.85\t-4.29\t0.303\n",
      "{'alpha': 0.1, 'l1_ratio': 0.1} \t-35.02\t-5.92\t-4.35\t0.287\n",
      "{'alpha': 0.1, 'l1_ratio': 0.35} \t-35.05\t-5.92\t-4.35\t0.287\n"
     ]
    }
   ],
   "source": [
    "print(grid.best_params_, grid.best_score_, '\\n')\n",
    "stop_int = 10\n",
    "for param, mse, rmse, absolute, r2, stop in zip(\n",
    "        grid.cv_results_['params'], \n",
    "        grid.cv_results_['mean_test_MSE'], \n",
    "        grid.cv_results_['mean_test_RMSE'], \n",
    "        grid.cv_results_['mean_test_MAE'], \n",
    "        grid.cv_results_['mean_test_R2'], \n",
    "        range(stop_int)\n",
    "    ):\n",
    "    if stop == stop_int: break\n",
    "    print(param, '\\t%.2f\\t%.2f\\t%.2f\\t%.3f' %(mse, rmse, absolute, r2))"
   ]
  },
  {
   "cell_type": "markdown",
   "metadata": {},
   "source": [
    "# Sauvegarde du modèle"
   ]
  },
  {
   "cell_type": "code",
   "execution_count": 6,
   "metadata": {},
   "outputs": [],
   "source": [
    "from joblib import dump, load\n",
    "from pathlib import Path\n",
    "\n",
    "dossier_pickle = 'pickle/'\n",
    "Path(dossier_pickle).mkdir(parents=True, exist_ok=True)\n",
    "dump(grid.best_estimator_, dossier_pickle + 'model' + '.pkl')"
   ]
  }
 ],
 "metadata": {
  "interpreter": {
   "hash": "b4e0f46da02f9850f267e2781d63d0f02c45fa623264b236c8ad258f9318af4a"
  },
  "kernelspec": {
   "display_name": "Python 3.9.7 64-bit ('E2': conda)",
   "language": "python",
   "name": "python3"
  },
  "language_info": {
   "codemirror_mode": {
    "name": "ipython",
    "version": 3
   },
   "file_extension": ".py",
   "mimetype": "text/x-python",
   "name": "python",
   "nbconvert_exporter": "python",
   "pygments_lexer": "ipython3",
   "version": "3.9.7"
  },
  "orig_nbformat": 4
 },
 "nbformat": 4,
 "nbformat_minor": 2
}
