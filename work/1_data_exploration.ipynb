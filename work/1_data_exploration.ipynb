{
 "cells": [
  {
   "cell_type": "markdown",
   "metadata": {},
   "source": [
    "# Exploration des données"
   ]
  },
  {
   "cell_type": "code",
   "execution_count": 70,
   "metadata": {},
   "outputs": [
    {
     "name": "stdout",
     "output_type": "stream",
     "text": [
      "The autoreload extension is already loaded. To reload it, use:\n",
      "  %reload_ext autoreload\n"
     ]
    }
   ],
   "source": [
    "%load_ext autoreload\n",
    "%autoreload 2\n",
    "\n",
    "import pandas as pd\n",
    "import numpy as np\n",
    "import matplotlib.pyplot as plt\n",
    "\n",
    "import seaborn as sns\n",
    "\n",
    "from modules.loader import Loader\n",
    "from modules.data_cleaning import apply_zscore\n",
    "sns.set(rc = {'figure.figsize':(20,5)})\n",
    "\n",
    "raw = '../../datas/RAW/E2/'\n",
    "dfs = []"
   ]
  },
  {
   "cell_type": "markdown",
   "metadata": {},
   "source": [
    "# Extraction des donnees"
   ]
  },
  {
   "cell_type": "code",
   "execution_count": 71,
   "metadata": {},
   "outputs": [
    {
     "name": "stdout",
     "output_type": "stream",
     "text": [
      "Extracted 9 files in '../../datas/RAW/E2/'\n"
     ]
    }
   ],
   "source": [
    "Loader.extract_data(\n",
    "    '../../datas/RAW/E2/',\n",
    "    '../../datas/ZIP/archive.zip'\n",
    ")"
   ]
  },
  {
   "cell_type": "markdown",
   "metadata": {},
   "source": [
    "## Exploration de la geolocalisation"
   ]
  },
  {
   "cell_type": "code",
   "execution_count": 72,
   "metadata": {},
   "outputs": [
    {
     "name": "stdout",
     "output_type": "stream",
     "text": [
      "(1000163, 5)\n"
     ]
    },
    {
     "data": {
      "text/html": [
       "<div>\n",
       "<style scoped>\n",
       "    .dataframe tbody tr th:only-of-type {\n",
       "        vertical-align: middle;\n",
       "    }\n",
       "\n",
       "    .dataframe tbody tr th {\n",
       "        vertical-align: top;\n",
       "    }\n",
       "\n",
       "    .dataframe thead th {\n",
       "        text-align: right;\n",
       "    }\n",
       "</style>\n",
       "<table border=\"1\" class=\"dataframe\">\n",
       "  <thead>\n",
       "    <tr style=\"text-align: right;\">\n",
       "      <th></th>\n",
       "      <th>geolocation_zip_code_prefix</th>\n",
       "      <th>geolocation_lat</th>\n",
       "      <th>geolocation_lng</th>\n",
       "      <th>geolocation_city</th>\n",
       "      <th>geolocation_state</th>\n",
       "    </tr>\n",
       "  </thead>\n",
       "  <tbody>\n",
       "    <tr>\n",
       "      <th>0</th>\n",
       "      <td>1037</td>\n",
       "      <td>-23.545621</td>\n",
       "      <td>-46.639292</td>\n",
       "      <td>sao paulo</td>\n",
       "      <td>SP</td>\n",
       "    </tr>\n",
       "    <tr>\n",
       "      <th>1</th>\n",
       "      <td>1046</td>\n",
       "      <td>-23.546081</td>\n",
       "      <td>-46.644820</td>\n",
       "      <td>sao paulo</td>\n",
       "      <td>SP</td>\n",
       "    </tr>\n",
       "    <tr>\n",
       "      <th>2</th>\n",
       "      <td>1046</td>\n",
       "      <td>-23.546129</td>\n",
       "      <td>-46.642951</td>\n",
       "      <td>sao paulo</td>\n",
       "      <td>SP</td>\n",
       "    </tr>\n",
       "    <tr>\n",
       "      <th>3</th>\n",
       "      <td>1041</td>\n",
       "      <td>-23.544392</td>\n",
       "      <td>-46.639499</td>\n",
       "      <td>sao paulo</td>\n",
       "      <td>SP</td>\n",
       "    </tr>\n",
       "    <tr>\n",
       "      <th>4</th>\n",
       "      <td>1035</td>\n",
       "      <td>-23.541578</td>\n",
       "      <td>-46.641607</td>\n",
       "      <td>sao paulo</td>\n",
       "      <td>SP</td>\n",
       "    </tr>\n",
       "  </tbody>\n",
       "</table>\n",
       "</div>"
      ],
      "text/plain": [
       "   geolocation_zip_code_prefix  geolocation_lat  geolocation_lng  \\\n",
       "0                         1037       -23.545621       -46.639292   \n",
       "1                         1046       -23.546081       -46.644820   \n",
       "2                         1046       -23.546129       -46.642951   \n",
       "3                         1041       -23.544392       -46.639499   \n",
       "4                         1035       -23.541578       -46.641607   \n",
       "\n",
       "  geolocation_city geolocation_state  \n",
       "0        sao paulo                SP  \n",
       "1        sao paulo                SP  \n",
       "2        sao paulo                SP  \n",
       "3        sao paulo                SP  \n",
       "4        sao paulo                SP  "
      ]
     },
     "execution_count": 72,
     "metadata": {},
     "output_type": "execute_result"
    }
   ],
   "source": [
    "geolocalisation = pd.read_csv(raw + 'olist_geolocation_dataset.csv')\n",
    "dfs.append(geolocalisation)\n",
    "print(geolocalisation.shape)\n",
    "geolocalisation.head(5)"
   ]
  },
  {
   "cell_type": "code",
   "execution_count": 73,
   "metadata": {},
   "outputs": [
    {
     "name": "stdout",
     "output_type": "stream",
     "text": [
      "nb villes:  8011 \n",
      " ['sao paulo' 'são paulo' 'sao bernardo do campo' ... 'ciríaco' 'estação'\n",
      " 'vila lângaro']\n",
      "nb etats:  27 \n",
      " ['SP' 'RN' 'AC' 'RJ' 'ES' 'MG' 'BA' 'SE' 'PE' 'AL' 'PB' 'CE' 'PI' 'MA'\n",
      " 'PA' 'AP' 'AM' 'RR' 'DF' 'GO' 'RO' 'TO' 'MT' 'MS' 'RS' 'PR' 'SC']\n"
     ]
    }
   ],
   "source": [
    "print('nb villes: ', len(geolocalisation.geolocation_city.unique()), '\\n', geolocalisation.geolocation_city.unique())\n",
    "print('nb etats: ', len(geolocalisation.geolocation_state.unique()), '\\n', geolocalisation.geolocation_state.unique())"
   ]
  },
  {
   "cell_type": "markdown",
   "metadata": {},
   "source": [
    "![Population of brazil by state](documentation\\2012_population_by_state.png)"
   ]
  },
  {
   "cell_type": "code",
   "execution_count": 74,
   "metadata": {},
   "outputs": [
    {
     "data": {
      "image/png": "[encoded data removed]",
      "text/plain": [
       "<Figure size 936x432 with 1 Axes>"
      ]
     },
     "metadata": {},
     "output_type": "display_data"
    }
   ],
   "source": [
    "geolocalisation.geolocation_state.value_counts().plot(kind='barh', figsize=(13,6));"
   ]
  },
  {
   "cell_type": "markdown",
   "metadata": {},
   "source": [
    "# Table customer"
   ]
  },
  {
   "cell_type": "code",
   "execution_count": 75,
   "metadata": {},
   "outputs": [
    {
     "name": "stdout",
     "output_type": "stream",
     "text": [
      "(99441, 5)\n"
     ]
    },
    {
     "data": {
      "text/html": [
       "<div>\n",
       "<style scoped>\n",
       "    .dataframe tbody tr th:only-of-type {\n",
       "        vertical-align: middle;\n",
       "    }\n",
       "\n",
       "    .dataframe tbody tr th {\n",
       "        vertical-align: top;\n",
       "    }\n",
       "\n",
       "    .dataframe thead th {\n",
       "        text-align: right;\n",
       "    }\n",
       "</style>\n",
       "<table border=\"1\" class=\"dataframe\">\n",
       "  <thead>\n",
       "    <tr style=\"text-align: right;\">\n",
       "      <th></th>\n",
       "      <th>customer_id</th>\n",
       "      <th>customer_unique_id</th>\n",
       "      <th>customer_zip_code_prefix</th>\n",
       "      <th>customer_city</th>\n",
       "      <th>customer_state</th>\n",
       "    </tr>\n",
       "  </thead>\n",
       "  <tbody>\n",
       "    <tr>\n",
       "      <th>0</th>\n",
       "      <td>06b8999e2fba1a1fbc88172c00ba8bc7</td>\n",
       "      <td>861eff4711a542e4b93843c6dd7febb0</td>\n",
       "      <td>14409</td>\n",
       "      <td>franca</td>\n",
       "      <td>SP</td>\n",
       "    </tr>\n",
       "    <tr>\n",
       "      <th>1</th>\n",
       "      <td>18955e83d337fd6b2def6b18a428ac77</td>\n",
       "      <td>290c77bc529b7ac935b93aa66c333dc3</td>\n",
       "      <td>9790</td>\n",
       "      <td>sao bernardo do campo</td>\n",
       "      <td>SP</td>\n",
       "    </tr>\n",
       "    <tr>\n",
       "      <th>2</th>\n",
       "      <td>4e7b3e00288586ebd08712fdd0374a03</td>\n",
       "      <td>060e732b5b29e8181a18229c7b0b2b5e</td>\n",
       "      <td>1151</td>\n",
       "      <td>sao paulo</td>\n",
       "      <td>SP</td>\n",
       "    </tr>\n",
       "    <tr>\n",
       "      <th>3</th>\n",
       "      <td>b2b6027bc5c5109e529d4dc6358b12c3</td>\n",
       "      <td>259dac757896d24d7702b9acbbff3f3c</td>\n",
       "      <td>8775</td>\n",
       "      <td>mogi das cruzes</td>\n",
       "      <td>SP</td>\n",
       "    </tr>\n",
       "    <tr>\n",
       "      <th>4</th>\n",
       "      <td>4f2d8ab171c80ec8364f7c12e35b23ad</td>\n",
       "      <td>345ecd01c38d18a9036ed96c73b8d066</td>\n",
       "      <td>13056</td>\n",
       "      <td>campinas</td>\n",
       "      <td>SP</td>\n",
       "    </tr>\n",
       "  </tbody>\n",
       "</table>\n",
       "</div>"
      ],
      "text/plain": [
       "                        customer_id                customer_unique_id  \\\n",
       "0  06b8999e2fba1a1fbc88172c00ba8bc7  861eff4711a542e4b93843c6dd7febb0   \n",
       "1  18955e83d337fd6b2def6b18a428ac77  290c77bc529b7ac935b93aa66c333dc3   \n",
       "2  4e7b3e00288586ebd08712fdd0374a03  060e732b5b29e8181a18229c7b0b2b5e   \n",
       "3  b2b6027bc5c5109e529d4dc6358b12c3  259dac757896d24d7702b9acbbff3f3c   \n",
       "4  4f2d8ab171c80ec8364f7c12e35b23ad  345ecd01c38d18a9036ed96c73b8d066   \n",
       "\n",
       "   customer_zip_code_prefix          customer_city customer_state  \n",
       "0                     14409                 franca             SP  \n",
       "1                      9790  sao bernardo do campo             SP  \n",
       "2                      1151              sao paulo             SP  \n",
       "3                      8775        mogi das cruzes             SP  \n",
       "4                     13056               campinas             SP  "
      ]
     },
     "execution_count": 75,
     "metadata": {},
     "output_type": "execute_result"
    }
   ],
   "source": [
    "customer = pd.read_csv(raw + 'olist_customers_dataset.csv')\n",
    "dfs.append(customer)\n",
    "print(customer.shape)\n",
    "customer.head(5)"
   ]
  },
  {
   "cell_type": "code",
   "execution_count": 76,
   "metadata": {},
   "outputs": [
    {
     "name": "stdout",
     "output_type": "stream",
     "text": [
      "nb villes:  4119 \n",
      " ['franca' 'sao bernardo do campo' 'sao paulo' ... 'monte bonito'\n",
      " 'sao rafael' 'eugenio de castro']\n",
      "nb etats:  27 \n",
      " ['SP' 'SC' 'MG' 'PR' 'RJ' 'RS' 'PA' 'GO' 'ES' 'BA' 'MA' 'MS' 'CE' 'DF'\n",
      " 'RN' 'PE' 'MT' 'AM' 'AP' 'AL' 'RO' 'PB' 'TO' 'PI' 'AC' 'SE' 'RR']\n"
     ]
    }
   ],
   "source": [
    "print('nb villes: ', len(customer.customer_city.unique()), '\\n', customer.customer_city.unique())\n",
    "print('nb etats: ', len(customer.customer_state.unique()), '\\n', customer.customer_state.unique())"
   ]
  },
  {
   "cell_type": "markdown",
   "metadata": {},
   "source": [
    "# Table orders"
   ]
  },
  {
   "cell_type": "code",
   "execution_count": 81,
   "metadata": {},
   "outputs": [
    {
     "name": "stdout",
     "output_type": "stream",
     "text": [
      "(99441, 8)\n"
     ]
    },
    {
     "data": {
      "text/html": [
       "<div>\n",
       "<style scoped>\n",
       "    .dataframe tbody tr th:only-of-type {\n",
       "        vertical-align: middle;\n",
       "    }\n",
       "\n",
       "    .dataframe tbody tr th {\n",
       "        vertical-align: top;\n",
       "    }\n",
       "\n",
       "    .dataframe thead th {\n",
       "        text-align: right;\n",
       "    }\n",
       "</style>\n",
       "<table border=\"1\" class=\"dataframe\">\n",
       "  <thead>\n",
       "    <tr style=\"text-align: right;\">\n",
       "      <th></th>\n",
       "      <th>order_id</th>\n",
       "      <th>customer_id</th>\n",
       "      <th>order_status</th>\n",
       "      <th>order_purchase_timestamp</th>\n",
       "      <th>order_approved_at</th>\n",
       "      <th>order_delivered_carrier_date</th>\n",
       "      <th>order_delivered_customer_date</th>\n",
       "      <th>order_estimated_delivery_date</th>\n",
       "    </tr>\n",
       "  </thead>\n",
       "  <tbody>\n",
       "    <tr>\n",
       "      <th>0</th>\n",
       "      <td>e481f51cbdc54678b7cc49136f2d6af7</td>\n",
       "      <td>9ef432eb6251297304e76186b10a928d</td>\n",
       "      <td>delivered</td>\n",
       "      <td>2017-10-02 10:56:33</td>\n",
       "      <td>2017-10-02 11:07:15</td>\n",
       "      <td>2017-10-04 19:55:00</td>\n",
       "      <td>2017-10-10 21:25:13</td>\n",
       "      <td>2017-10-18 00:00:00</td>\n",
       "    </tr>\n",
       "    <tr>\n",
       "      <th>1</th>\n",
       "      <td>53cdb2fc8bc7dce0b6741e2150273451</td>\n",
       "      <td>b0830fb4747a6c6d20dea0b8c802d7ef</td>\n",
       "      <td>delivered</td>\n",
       "      <td>2018-07-24 20:41:37</td>\n",
       "      <td>2018-07-26 03:24:27</td>\n",
       "      <td>2018-07-26 14:31:00</td>\n",
       "      <td>2018-08-07 15:27:45</td>\n",
       "      <td>2018-08-13 00:00:00</td>\n",
       "    </tr>\n",
       "    <tr>\n",
       "      <th>2</th>\n",
       "      <td>47770eb9100c2d0c44946d9cf07ec65d</td>\n",
       "      <td>41ce2a54c0b03bf3443c3d931a367089</td>\n",
       "      <td>delivered</td>\n",
       "      <td>2018-08-08 08:38:49</td>\n",
       "      <td>2018-08-08 08:55:23</td>\n",
       "      <td>2018-08-08 13:50:00</td>\n",
       "      <td>2018-08-17 18:06:29</td>\n",
       "      <td>2018-09-04 00:00:00</td>\n",
       "    </tr>\n",
       "    <tr>\n",
       "      <th>3</th>\n",
       "      <td>949d5b44dbf5de918fe9c16f97b45f8a</td>\n",
       "      <td>f88197465ea7920adcdbec7375364d82</td>\n",
       "      <td>delivered</td>\n",
       "      <td>2017-11-18 19:28:06</td>\n",
       "      <td>2017-11-18 19:45:59</td>\n",
       "      <td>2017-11-22 13:39:59</td>\n",
       "      <td>2017-12-02 00:28:42</td>\n",
       "      <td>2017-12-15 00:00:00</td>\n",
       "    </tr>\n",
       "    <tr>\n",
       "      <th>4</th>\n",
       "      <td>ad21c59c0840e6cb83a9ceb5573f8159</td>\n",
       "      <td>8ab97904e6daea8866dbdbc4fb7aad2c</td>\n",
       "      <td>delivered</td>\n",
       "      <td>2018-02-13 21:18:39</td>\n",
       "      <td>2018-02-13 22:20:29</td>\n",
       "      <td>2018-02-14 19:46:34</td>\n",
       "      <td>2018-02-16 18:17:02</td>\n",
       "      <td>2018-02-26 00:00:00</td>\n",
       "    </tr>\n",
       "  </tbody>\n",
       "</table>\n",
       "</div>"
      ],
      "text/plain": [
       "                           order_id                       customer_id  \\\n",
       "0  e481f51cbdc54678b7cc49136f2d6af7  9ef432eb6251297304e76186b10a928d   \n",
       "1  53cdb2fc8bc7dce0b6741e2150273451  b0830fb4747a6c6d20dea0b8c802d7ef   \n",
       "2  47770eb9100c2d0c44946d9cf07ec65d  41ce2a54c0b03bf3443c3d931a367089   \n",
       "3  949d5b44dbf5de918fe9c16f97b45f8a  f88197465ea7920adcdbec7375364d82   \n",
       "4  ad21c59c0840e6cb83a9ceb5573f8159  8ab97904e6daea8866dbdbc4fb7aad2c   \n",
       "\n",
       "  order_status order_purchase_timestamp    order_approved_at  \\\n",
       "0    delivered      2017-10-02 10:56:33  2017-10-02 11:07:15   \n",
       "1    delivered      2018-07-24 20:41:37  2018-07-26 03:24:27   \n",
       "2    delivered      2018-08-08 08:38:49  2018-08-08 08:55:23   \n",
       "3    delivered      2017-11-18 19:28:06  2017-11-18 19:45:59   \n",
       "4    delivered      2018-02-13 21:18:39  2018-02-13 22:20:29   \n",
       "\n",
       "  order_delivered_carrier_date order_delivered_customer_date  \\\n",
       "0          2017-10-04 19:55:00           2017-10-10 21:25:13   \n",
       "1          2018-07-26 14:31:00           2018-08-07 15:27:45   \n",
       "2          2018-08-08 13:50:00           2018-08-17 18:06:29   \n",
       "3          2017-11-22 13:39:59           2017-12-02 00:28:42   \n",
       "4          2018-02-14 19:46:34           2018-02-16 18:17:02   \n",
       "\n",
       "  order_estimated_delivery_date  \n",
       "0           2017-10-18 00:00:00  \n",
       "1           2018-08-13 00:00:00  \n",
       "2           2018-09-04 00:00:00  \n",
       "3           2017-12-15 00:00:00  \n",
       "4           2018-02-26 00:00:00  "
      ]
     },
     "execution_count": 81,
     "metadata": {},
     "output_type": "execute_result"
    }
   ],
   "source": [
    "order = pd.read_csv(raw + 'olist_orders_dataset.csv')\n",
    "order.order_purchase_timestamp = pd.to_datetime(order.order_purchase_timestamp)\n",
    "dfs.append(order)\n",
    "\n",
    "print(order.shape)\n",
    "order.head(5)"
   ]
  },
  {
   "cell_type": "code",
   "execution_count": 82,
   "metadata": {},
   "outputs": [
    {
     "name": "stdout",
     "output_type": "stream",
     "text": [
      "Status:  ['delivered' 'invoiced' 'shipped' 'processing' 'unavailable' 'canceled'\n",
      " 'created' 'approved']\n"
     ]
    },
    {
     "data": {
      "text/plain": [
       "delivered      96478\n",
       "shipped         1107\n",
       "canceled         625\n",
       "unavailable      609\n",
       "invoiced         314\n",
       "processing       301\n",
       "created            5\n",
       "approved           2\n",
       "Name: order_status, dtype: int64"
      ]
     },
     "execution_count": 82,
     "metadata": {},
     "output_type": "execute_result"
    }
   ],
   "source": [
    "print('Status: ', order.order_status.unique())\n",
    "order['order_status'].value_counts()"
   ]
  },
  {
   "cell_type": "code",
   "execution_count": 91,
   "metadata": {},
   "outputs": [
    {
     "data": {
      "text/plain": [
       "(25,)"
      ]
     },
     "execution_count": 91,
     "metadata": {},
     "output_type": "execute_result"
    }
   ],
   "source": [
    "order['year_month'] = order.order_purchase_timestamp.apply(\n",
    "    lambda x: \n",
    "    '{:0d}-{:02d}'.format(x.date().year, x.date().month)\n",
    ")\n",
    "order.year_month.unique().shape"
   ]
  },
  {
   "cell_type": "code",
   "execution_count": 92,
   "metadata": {},
   "outputs": [
    {
     "data": {
      "image/png": "[encoded data removed]",
      "text/plain": [
       "<Figure size 1440x360 with 1 Axes>"
      ]
     },
     "metadata": {},
     "output_type": "display_data"
    }
   ],
   "source": [
    "sns.histplot(x='year_month', data=order, bins=25);"
   ]
  },
  {
   "cell_type": "code",
   "execution_count": 95,
   "metadata": {},
   "outputs": [],
   "source": [
    "import plotly.express as px\n",
    "\n",
    "fig = px.histogram(data_frame=order, x='year_month', nbins=25)\n",
    "fig.write_html(\"plots/frequence_commandes.html\")"
   ]
  },
  {
   "cell_type": "markdown",
   "metadata": {},
   "source": [
    "# Table order items"
   ]
  },
  {
   "cell_type": "code",
   "execution_count": null,
   "metadata": {},
   "outputs": [
    {
     "name": "stdout",
     "output_type": "stream",
     "text": [
      "(112650, 7)\n"
     ]
    },
    {
     "data": {
      "text/html": [
       "<div>\n",
       "<style scoped>\n",
       "    .dataframe tbody tr th:only-of-type {\n",
       "        vertical-align: middle;\n",
       "    }\n",
       "\n",
       "    .dataframe tbody tr th {\n",
       "        vertical-align: top;\n",
       "    }\n",
       "\n",
       "    .dataframe thead th {\n",
       "        text-align: right;\n",
       "    }\n",
       "</style>\n",
       "<table border=\"1\" class=\"dataframe\">\n",
       "  <thead>\n",
       "    <tr style=\"text-align: right;\">\n",
       "      <th></th>\n",
       "      <th>order_id</th>\n",
       "      <th>order_item_id</th>\n",
       "      <th>product_id</th>\n",
       "      <th>seller_id</th>\n",
       "      <th>shipping_limit_date</th>\n",
       "      <th>price</th>\n",
       "      <th>freight_value</th>\n",
       "    </tr>\n",
       "  </thead>\n",
       "  <tbody>\n",
       "    <tr>\n",
       "      <th>0</th>\n",
       "      <td>00010242fe8c5a6d1ba2dd792cb16214</td>\n",
       "      <td>1</td>\n",
       "      <td>4244733e06e7ecb4970a6e2683c13e61</td>\n",
       "      <td>48436dade18ac8b2bce089ec2a041202</td>\n",
       "      <td>2017-09-19 09:45:35</td>\n",
       "      <td>58.90</td>\n",
       "      <td>13.29</td>\n",
       "    </tr>\n",
       "    <tr>\n",
       "      <th>1</th>\n",
       "      <td>00018f77f2f0320c557190d7a144bdd3</td>\n",
       "      <td>1</td>\n",
       "      <td>e5f2d52b802189ee658865ca93d83a8f</td>\n",
       "      <td>dd7ddc04e1b6c2c614352b383efe2d36</td>\n",
       "      <td>2017-05-03 11:05:13</td>\n",
       "      <td>239.90</td>\n",
       "      <td>19.93</td>\n",
       "    </tr>\n",
       "    <tr>\n",
       "      <th>2</th>\n",
       "      <td>000229ec398224ef6ca0657da4fc703e</td>\n",
       "      <td>1</td>\n",
       "      <td>c777355d18b72b67abbeef9df44fd0fd</td>\n",
       "      <td>5b51032eddd242adc84c38acab88f23d</td>\n",
       "      <td>2018-01-18 14:48:30</td>\n",
       "      <td>199.00</td>\n",
       "      <td>17.87</td>\n",
       "    </tr>\n",
       "    <tr>\n",
       "      <th>3</th>\n",
       "      <td>00024acbcdf0a6daa1e931b038114c75</td>\n",
       "      <td>1</td>\n",
       "      <td>7634da152a4610f1595efa32f14722fc</td>\n",
       "      <td>9d7a1d34a5052409006425275ba1c2b4</td>\n",
       "      <td>2018-08-15 10:10:18</td>\n",
       "      <td>12.99</td>\n",
       "      <td>12.79</td>\n",
       "    </tr>\n",
       "    <tr>\n",
       "      <th>4</th>\n",
       "      <td>00042b26cf59d7ce69dfabb4e55b4fd9</td>\n",
       "      <td>1</td>\n",
       "      <td>ac6c3623068f30de03045865e4e10089</td>\n",
       "      <td>df560393f3a51e74553ab94004ba5c87</td>\n",
       "      <td>2017-02-13 13:57:51</td>\n",
       "      <td>199.90</td>\n",
       "      <td>18.14</td>\n",
       "    </tr>\n",
       "  </tbody>\n",
       "</table>\n",
       "</div>"
      ],
      "text/plain": [
       "                           order_id  order_item_id  \\\n",
       "0  00010242fe8c5a6d1ba2dd792cb16214              1   \n",
       "1  00018f77f2f0320c557190d7a144bdd3              1   \n",
       "2  000229ec398224ef6ca0657da4fc703e              1   \n",
       "3  00024acbcdf0a6daa1e931b038114c75              1   \n",
       "4  00042b26cf59d7ce69dfabb4e55b4fd9              1   \n",
       "\n",
       "                         product_id                         seller_id  \\\n",
       "0  4244733e06e7ecb4970a6e2683c13e61  48436dade18ac8b2bce089ec2a041202   \n",
       "1  e5f2d52b802189ee658865ca93d83a8f  dd7ddc04e1b6c2c614352b383efe2d36   \n",
       "2  c777355d18b72b67abbeef9df44fd0fd  5b51032eddd242adc84c38acab88f23d   \n",
       "3  7634da152a4610f1595efa32f14722fc  9d7a1d34a5052409006425275ba1c2b4   \n",
       "4  ac6c3623068f30de03045865e4e10089  df560393f3a51e74553ab94004ba5c87   \n",
       "\n",
       "  shipping_limit_date   price  freight_value  \n",
       "0 2017-09-19 09:45:35   58.90          13.29  \n",
       "1 2017-05-03 11:05:13  239.90          19.93  \n",
       "2 2018-01-18 14:48:30  199.00          17.87  \n",
       "3 2018-08-15 10:10:18   12.99          12.79  \n",
       "4 2017-02-13 13:57:51  199.90          18.14  "
      ]
     },
     "execution_count": 10,
     "metadata": {},
     "output_type": "execute_result"
    }
   ],
   "source": [
    "order_items = pd.read_csv(raw + 'olist_order_items_dataset.csv')\n",
    "order_items.shipping_limit_date = pd.to_datetime(order_items.shipping_limit_date)\n",
    "\n",
    "dfs.append(order_items)\n",
    "print(order_items.shape)\n",
    "order_items.head(5)"
   ]
  },
  {
   "cell_type": "code",
   "execution_count": null,
   "metadata": {},
   "outputs": [
    {
     "data": {
      "image/png": "[encoded data removed]",
      "text/plain": [
       "<Figure size 1440x360 with 1 Axes>"
      ]
     },
     "metadata": {},
     "output_type": "display_data"
    }
   ],
   "source": [
    "order_items.price.value_counts().hist(log=True, bins=50);"
   ]
  },
  {
   "cell_type": "code",
   "execution_count": null,
   "metadata": {},
   "outputs": [
    {
     "data": {
      "image/png": "[encoded data removed]",
      "text/plain": [
       "<Figure size 1440x360 with 1 Axes>"
      ]
     },
     "metadata": {},
     "output_type": "display_data"
    }
   ],
   "source": [
    "order_items.freight_value.value_counts().hist(log=True, bins=50);"
   ]
  },
  {
   "cell_type": "code",
   "execution_count": null,
   "metadata": {},
   "outputs": [],
   "source": [
    "order_items.sort_values(by='shipping_limit_date', inplace=True)\n",
    "# an mois jour\n",
    "min = pd.Timestamp(2018, 3, 1)\n",
    "max = pd.Timestamp(2018, 6, 30)\n",
    "mask = (order_items['shipping_limit_date'] >= min) & (order_items['shipping_limit_date'] < max)\n",
    "order_items = order_items[mask]"
   ]
  },
  {
   "cell_type": "code",
   "execution_count": null,
   "metadata": {},
   "outputs": [
    {
     "name": "stderr",
     "output_type": "stream",
     "text": [
      "C:\\Users\\nicol\\AppData\\Local\\Temp/ipykernel_10368/3708261340.py:13: SettingWithCopyWarning: \n",
      "A value is trying to be set on a copy of a slice from a DataFrame.\n",
      "Try using .loc[row_indexer,col_indexer] = value instead\n",
      "\n",
      "See the caveats in the documentation: https://pandas.pydata.org/pandas-docs/stable/user_guide/indexing.html#returning-a-view-versus-a-copy\n",
      "  order_items[\"bin\"] = order_items[\"shipping_limit_date\"].apply(bin_f)\n",
      "F:\\Anaconda\\envs\\E2\\lib\\site-packages\\pandas\\core\\frame.py:6393: SettingWithCopyWarning: \n",
      "A value is trying to be set on a copy of a slice from a DataFrame\n",
      "\n",
      "See the caveats in the documentation: https://pandas.pydata.org/pandas-docs/stable/user_guide/indexing.html#returning-a-view-versus-a-copy\n",
      "  return super().sort_index(\n"
     ]
    }
   ],
   "source": [
    "def bin_f(x):\n",
    "    d, m, y = x.date().day, x.date().month, x.date().year\n",
    "    h = x.time().hour\n",
    "    if h < 6:\n",
    "        return \"{:04d} {:02d} {:02d} 1ear\".format(y, m, d)\n",
    "    elif h < 12:\n",
    "        return \"{:04d} {:02d} {:02d} 2mor\".format(y, m, d)\n",
    "    elif h < 18:\n",
    "        return \"{:04d} {:02d} {:02d} 3aft\".format(y, m, d)\n",
    "    else:\n",
    "        return \"{:04d} {:02d} {:02d} 4nig\".format(y, m, d)\n",
    "\n",
    "order_items[\"bin\"] = order_items[\"shipping_limit_date\"].apply(bin_f)\n",
    "grouped = order_items.groupby(\"bin\", as_index=False)['price'].agg(np.sum)\n",
    "grouped.columns = ['time_bin', 'somme']\n",
    "grouped = grouped.set_index('time_bin')\n",
    "order_items.sort_index(inplace=True)"
   ]
  },
  {
   "cell_type": "code",
   "execution_count": null,
   "metadata": {},
   "outputs": [
    {
     "data": {
      "image/png": "[encoded data removed]",
      "text/plain": [
       "<Figure size 6516x720 with 1 Axes>"
      ]
     },
     "metadata": {},
     "output_type": "display_data"
    }
   ],
   "source": [
    "plt.figure(figsize=(len(grouped)/4, 10))\n",
    "plt.xticks(rotation=90)\n",
    "plt.bar(grouped.index, grouped.somme);\n",
    "plt.title('Somme des commandes premier trimestre de 2018')\n",
    "plt.savefig('plots/somme_commande_tri_2018.png')\n",
    "plt.show()"
   ]
  },
  {
   "cell_type": "markdown",
   "metadata": {},
   "source": [
    "# Table products"
   ]
  },
  {
   "cell_type": "code",
   "execution_count": null,
   "metadata": {},
   "outputs": [
    {
     "name": "stdout",
     "output_type": "stream",
     "text": [
      "(32951, 9)\n"
     ]
    },
    {
     "data": {
      "text/html": [
       "<div>\n",
       "<style scoped>\n",
       "    .dataframe tbody tr th:only-of-type {\n",
       "        vertical-align: middle;\n",
       "    }\n",
       "\n",
       "    .dataframe tbody tr th {\n",
       "        vertical-align: top;\n",
       "    }\n",
       "\n",
       "    .dataframe thead th {\n",
       "        text-align: right;\n",
       "    }\n",
       "</style>\n",
       "<table border=\"1\" class=\"dataframe\">\n",
       "  <thead>\n",
       "    <tr style=\"text-align: right;\">\n",
       "      <th></th>\n",
       "      <th>product_id</th>\n",
       "      <th>product_category_name</th>\n",
       "      <th>product_name_lenght</th>\n",
       "      <th>product_description_lenght</th>\n",
       "      <th>product_photos_qty</th>\n",
       "      <th>product_weight_g</th>\n",
       "      <th>product_length_cm</th>\n",
       "      <th>product_height_cm</th>\n",
       "      <th>product_width_cm</th>\n",
       "    </tr>\n",
       "  </thead>\n",
       "  <tbody>\n",
       "    <tr>\n",
       "      <th>0</th>\n",
       "      <td>1e9e8ef04dbcff4541ed26657ea517e5</td>\n",
       "      <td>perfumaria</td>\n",
       "      <td>40.0</td>\n",
       "      <td>287.0</td>\n",
       "      <td>1.0</td>\n",
       "      <td>225.0</td>\n",
       "      <td>16.0</td>\n",
       "      <td>10.0</td>\n",
       "      <td>14.0</td>\n",
       "    </tr>\n",
       "    <tr>\n",
       "      <th>1</th>\n",
       "      <td>3aa071139cb16b67ca9e5dea641aaa2f</td>\n",
       "      <td>artes</td>\n",
       "      <td>44.0</td>\n",
       "      <td>276.0</td>\n",
       "      <td>1.0</td>\n",
       "      <td>1000.0</td>\n",
       "      <td>30.0</td>\n",
       "      <td>18.0</td>\n",
       "      <td>20.0</td>\n",
       "    </tr>\n",
       "    <tr>\n",
       "      <th>2</th>\n",
       "      <td>96bd76ec8810374ed1b65e291975717f</td>\n",
       "      <td>esporte_lazer</td>\n",
       "      <td>46.0</td>\n",
       "      <td>250.0</td>\n",
       "      <td>1.0</td>\n",
       "      <td>154.0</td>\n",
       "      <td>18.0</td>\n",
       "      <td>9.0</td>\n",
       "      <td>15.0</td>\n",
       "    </tr>\n",
       "    <tr>\n",
       "      <th>3</th>\n",
       "      <td>cef67bcfe19066a932b7673e239eb23d</td>\n",
       "      <td>bebes</td>\n",
       "      <td>27.0</td>\n",
       "      <td>261.0</td>\n",
       "      <td>1.0</td>\n",
       "      <td>371.0</td>\n",
       "      <td>26.0</td>\n",
       "      <td>4.0</td>\n",
       "      <td>26.0</td>\n",
       "    </tr>\n",
       "    <tr>\n",
       "      <th>4</th>\n",
       "      <td>9dc1a7de274444849c219cff195d0b71</td>\n",
       "      <td>utilidades_domesticas</td>\n",
       "      <td>37.0</td>\n",
       "      <td>402.0</td>\n",
       "      <td>4.0</td>\n",
       "      <td>625.0</td>\n",
       "      <td>20.0</td>\n",
       "      <td>17.0</td>\n",
       "      <td>13.0</td>\n",
       "    </tr>\n",
       "  </tbody>\n",
       "</table>\n",
       "</div>"
      ],
      "text/plain": [
       "                         product_id  product_category_name  \\\n",
       "0  1e9e8ef04dbcff4541ed26657ea517e5             perfumaria   \n",
       "1  3aa071139cb16b67ca9e5dea641aaa2f                  artes   \n",
       "2  96bd76ec8810374ed1b65e291975717f          esporte_lazer   \n",
       "3  cef67bcfe19066a932b7673e239eb23d                  bebes   \n",
       "4  9dc1a7de274444849c219cff195d0b71  utilidades_domesticas   \n",
       "\n",
       "   product_name_lenght  product_description_lenght  product_photos_qty  \\\n",
       "0                 40.0                       287.0                 1.0   \n",
       "1                 44.0                       276.0                 1.0   \n",
       "2                 46.0                       250.0                 1.0   \n",
       "3                 27.0                       261.0                 1.0   \n",
       "4                 37.0                       402.0                 4.0   \n",
       "\n",
       "   product_weight_g  product_length_cm  product_height_cm  product_width_cm  \n",
       "0             225.0               16.0               10.0              14.0  \n",
       "1            1000.0               30.0               18.0              20.0  \n",
       "2             154.0               18.0                9.0              15.0  \n",
       "3             371.0               26.0                4.0              26.0  \n",
       "4             625.0               20.0               17.0              13.0  "
      ]
     },
     "execution_count": 16,
     "metadata": {},
     "output_type": "execute_result"
    }
   ],
   "source": [
    "products = pd.read_csv(raw + 'olist_products_dataset.csv')\n",
    "dfs.append(products)\n",
    "print(products.shape)\n",
    "products.head(5)"
   ]
  },
  {
   "cell_type": "code",
   "execution_count": null,
   "metadata": {},
   "outputs": [
    {
     "data": {
      "text/plain": [
       "Index(['product_weight_g', 'product_length_cm', 'product_height_cm',\n",
       "       'product_width_cm'],\n",
       "      dtype='object')"
      ]
     },
     "execution_count": 17,
     "metadata": {},
     "output_type": "execute_result"
    }
   ],
   "source": [
    "products.columns[-4:]"
   ]
  },
  {
   "cell_type": "code",
   "execution_count": null,
   "metadata": {},
   "outputs": [
    {
     "data": {
      "text/plain": [
       "cama_mesa_banho                  3029\n",
       "esporte_lazer                    2867\n",
       "moveis_decoracao                 2657\n",
       "beleza_saude                     2444\n",
       "utilidades_domesticas            2335\n",
       "                                 ... \n",
       "fashion_roupa_infanto_juvenil       5\n",
       "casa_conforto_2                     5\n",
       "pc_gamer                            3\n",
       "seguros_e_servicos                  2\n",
       "cds_dvds_musicais                   1\n",
       "Name: product_category_name, Length: 73, dtype: int64"
      ]
     },
     "execution_count": 18,
     "metadata": {},
     "output_type": "execute_result"
    }
   ],
   "source": [
    "products.product_category_name.value_counts()"
   ]
  },
  {
   "cell_type": "markdown",
   "metadata": {},
   "source": [
    "# Table sellers"
   ]
  },
  {
   "cell_type": "code",
   "execution_count": null,
   "metadata": {},
   "outputs": [
    {
     "name": "stdout",
     "output_type": "stream",
     "text": [
      "(3095, 4)\n"
     ]
    },
    {
     "data": {
      "text/html": [
       "<div>\n",
       "<style scoped>\n",
       "    .dataframe tbody tr th:only-of-type {\n",
       "        vertical-align: middle;\n",
       "    }\n",
       "\n",
       "    .dataframe tbody tr th {\n",
       "        vertical-align: top;\n",
       "    }\n",
       "\n",
       "    .dataframe thead th {\n",
       "        text-align: right;\n",
       "    }\n",
       "</style>\n",
       "<table border=\"1\" class=\"dataframe\">\n",
       "  <thead>\n",
       "    <tr style=\"text-align: right;\">\n",
       "      <th></th>\n",
       "      <th>seller_id</th>\n",
       "      <th>seller_zip_code_prefix</th>\n",
       "      <th>seller_city</th>\n",
       "      <th>seller_state</th>\n",
       "    </tr>\n",
       "  </thead>\n",
       "  <tbody>\n",
       "    <tr>\n",
       "      <th>0</th>\n",
       "      <td>3442f8959a84dea7ee197c632cb2df15</td>\n",
       "      <td>13023</td>\n",
       "      <td>campinas</td>\n",
       "      <td>SP</td>\n",
       "    </tr>\n",
       "    <tr>\n",
       "      <th>1</th>\n",
       "      <td>d1b65fc7debc3361ea86b5f14c68d2e2</td>\n",
       "      <td>13844</td>\n",
       "      <td>mogi guacu</td>\n",
       "      <td>SP</td>\n",
       "    </tr>\n",
       "    <tr>\n",
       "      <th>2</th>\n",
       "      <td>ce3ad9de960102d0677a81f5d0bb7b2d</td>\n",
       "      <td>20031</td>\n",
       "      <td>rio de janeiro</td>\n",
       "      <td>RJ</td>\n",
       "    </tr>\n",
       "    <tr>\n",
       "      <th>3</th>\n",
       "      <td>c0f3eea2e14555b6faeea3dd58c1b1c3</td>\n",
       "      <td>4195</td>\n",
       "      <td>sao paulo</td>\n",
       "      <td>SP</td>\n",
       "    </tr>\n",
       "    <tr>\n",
       "      <th>4</th>\n",
       "      <td>51a04a8a6bdcb23deccc82b0b80742cf</td>\n",
       "      <td>12914</td>\n",
       "      <td>braganca paulista</td>\n",
       "      <td>SP</td>\n",
       "    </tr>\n",
       "  </tbody>\n",
       "</table>\n",
       "</div>"
      ],
      "text/plain": [
       "                          seller_id  seller_zip_code_prefix  \\\n",
       "0  3442f8959a84dea7ee197c632cb2df15                   13023   \n",
       "1  d1b65fc7debc3361ea86b5f14c68d2e2                   13844   \n",
       "2  ce3ad9de960102d0677a81f5d0bb7b2d                   20031   \n",
       "3  c0f3eea2e14555b6faeea3dd58c1b1c3                    4195   \n",
       "4  51a04a8a6bdcb23deccc82b0b80742cf                   12914   \n",
       "\n",
       "         seller_city seller_state  \n",
       "0           campinas           SP  \n",
       "1         mogi guacu           SP  \n",
       "2     rio de janeiro           RJ  \n",
       "3          sao paulo           SP  \n",
       "4  braganca paulista           SP  "
      ]
     },
     "execution_count": 19,
     "metadata": {},
     "output_type": "execute_result"
    }
   ],
   "source": [
    "sellers = pd.read_csv(raw + 'olist_sellers_dataset.csv')\n",
    "dfs.append(sellers)\n",
    "print(sellers.shape)\n",
    "sellers.head(5)"
   ]
  },
  {
   "cell_type": "code",
   "execution_count": null,
   "metadata": {},
   "outputs": [
    {
     "name": "stdout",
     "output_type": "stream",
     "text": [
      "nb ville:  611 \n",
      " ['campinas' 'mogi guacu' 'rio de janeiro' 'sao paulo' 'braganca paulista'\n",
      " 'brejao' 'penapolis' 'curitiba' 'anapolis' 'itirapina']\n",
      "nb etats:  23 \n",
      " ['SP' 'RJ' 'PE' 'PR' 'GO' 'SC' 'BA' 'DF' 'RS' 'MG' 'RN' 'MT' 'CE' 'PB'\n",
      " 'AC' 'ES' 'RO' 'PI' 'MS' 'SE' 'MA' 'AM' 'PA']\n"
     ]
    }
   ],
   "source": [
    "print('nb ville: ', len(sellers.seller_city.unique()), '\\n', sellers.seller_city.unique()[:10])\n",
    "print('nb etats: ', len(sellers.seller_state.unique()), '\\n', sellers.seller_state.unique())"
   ]
  },
  {
   "cell_type": "markdown",
   "metadata": {},
   "source": [
    "# Recherche des valeurs nulles\n",
    "\n",
    "Certaines commandes ne sont pas livrees, elles sont probablement en cours de livraison lors de l'image de la base de donnees.\n",
    "    En fait elles sont dans la majoritee des cas livrees mais non recuperees, annulees ou bien ont un status indisponible.\n",
    "\n",
    "Des produits n'ont pas de caracteristique, fiche technique. J'y jette un oeil.\n",
    "    Pas d'interpretation a apporter, ce sont des produits a supprimer"
   ]
  },
  {
   "cell_type": "markdown",
   "metadata": {},
   "source": [
    "## Observations"
   ]
  },
  {
   "cell_type": "code",
   "execution_count": null,
   "metadata": {},
   "outputs": [
    {
     "name": "stdout",
     "output_type": "stream",
     "text": [
      "order_id                            0\n",
      "customer_id                         0\n",
      "order_status                        0\n",
      "order_purchase_timestamp            0\n",
      "order_approved_at                 160\n",
      "order_delivered_carrier_date     1783\n",
      "order_delivered_customer_date    2965\n",
      "order_estimated_delivery_date       0\n",
      "dtype: int64\n",
      "product_id                      0\n",
      "product_category_name         610\n",
      "product_name_lenght           610\n",
      "product_description_lenght    610\n",
      "product_photos_qty            610\n",
      "product_weight_g                2\n",
      "product_length_cm               2\n",
      "product_height_cm               2\n",
      "product_width_cm                2\n",
      "dtype: int64\n"
     ]
    }
   ],
   "source": [
    "for df in dfs:\n",
    "    if df.isna().sum().sum() != 0:\n",
    "        print(\n",
    "            df.isna().sum()\n",
    "        )"
   ]
  },
  {
   "cell_type": "markdown",
   "metadata": {},
   "source": [
    "## Orders na values"
   ]
  },
  {
   "cell_type": "code",
   "execution_count": null,
   "metadata": {},
   "outputs": [
    {
     "data": {
      "text/html": [
       "<div>\n",
       "<style scoped>\n",
       "    .dataframe tbody tr th:only-of-type {\n",
       "        vertical-align: middle;\n",
       "    }\n",
       "\n",
       "    .dataframe tbody tr th {\n",
       "        vertical-align: top;\n",
       "    }\n",
       "\n",
       "    .dataframe thead th {\n",
       "        text-align: right;\n",
       "    }\n",
       "</style>\n",
       "<table border=\"1\" class=\"dataframe\">\n",
       "  <thead>\n",
       "    <tr style=\"text-align: right;\">\n",
       "      <th></th>\n",
       "      <th>order_status</th>\n",
       "      <th>order_purchase_timestamp</th>\n",
       "      <th>order_approved_at</th>\n",
       "      <th>order_delivered_carrier_date</th>\n",
       "      <th>order_delivered_customer_date</th>\n",
       "      <th>order_estimated_delivery_date</th>\n",
       "    </tr>\n",
       "  </thead>\n",
       "  <tbody>\n",
       "    <tr>\n",
       "      <th>6</th>\n",
       "      <td>invoiced</td>\n",
       "      <td>2017-04-11 12:22:08</td>\n",
       "      <td>2017-04-13 13:25:17</td>\n",
       "      <td>NaN</td>\n",
       "      <td>NaN</td>\n",
       "      <td>2017-05-09 00:00:00</td>\n",
       "    </tr>\n",
       "    <tr>\n",
       "      <th>44</th>\n",
       "      <td>shipped</td>\n",
       "      <td>2018-06-04 16:44:48</td>\n",
       "      <td>2018-06-05 04:31:18</td>\n",
       "      <td>2018-06-05 14:32:00</td>\n",
       "      <td>NaN</td>\n",
       "      <td>2018-06-28 00:00:00</td>\n",
       "    </tr>\n",
       "    <tr>\n",
       "      <th>103</th>\n",
       "      <td>invoiced</td>\n",
       "      <td>2018-08-03 17:44:42</td>\n",
       "      <td>2018-08-07 06:15:14</td>\n",
       "      <td>NaN</td>\n",
       "      <td>NaN</td>\n",
       "      <td>2018-08-21 00:00:00</td>\n",
       "    </tr>\n",
       "    <tr>\n",
       "      <th>128</th>\n",
       "      <td>processing</td>\n",
       "      <td>2017-09-03 14:22:03</td>\n",
       "      <td>2017-09-03 14:30:09</td>\n",
       "      <td>NaN</td>\n",
       "      <td>NaN</td>\n",
       "      <td>2017-10-03 00:00:00</td>\n",
       "    </tr>\n",
       "    <tr>\n",
       "      <th>154</th>\n",
       "      <td>shipped</td>\n",
       "      <td>2018-01-10 11:33:07</td>\n",
       "      <td>2018-01-11 02:32:30</td>\n",
       "      <td>2018-01-11 19:39:23</td>\n",
       "      <td>NaN</td>\n",
       "      <td>2018-02-07 00:00:00</td>\n",
       "    </tr>\n",
       "  </tbody>\n",
       "</table>\n",
       "</div>"
      ],
      "text/plain": [
       "    order_status order_purchase_timestamp    order_approved_at  \\\n",
       "6       invoiced      2017-04-11 12:22:08  2017-04-13 13:25:17   \n",
       "44       shipped      2018-06-04 16:44:48  2018-06-05 04:31:18   \n",
       "103     invoiced      2018-08-03 17:44:42  2018-08-07 06:15:14   \n",
       "128   processing      2017-09-03 14:22:03  2017-09-03 14:30:09   \n",
       "154      shipped      2018-01-10 11:33:07  2018-01-11 02:32:30   \n",
       "\n",
       "    order_delivered_carrier_date order_delivered_customer_date  \\\n",
       "6                            NaN                           NaN   \n",
       "44           2018-06-05 14:32:00                           NaN   \n",
       "103                          NaN                           NaN   \n",
       "128                          NaN                           NaN   \n",
       "154          2018-01-11 19:39:23                           NaN   \n",
       "\n",
       "    order_estimated_delivery_date  \n",
       "6             2017-05-09 00:00:00  \n",
       "44            2018-06-28 00:00:00  \n",
       "103           2018-08-21 00:00:00  \n",
       "128           2017-10-03 00:00:00  \n",
       "154           2018-02-07 00:00:00  "
      ]
     },
     "execution_count": 22,
     "metadata": {},
     "output_type": "execute_result"
    }
   ],
   "source": [
    "missing_orders = order[order.isna().any(axis=1)]\n",
    "missing_orders = missing_orders.drop(columns=['order_id', 'customer_id'])\n",
    "missing_orders.order_purchase_timestamp = pd.to_datetime(missing_orders.order_purchase_timestamp)\n",
    "missing_orders.head(5)"
   ]
  },
  {
   "cell_type": "code",
   "execution_count": null,
   "metadata": {},
   "outputs": [
    {
     "data": {
      "text/plain": [
       "2016 09      3\n",
       "2016 10     54\n",
       "2017 01     52\n",
       "2017 02    139\n",
       "2017 03    136\n",
       "2017 04    101\n",
       "2017 05    155\n",
       "2017 06    110\n",
       "2017 07    154\n",
       "2017 08    138\n",
       "2017 09    136\n",
       "2017 10    153\n",
       "2017 11    256\n",
       "2017 12    160\n",
       "2018 01    200\n",
       "2018 02    172\n",
       "2018 03    208\n",
       "2018 04    141\n",
       "2018 05    124\n",
       "2018 06     71\n",
       "2018 07    136\n",
       "2018 08    161\n",
       "2018 09     16\n",
       "2018 10      4\n",
       "Name: year_month, dtype: int64"
      ]
     },
     "execution_count": 23,
     "metadata": {},
     "output_type": "execute_result"
    }
   ],
   "source": [
    "missing_orders['year_month'] = missing_orders.order_purchase_timestamp.apply(\n",
    "    lambda x: \n",
    "    '{:0d} {:02d}'.format(x.date().year, x.date().month)\n",
    ")\n",
    "missing_orders.year_month.value_counts().sort_index()"
   ]
  },
  {
   "cell_type": "code",
   "execution_count": null,
   "metadata": {},
   "outputs": [
    {
     "data": {
      "text/plain": [
       "shipped        1107\n",
       "canceled        619\n",
       "unavailable     609\n",
       "invoiced        314\n",
       "processing      301\n",
       "delivered        23\n",
       "created           5\n",
       "approved          2\n",
       "Name: order_status, dtype: int64"
      ]
     },
     "execution_count": 24,
     "metadata": {},
     "output_type": "execute_result"
    }
   ],
   "source": [
    "missing_orders.order_status.value_counts()"
   ]
  },
  {
   "cell_type": "code",
   "execution_count": null,
   "metadata": {},
   "outputs": [
    {
     "data": {
      "text/plain": [
       "delivered      96478\n",
       "shipped         1107\n",
       "canceled         625\n",
       "unavailable      609\n",
       "invoiced         314\n",
       "processing       301\n",
       "created            5\n",
       "approved           2\n",
       "Name: order_status, dtype: int64"
      ]
     },
     "execution_count": 25,
     "metadata": {},
     "output_type": "execute_result"
    }
   ],
   "source": [
    "order.order_status.value_counts()"
   ]
  },
  {
   "cell_type": "code",
   "execution_count": null,
   "metadata": {},
   "outputs": [
    {
     "data": {
      "text/html": [
       "<div>\n",
       "<style scoped>\n",
       "    .dataframe tbody tr th:only-of-type {\n",
       "        vertical-align: middle;\n",
       "    }\n",
       "\n",
       "    .dataframe tbody tr th {\n",
       "        vertical-align: top;\n",
       "    }\n",
       "\n",
       "    .dataframe thead th {\n",
       "        text-align: right;\n",
       "    }\n",
       "</style>\n",
       "<table border=\"1\" class=\"dataframe\">\n",
       "  <thead>\n",
       "    <tr style=\"text-align: right;\">\n",
       "      <th></th>\n",
       "      <th>order_status</th>\n",
       "      <th>order_purchase_timestamp</th>\n",
       "      <th>order_approved_at</th>\n",
       "      <th>order_delivered_carrier_date</th>\n",
       "      <th>order_delivered_customer_date</th>\n",
       "      <th>order_estimated_delivery_date</th>\n",
       "      <th>year_month</th>\n",
       "    </tr>\n",
       "  </thead>\n",
       "  <tbody>\n",
       "    <tr>\n",
       "      <th>3002</th>\n",
       "      <td>delivered</td>\n",
       "      <td>2017-11-28 17:44:07</td>\n",
       "      <td>2017-11-28 17:56:40</td>\n",
       "      <td>2017-11-30 18:12:23</td>\n",
       "      <td>NaN</td>\n",
       "      <td>2017-12-18 00:00:00</td>\n",
       "      <td>2017 11</td>\n",
       "    </tr>\n",
       "    <tr>\n",
       "      <th>5323</th>\n",
       "      <td>delivered</td>\n",
       "      <td>2017-02-18 14:40:00</td>\n",
       "      <td>NaN</td>\n",
       "      <td>2017-02-23 12:04:47</td>\n",
       "      <td>2017-03-01 13:25:33</td>\n",
       "      <td>2017-03-17 00:00:00</td>\n",
       "      <td>2017 02</td>\n",
       "    </tr>\n",
       "    <tr>\n",
       "      <th>16567</th>\n",
       "      <td>delivered</td>\n",
       "      <td>2017-02-18 12:45:31</td>\n",
       "      <td>NaN</td>\n",
       "      <td>2017-02-23 09:01:52</td>\n",
       "      <td>2017-03-02 10:05:06</td>\n",
       "      <td>2017-03-21 00:00:00</td>\n",
       "      <td>2017 02</td>\n",
       "    </tr>\n",
       "    <tr>\n",
       "      <th>19031</th>\n",
       "      <td>delivered</td>\n",
       "      <td>2017-02-18 13:29:47</td>\n",
       "      <td>NaN</td>\n",
       "      <td>2017-02-22 16:25:25</td>\n",
       "      <td>2017-03-01 08:07:38</td>\n",
       "      <td>2017-03-17 00:00:00</td>\n",
       "      <td>2017 02</td>\n",
       "    </tr>\n",
       "    <tr>\n",
       "      <th>20618</th>\n",
       "      <td>delivered</td>\n",
       "      <td>2018-06-20 06:58:43</td>\n",
       "      <td>2018-06-20 07:19:05</td>\n",
       "      <td>2018-06-25 08:05:00</td>\n",
       "      <td>NaN</td>\n",
       "      <td>2018-07-16 00:00:00</td>\n",
       "      <td>2018 06</td>\n",
       "    </tr>\n",
       "    <tr>\n",
       "      <th>22663</th>\n",
       "      <td>delivered</td>\n",
       "      <td>2017-02-18 16:48:35</td>\n",
       "      <td>NaN</td>\n",
       "      <td>2017-02-22 11:23:10</td>\n",
       "      <td>2017-03-09 07:28:47</td>\n",
       "      <td>2017-03-31 00:00:00</td>\n",
       "      <td>2017 02</td>\n",
       "    </tr>\n",
       "    <tr>\n",
       "      <th>23156</th>\n",
       "      <td>delivered</td>\n",
       "      <td>2017-02-17 13:05:55</td>\n",
       "      <td>NaN</td>\n",
       "      <td>2017-02-22 11:23:11</td>\n",
       "      <td>2017-03-02 11:09:19</td>\n",
       "      <td>2017-03-20 00:00:00</td>\n",
       "      <td>2017 02</td>\n",
       "    </tr>\n",
       "    <tr>\n",
       "      <th>26800</th>\n",
       "      <td>delivered</td>\n",
       "      <td>2017-01-19 12:48:08</td>\n",
       "      <td>NaN</td>\n",
       "      <td>2017-01-25 14:56:50</td>\n",
       "      <td>2017-01-30 18:16:01</td>\n",
       "      <td>2017-03-01 00:00:00</td>\n",
       "      <td>2017 01</td>\n",
       "    </tr>\n",
       "    <tr>\n",
       "      <th>38290</th>\n",
       "      <td>delivered</td>\n",
       "      <td>2017-02-19 01:28:47</td>\n",
       "      <td>NaN</td>\n",
       "      <td>2017-02-23 03:11:48</td>\n",
       "      <td>2017-03-02 03:41:58</td>\n",
       "      <td>2017-03-27 00:00:00</td>\n",
       "      <td>2017 02</td>\n",
       "    </tr>\n",
       "    <tr>\n",
       "      <th>39334</th>\n",
       "      <td>delivered</td>\n",
       "      <td>2017-02-18 11:04:19</td>\n",
       "      <td>NaN</td>\n",
       "      <td>2017-02-23 07:23:36</td>\n",
       "      <td>2017-03-02 16:15:23</td>\n",
       "      <td>2017-03-22 00:00:00</td>\n",
       "      <td>2017 02</td>\n",
       "    </tr>\n",
       "    <tr>\n",
       "      <th>43834</th>\n",
       "      <td>delivered</td>\n",
       "      <td>2018-07-01 17:05:11</td>\n",
       "      <td>2018-07-01 17:15:12</td>\n",
       "      <td>2018-07-03 13:57:00</td>\n",
       "      <td>NaN</td>\n",
       "      <td>2018-07-30 00:00:00</td>\n",
       "      <td>2018 07</td>\n",
       "    </tr>\n",
       "    <tr>\n",
       "      <th>48401</th>\n",
       "      <td>delivered</td>\n",
       "      <td>2017-01-19 22:26:59</td>\n",
       "      <td>NaN</td>\n",
       "      <td>2017-01-27 11:08:05</td>\n",
       "      <td>2017-02-06 14:22:19</td>\n",
       "      <td>2017-03-16 00:00:00</td>\n",
       "      <td>2017 01</td>\n",
       "    </tr>\n",
       "    <tr>\n",
       "      <th>61743</th>\n",
       "      <td>delivered</td>\n",
       "      <td>2017-02-17 17:21:55</td>\n",
       "      <td>NaN</td>\n",
       "      <td>2017-02-22 11:42:51</td>\n",
       "      <td>2017-03-03 12:16:03</td>\n",
       "      <td>2017-03-20 00:00:00</td>\n",
       "      <td>2017 02</td>\n",
       "    </tr>\n",
       "    <tr>\n",
       "      <th>63052</th>\n",
       "      <td>delivered</td>\n",
       "      <td>2017-02-18 15:52:27</td>\n",
       "      <td>NaN</td>\n",
       "      <td>2017-02-23 03:09:14</td>\n",
       "      <td>2017-03-07 13:57:47</td>\n",
       "      <td>2017-03-29 00:00:00</td>\n",
       "      <td>2017 02</td>\n",
       "    </tr>\n",
       "    <tr>\n",
       "      <th>67697</th>\n",
       "      <td>delivered</td>\n",
       "      <td>2017-02-18 22:49:19</td>\n",
       "      <td>NaN</td>\n",
       "      <td>2017-02-22 11:31:06</td>\n",
       "      <td>2017-03-02 12:06:06</td>\n",
       "      <td>2017-03-21 00:00:00</td>\n",
       "      <td>2017 02</td>\n",
       "    </tr>\n",
       "    <tr>\n",
       "      <th>72407</th>\n",
       "      <td>delivered</td>\n",
       "      <td>2017-02-17 15:53:27</td>\n",
       "      <td>NaN</td>\n",
       "      <td>2017-02-22 11:31:30</td>\n",
       "      <td>2017-03-03 11:47:47</td>\n",
       "      <td>2017-03-23 00:00:00</td>\n",
       "      <td>2017 02</td>\n",
       "    </tr>\n",
       "    <tr>\n",
       "      <th>73222</th>\n",
       "      <td>delivered</td>\n",
       "      <td>2017-09-29 08:52:58</td>\n",
       "      <td>2017-09-29 09:07:16</td>\n",
       "      <td>NaN</td>\n",
       "      <td>2017-11-20 19:44:47</td>\n",
       "      <td>2017-11-14 00:00:00</td>\n",
       "      <td>2017 09</td>\n",
       "    </tr>\n",
       "    <tr>\n",
       "      <th>79263</th>\n",
       "      <td>delivered</td>\n",
       "      <td>2018-07-01 22:05:55</td>\n",
       "      <td>2018-07-01 22:15:14</td>\n",
       "      <td>2018-07-03 13:57:00</td>\n",
       "      <td>NaN</td>\n",
       "      <td>2018-07-30 00:00:00</td>\n",
       "      <td>2018 07</td>\n",
       "    </tr>\n",
       "    <tr>\n",
       "      <th>82868</th>\n",
       "      <td>delivered</td>\n",
       "      <td>2018-07-01 21:14:02</td>\n",
       "      <td>2018-07-01 21:29:54</td>\n",
       "      <td>2018-07-03 09:28:00</td>\n",
       "      <td>NaN</td>\n",
       "      <td>2018-07-24 00:00:00</td>\n",
       "      <td>2018 07</td>\n",
       "    </tr>\n",
       "    <tr>\n",
       "      <th>84999</th>\n",
       "      <td>delivered</td>\n",
       "      <td>2017-02-18 17:15:03</td>\n",
       "      <td>NaN</td>\n",
       "      <td>2017-02-22 11:23:11</td>\n",
       "      <td>2017-03-03 18:43:43</td>\n",
       "      <td>2017-03-31 00:00:00</td>\n",
       "      <td>2017 02</td>\n",
       "    </tr>\n",
       "    <tr>\n",
       "      <th>92643</th>\n",
       "      <td>delivered</td>\n",
       "      <td>2017-05-25 23:22:43</td>\n",
       "      <td>2017-05-25 23:30:16</td>\n",
       "      <td>NaN</td>\n",
       "      <td>NaN</td>\n",
       "      <td>2017-06-23 00:00:00</td>\n",
       "      <td>2017 05</td>\n",
       "    </tr>\n",
       "    <tr>\n",
       "      <th>97647</th>\n",
       "      <td>delivered</td>\n",
       "      <td>2018-06-08 12:09:39</td>\n",
       "      <td>2018-06-08 12:36:39</td>\n",
       "      <td>2018-06-12 14:10:00</td>\n",
       "      <td>NaN</td>\n",
       "      <td>2018-06-26 00:00:00</td>\n",
       "      <td>2018 06</td>\n",
       "    </tr>\n",
       "    <tr>\n",
       "      <th>98038</th>\n",
       "      <td>delivered</td>\n",
       "      <td>2018-06-27 16:09:12</td>\n",
       "      <td>2018-06-27 16:29:30</td>\n",
       "      <td>2018-07-03 19:26:00</td>\n",
       "      <td>NaN</td>\n",
       "      <td>2018-07-19 00:00:00</td>\n",
       "      <td>2018 06</td>\n",
       "    </tr>\n",
       "  </tbody>\n",
       "</table>\n",
       "</div>"
      ],
      "text/plain": [
       "      order_status order_purchase_timestamp    order_approved_at  \\\n",
       "3002     delivered      2017-11-28 17:44:07  2017-11-28 17:56:40   \n",
       "5323     delivered      2017-02-18 14:40:00                  NaN   \n",
       "16567    delivered      2017-02-18 12:45:31                  NaN   \n",
       "19031    delivered      2017-02-18 13:29:47                  NaN   \n",
       "20618    delivered      2018-06-20 06:58:43  2018-06-20 07:19:05   \n",
       "22663    delivered      2017-02-18 16:48:35                  NaN   \n",
       "23156    delivered      2017-02-17 13:05:55                  NaN   \n",
       "26800    delivered      2017-01-19 12:48:08                  NaN   \n",
       "38290    delivered      2017-02-19 01:28:47                  NaN   \n",
       "39334    delivered      2017-02-18 11:04:19                  NaN   \n",
       "43834    delivered      2018-07-01 17:05:11  2018-07-01 17:15:12   \n",
       "48401    delivered      2017-01-19 22:26:59                  NaN   \n",
       "61743    delivered      2017-02-17 17:21:55                  NaN   \n",
       "63052    delivered      2017-02-18 15:52:27                  NaN   \n",
       "67697    delivered      2017-02-18 22:49:19                  NaN   \n",
       "72407    delivered      2017-02-17 15:53:27                  NaN   \n",
       "73222    delivered      2017-09-29 08:52:58  2017-09-29 09:07:16   \n",
       "79263    delivered      2018-07-01 22:05:55  2018-07-01 22:15:14   \n",
       "82868    delivered      2018-07-01 21:14:02  2018-07-01 21:29:54   \n",
       "84999    delivered      2017-02-18 17:15:03                  NaN   \n",
       "92643    delivered      2017-05-25 23:22:43  2017-05-25 23:30:16   \n",
       "97647    delivered      2018-06-08 12:09:39  2018-06-08 12:36:39   \n",
       "98038    delivered      2018-06-27 16:09:12  2018-06-27 16:29:30   \n",
       "\n",
       "      order_delivered_carrier_date order_delivered_customer_date  \\\n",
       "3002           2017-11-30 18:12:23                           NaN   \n",
       "5323           2017-02-23 12:04:47           2017-03-01 13:25:33   \n",
       "16567          2017-02-23 09:01:52           2017-03-02 10:05:06   \n",
       "19031          2017-02-22 16:25:25           2017-03-01 08:07:38   \n",
       "20618          2018-06-25 08:05:00                           NaN   \n",
       "22663          2017-02-22 11:23:10           2017-03-09 07:28:47   \n",
       "23156          2017-02-22 11:23:11           2017-03-02 11:09:19   \n",
       "26800          2017-01-25 14:56:50           2017-01-30 18:16:01   \n",
       "38290          2017-02-23 03:11:48           2017-03-02 03:41:58   \n",
       "39334          2017-02-23 07:23:36           2017-03-02 16:15:23   \n",
       "43834          2018-07-03 13:57:00                           NaN   \n",
       "48401          2017-01-27 11:08:05           2017-02-06 14:22:19   \n",
       "61743          2017-02-22 11:42:51           2017-03-03 12:16:03   \n",
       "63052          2017-02-23 03:09:14           2017-03-07 13:57:47   \n",
       "67697          2017-02-22 11:31:06           2017-03-02 12:06:06   \n",
       "72407          2017-02-22 11:31:30           2017-03-03 11:47:47   \n",
       "73222                          NaN           2017-11-20 19:44:47   \n",
       "79263          2018-07-03 13:57:00                           NaN   \n",
       "82868          2018-07-03 09:28:00                           NaN   \n",
       "84999          2017-02-22 11:23:11           2017-03-03 18:43:43   \n",
       "92643                          NaN                           NaN   \n",
       "97647          2018-06-12 14:10:00                           NaN   \n",
       "98038          2018-07-03 19:26:00                           NaN   \n",
       "\n",
       "      order_estimated_delivery_date year_month  \n",
       "3002            2017-12-18 00:00:00    2017 11  \n",
       "5323            2017-03-17 00:00:00    2017 02  \n",
       "16567           2017-03-21 00:00:00    2017 02  \n",
       "19031           2017-03-17 00:00:00    2017 02  \n",
       "20618           2018-07-16 00:00:00    2018 06  \n",
       "22663           2017-03-31 00:00:00    2017 02  \n",
       "23156           2017-03-20 00:00:00    2017 02  \n",
       "26800           2017-03-01 00:00:00    2017 01  \n",
       "38290           2017-03-27 00:00:00    2017 02  \n",
       "39334           2017-03-22 00:00:00    2017 02  \n",
       "43834           2018-07-30 00:00:00    2018 07  \n",
       "48401           2017-03-16 00:00:00    2017 01  \n",
       "61743           2017-03-20 00:00:00    2017 02  \n",
       "63052           2017-03-29 00:00:00    2017 02  \n",
       "67697           2017-03-21 00:00:00    2017 02  \n",
       "72407           2017-03-23 00:00:00    2017 02  \n",
       "73222           2017-11-14 00:00:00    2017 09  \n",
       "79263           2018-07-30 00:00:00    2018 07  \n",
       "82868           2018-07-24 00:00:00    2018 07  \n",
       "84999           2017-03-31 00:00:00    2017 02  \n",
       "92643           2017-06-23 00:00:00    2017 05  \n",
       "97647           2018-06-26 00:00:00    2018 06  \n",
       "98038           2018-07-19 00:00:00    2018 06  "
      ]
     },
     "execution_count": 26,
     "metadata": {},
     "output_type": "execute_result"
    }
   ],
   "source": [
    "missing_orders[missing_orders.order_status == 'delivered']"
   ]
  },
  {
   "cell_type": "markdown",
   "metadata": {},
   "source": [
    "## Products na values"
   ]
  },
  {
   "cell_type": "code",
   "execution_count": null,
   "metadata": {},
   "outputs": [
    {
     "data": {
      "text/html": [
       "<div>\n",
       "<style scoped>\n",
       "    .dataframe tbody tr th:only-of-type {\n",
       "        vertical-align: middle;\n",
       "    }\n",
       "\n",
       "    .dataframe tbody tr th {\n",
       "        vertical-align: top;\n",
       "    }\n",
       "\n",
       "    .dataframe thead th {\n",
       "        text-align: right;\n",
       "    }\n",
       "</style>\n",
       "<table border=\"1\" class=\"dataframe\">\n",
       "  <thead>\n",
       "    <tr style=\"text-align: right;\">\n",
       "      <th></th>\n",
       "      <th>product_id</th>\n",
       "      <th>product_category_name</th>\n",
       "      <th>product_name_lenght</th>\n",
       "      <th>product_description_lenght</th>\n",
       "      <th>product_photos_qty</th>\n",
       "      <th>product_weight_g</th>\n",
       "      <th>product_length_cm</th>\n",
       "      <th>product_height_cm</th>\n",
       "      <th>product_width_cm</th>\n",
       "    </tr>\n",
       "  </thead>\n",
       "  <tbody>\n",
       "    <tr>\n",
       "      <th>105</th>\n",
       "      <td>a41e356c76fab66334f36de622ecbd3a</td>\n",
       "      <td>NaN</td>\n",
       "      <td>NaN</td>\n",
       "      <td>NaN</td>\n",
       "      <td>NaN</td>\n",
       "      <td>650.0</td>\n",
       "      <td>17.0</td>\n",
       "      <td>14.0</td>\n",
       "      <td>12.0</td>\n",
       "    </tr>\n",
       "    <tr>\n",
       "      <th>128</th>\n",
       "      <td>d8dee61c2034d6d075997acef1870e9b</td>\n",
       "      <td>NaN</td>\n",
       "      <td>NaN</td>\n",
       "      <td>NaN</td>\n",
       "      <td>NaN</td>\n",
       "      <td>300.0</td>\n",
       "      <td>16.0</td>\n",
       "      <td>7.0</td>\n",
       "      <td>20.0</td>\n",
       "    </tr>\n",
       "    <tr>\n",
       "      <th>145</th>\n",
       "      <td>56139431d72cd51f19eb9f7dae4d1617</td>\n",
       "      <td>NaN</td>\n",
       "      <td>NaN</td>\n",
       "      <td>NaN</td>\n",
       "      <td>NaN</td>\n",
       "      <td>200.0</td>\n",
       "      <td>20.0</td>\n",
       "      <td>20.0</td>\n",
       "      <td>20.0</td>\n",
       "    </tr>\n",
       "    <tr>\n",
       "      <th>154</th>\n",
       "      <td>46b48281eb6d663ced748f324108c733</td>\n",
       "      <td>NaN</td>\n",
       "      <td>NaN</td>\n",
       "      <td>NaN</td>\n",
       "      <td>NaN</td>\n",
       "      <td>18500.0</td>\n",
       "      <td>41.0</td>\n",
       "      <td>30.0</td>\n",
       "      <td>41.0</td>\n",
       "    </tr>\n",
       "    <tr>\n",
       "      <th>197</th>\n",
       "      <td>5fb61f482620cb672f5e586bb132eae9</td>\n",
       "      <td>NaN</td>\n",
       "      <td>NaN</td>\n",
       "      <td>NaN</td>\n",
       "      <td>NaN</td>\n",
       "      <td>300.0</td>\n",
       "      <td>35.0</td>\n",
       "      <td>7.0</td>\n",
       "      <td>12.0</td>\n",
       "    </tr>\n",
       "  </tbody>\n",
       "</table>\n",
       "</div>"
      ],
      "text/plain": [
       "                           product_id product_category_name  \\\n",
       "105  a41e356c76fab66334f36de622ecbd3a                   NaN   \n",
       "128  d8dee61c2034d6d075997acef1870e9b                   NaN   \n",
       "145  56139431d72cd51f19eb9f7dae4d1617                   NaN   \n",
       "154  46b48281eb6d663ced748f324108c733                   NaN   \n",
       "197  5fb61f482620cb672f5e586bb132eae9                   NaN   \n",
       "\n",
       "     product_name_lenght  product_description_lenght  product_photos_qty  \\\n",
       "105                  NaN                         NaN                 NaN   \n",
       "128                  NaN                         NaN                 NaN   \n",
       "145                  NaN                         NaN                 NaN   \n",
       "154                  NaN                         NaN                 NaN   \n",
       "197                  NaN                         NaN                 NaN   \n",
       "\n",
       "     product_weight_g  product_length_cm  product_height_cm  product_width_cm  \n",
       "105             650.0               17.0               14.0              12.0  \n",
       "128             300.0               16.0                7.0              20.0  \n",
       "145             200.0               20.0               20.0              20.0  \n",
       "154           18500.0               41.0               30.0              41.0  \n",
       "197             300.0               35.0                7.0              12.0  "
      ]
     },
     "execution_count": 27,
     "metadata": {},
     "output_type": "execute_result"
    }
   ],
   "source": [
    "products[products.isna().any(axis=1)].head(5)"
   ]
  },
  {
   "cell_type": "code",
   "execution_count": null,
   "metadata": {},
   "outputs": [
    {
     "data": {
      "text/html": [
       "<div>\n",
       "<style scoped>\n",
       "    .dataframe tbody tr th:only-of-type {\n",
       "        vertical-align: middle;\n",
       "    }\n",
       "\n",
       "    .dataframe tbody tr th {\n",
       "        vertical-align: top;\n",
       "    }\n",
       "\n",
       "    .dataframe thead th {\n",
       "        text-align: right;\n",
       "    }\n",
       "</style>\n",
       "<table border=\"1\" class=\"dataframe\">\n",
       "  <thead>\n",
       "    <tr style=\"text-align: right;\">\n",
       "      <th></th>\n",
       "      <th>product_id</th>\n",
       "      <th>product_category_name</th>\n",
       "      <th>product_name_lenght</th>\n",
       "      <th>product_description_lenght</th>\n",
       "      <th>product_photos_qty</th>\n",
       "      <th>product_weight_g</th>\n",
       "      <th>product_length_cm</th>\n",
       "      <th>product_height_cm</th>\n",
       "      <th>product_width_cm</th>\n",
       "    </tr>\n",
       "  </thead>\n",
       "  <tbody>\n",
       "    <tr>\n",
       "      <th>8578</th>\n",
       "      <td>09ff539a621711667c43eba6a3bd8466</td>\n",
       "      <td>bebes</td>\n",
       "      <td>60.0</td>\n",
       "      <td>865.0</td>\n",
       "      <td>3.0</td>\n",
       "      <td>NaN</td>\n",
       "      <td>NaN</td>\n",
       "      <td>NaN</td>\n",
       "      <td>NaN</td>\n",
       "    </tr>\n",
       "    <tr>\n",
       "      <th>18851</th>\n",
       "      <td>5eb564652db742ff8f28759cd8d2652a</td>\n",
       "      <td>NaN</td>\n",
       "      <td>NaN</td>\n",
       "      <td>NaN</td>\n",
       "      <td>NaN</td>\n",
       "      <td>NaN</td>\n",
       "      <td>NaN</td>\n",
       "      <td>NaN</td>\n",
       "      <td>NaN</td>\n",
       "    </tr>\n",
       "  </tbody>\n",
       "</table>\n",
       "</div>"
      ],
      "text/plain": [
       "                             product_id product_category_name  \\\n",
       "8578   09ff539a621711667c43eba6a3bd8466                 bebes   \n",
       "18851  5eb564652db742ff8f28759cd8d2652a                   NaN   \n",
       "\n",
       "       product_name_lenght  product_description_lenght  product_photos_qty  \\\n",
       "8578                  60.0                       865.0                 3.0   \n",
       "18851                  NaN                         NaN                 NaN   \n",
       "\n",
       "       product_weight_g  product_length_cm  product_height_cm  \\\n",
       "8578                NaN                NaN                NaN   \n",
       "18851               NaN                NaN                NaN   \n",
       "\n",
       "       product_width_cm  \n",
       "8578                NaN  \n",
       "18851               NaN  "
      ]
     },
     "execution_count": 28,
     "metadata": {},
     "output_type": "execute_result"
    }
   ],
   "source": [
    "products[products['product_weight_g'].isna()]"
   ]
  },
  {
   "cell_type": "markdown",
   "metadata": {},
   "source": [
    "# Recherche des outliers\n",
    "\n",
    "RAS pour les produits\n",
    "\n",
    "Les commandes meriteraient un nettoyage, je dois poser la question ou comparer les modeles avec et sans zscore"
   ]
  },
  {
   "cell_type": "code",
   "execution_count": null,
   "metadata": {},
   "outputs": [
    {
     "name": "stdout",
     "output_type": "stream",
     "text": [
      "Index(['geolocation_zip_code_prefix', 'geolocation_lat', 'geolocation_lng'], dtype='object')\n",
      "Index(['customer_zip_code_prefix'], dtype='object')\n",
      "Index([], dtype='object')\n",
      "Index(['order_item_id', 'price', 'freight_value'], dtype='object')\n",
      "Index(['product_name_lenght', 'product_description_lenght',\n",
      "       'product_photos_qty', 'product_weight_g', 'product_length_cm',\n",
      "       'product_height_cm', 'product_width_cm'],\n",
      "      dtype='object')\n",
      "Index(['seller_zip_code_prefix'], dtype='object')\n"
     ]
    }
   ],
   "source": [
    "for df in dfs:\n",
    "    print(\n",
    "        df.select_dtypes(include='number').columns\n",
    "    )"
   ]
  },
  {
   "cell_type": "code",
   "execution_count": null,
   "metadata": {},
   "outputs": [
    {
     "data": {
      "text/plain": [
       "(32058, 8)"
      ]
     },
     "execution_count": 43,
     "metadata": {},
     "output_type": "execute_result"
    },
    {
     "data": {
      "image/png": "[encoded data removed]",
      "text/plain": [
       "<Figure size 1440x360 with 1 Axes>"
      ]
     },
     "metadata": {},
     "output_type": "display_data"
    }
   ],
   "source": [
    "ax = sns.boxplot(data=order_items[['price', 'freight_value']])\n",
    "order_items.shape"
   ]
  },
  {
   "cell_type": "code",
   "execution_count": null,
   "metadata": {},
   "outputs": [
    {
     "data": {
      "image/png": "[encoded data removed]",
      "text/plain": [
       "<Figure size 1440x360 with 2 Axes>"
      ]
     },
     "metadata": {},
     "output_type": "display_data"
    }
   ],
   "source": [
    "frame = { \n",
    "    'freight_value': (np.abs(zscore(order_items.freight_value)) > 3), \n",
    "    'price': (np.abs(zscore(order_items.price)) > 3)\n",
    "}\n",
    "outlier_df = pd.DataFrame(frame)\n",
    "sns.heatmap(outlier_df.corr(), vmin=0, annot=True, square=True);"
   ]
  },
  {
   "cell_type": "code",
   "execution_count": null,
   "metadata": {},
   "outputs": [
    {
     "data": {
      "text/plain": [
       "(32951, 9)"
      ]
     },
     "execution_count": 50,
     "metadata": {},
     "output_type": "execute_result"
    },
    {
     "data": {
      "image/png": "[encoded data removed]",
      "text/plain": [
       "<Figure size 1440x360 with 1 Axes>"
      ]
     },
     "metadata": {},
     "output_type": "display_data"
    }
   ],
   "source": [
    "ax = sns.boxplot(data=products[\n",
    "       ['product_name_lenght',\n",
    "       'product_photos_qty', 'product_length_cm',\n",
    "       'product_height_cm', 'product_width_cm']\n",
    "])\n",
    "products.shape"
   ]
  },
  {
   "cell_type": "code",
   "execution_count": null,
   "metadata": {},
   "outputs": [
    {
     "data": {
      "image/png": "[encoded data removed]",
      "text/plain": [
       "<Figure size 1440x360 with 1 Axes>"
      ]
     },
     "metadata": {},
     "output_type": "display_data"
    }
   ],
   "source": [
    "ax = sns.boxplot(data=products[['product_description_lenght', 'product_weight_g']])"
   ]
  }
 ],
 "metadata": {
  "interpreter": {
   "hash": "a32f5b9f90d0a56ba2e15583a65eea837ae30121f4da817a60521006d6076db2"
  },
  "kernelspec": {
   "display_name": "Python 3.9.7 64-bit ('E2': conda)",
   "name": "python3"
  },
  "language_info": {
   "codemirror_mode": {
    "name": "ipython",
    "version": 3
   },
   "file_extension": ".py",
   "mimetype": "text/x-python",
   "name": "python",
   "nbconvert_exporter": "python",
   "pygments_lexer": "ipython3",
   "version": "3.9.7"
  },
  "orig_nbformat": 4
 },
 "nbformat": 4,
 "nbformat_minor": 2
}
