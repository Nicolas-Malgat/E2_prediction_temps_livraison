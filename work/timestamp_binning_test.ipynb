{
 "cells": [
  {
   "cell_type": "code",
   "execution_count": 8,
   "metadata": {},
   "outputs": [],
   "source": [
    "%load_ext autoreload\n",
    "%autoreload 2\n",
    "\n",
    "import pandas as pd\n",
    "import numpy as np  # for test data\n",
    "import random  # for test data\n",
    "\n",
    "import plotly.express as px\n",
    "import matplotlib.pyplot as plt\n",
    "\n",
    "np.random.seed(365)\n",
    "random.seed(365)"
   ]
  },
  {
   "cell_type": "code",
   "execution_count": 11,
   "metadata": {},
   "outputs": [
    {
     "name": "stdout",
     "output_type": "stream",
     "text": [
      "                 date  x     Time Bin\n",
      "0 2020-09-21 00:00:00  5  00:00-05:59\n",
      "1 2020-09-21 01:00:00  3  00:00-05:59\n",
      "2 2020-09-21 02:00:00  0  00:00-05:59\n",
      "3 2020-09-21 03:00:00  5  00:00-05:59\n",
      "4 2020-09-21 04:00:00  2  00:00-05:59\n",
      "<class 'pandas.core.frame.DataFrame'>\n",
      "RangeIndex: 1100 entries, 0 to 1099\n",
      "Data columns (total 3 columns):\n",
      " #   Column    Non-Null Count  Dtype         \n",
      "---  ------    --------------  -----         \n",
      " 0   date      1100 non-null   datetime64[ns]\n",
      " 1   x         1100 non-null   int32         \n",
      " 2   Time Bin  1100 non-null   category      \n",
      "dtypes: category(1), datetime64[ns](1), int32(1)\n",
      "memory usage: 14.3 KB\n"
     ]
    }
   ],
   "source": [
    "# setup a sample dataframe; creates 1.5 months of hourly observations\n",
    "data = {'date': pd.bdate_range('2020-09-21', freq='h', periods=1100).tolist(),\n",
    "        'x': np.random.randint(10, size=(1100))}\n",
    "df = pd.DataFrame(data)\n",
    "\n",
    "# the date column of the sample data is already in a datetime format\n",
    "# if the date column is not a datetime, then uncomment the following line\n",
    "df.date= pd.to_datetime(df.date)\n",
    "\n",
    "# define the bins\n",
    "bins = [0, 6, 12, 18, 24]\n",
    "# add custom labels if desired\n",
    "labels = ['00:00-05:59', '06:00-11:59', '12:00-17:59', '18:00-23:59']\n",
    "# add the bins to the dataframe\n",
    "df['Time Bin'] = pd.cut(df.date.dt.hour, bins, labels=labels, right=False)\n",
    "\n",
    "print(df.head())\n",
    "df.info()"
   ]
  },
  {
   "cell_type": "code",
   "execution_count": 35,
   "metadata": {},
   "outputs": [
    {
     "data": {
      "text/html": [
       "<div>\n",
       "<style scoped>\n",
       "    .dataframe tbody tr th:only-of-type {\n",
       "        vertical-align: middle;\n",
       "    }\n",
       "\n",
       "    .dataframe tbody tr th {\n",
       "        vertical-align: top;\n",
       "    }\n",
       "\n",
       "    .dataframe thead th {\n",
       "        text-align: right;\n",
       "    }\n",
       "</style>\n",
       "<table border=\"1\" class=\"dataframe\">\n",
       "  <thead>\n",
       "    <tr style=\"text-align: right;\">\n",
       "      <th></th>\n",
       "      <th>observations</th>\n",
       "      <th>bin_sum</th>\n",
       "    </tr>\n",
       "    <tr>\n",
       "      <th>Time Bin</th>\n",
       "      <th></th>\n",
       "      <th></th>\n",
       "    </tr>\n",
       "  </thead>\n",
       "  <tbody>\n",
       "    <tr>\n",
       "      <th>00:00-05:59</th>\n",
       "      <td>[5, 3, 0, 5, 2, 2, 3, 4, 7, 0, 4, 1, 0, 0, 1, ...</td>\n",
       "      <td>1170</td>\n",
       "    </tr>\n",
       "    <tr>\n",
       "      <th>06:00-11:59</th>\n",
       "      <td>[6, 2, 3, 4, 0, 2, 8, 1, 4, 0, 9, 3, 1, 0, 8, ...</td>\n",
       "      <td>1215</td>\n",
       "    </tr>\n",
       "    <tr>\n",
       "      <th>12:00-17:59</th>\n",
       "      <td>[3, 8, 3, 0, 9, 3, 1, 6, 2, 7, 0, 9, 0, 9, 9, ...</td>\n",
       "      <td>1221</td>\n",
       "    </tr>\n",
       "    <tr>\n",
       "      <th>18:00-23:59</th>\n",
       "      <td>[1, 4, 4, 5, 1, 5, 9, 3, 5, 3, 7, 6, 2, 5, 2, ...</td>\n",
       "      <td>1261</td>\n",
       "    </tr>\n",
       "  </tbody>\n",
       "</table>\n",
       "</div>"
      ],
      "text/plain": [
       "                                                  observations  bin_sum\n",
       "Time Bin                                                               \n",
       "00:00-05:59  [5, 3, 0, 5, 2, 2, 3, 4, 7, 0, 4, 1, 0, 0, 1, ...     1170\n",
       "06:00-11:59  [6, 2, 3, 4, 0, 2, 8, 1, 4, 0, 9, 3, 1, 0, 8, ...     1215\n",
       "12:00-17:59  [3, 8, 3, 0, 9, 3, 1, 6, 2, 7, 0, 9, 0, 9, 9, ...     1221\n",
       "18:00-23:59  [1, 4, 4, 5, 1, 5, 9, 3, 5, 3, 7, 6, 2, 5, 2, ...     1261"
      ]
     },
     "execution_count": 35,
     "metadata": {},
     "output_type": "execute_result"
    }
   ],
   "source": [
    "dfg = df.groupby('Time Bin', as_index=False)['x'].agg([list, 'sum'])\n",
    "# change the column names, if desired\n",
    "dfg.columns = ['observations', 'bin_sum']\n",
    "dfg"
   ]
  },
  {
   "cell_type": "code",
   "execution_count": 37,
   "metadata": {},
   "outputs": [
    {
     "data": {
      "image/png": "[encoded data removed]",
      "text/plain": [
       "<Figure size 432x288 with 1 Axes>"
      ]
     },
     "metadata": {
      "needs_background": "light"
     },
     "output_type": "display_data"
    }
   ],
   "source": [
    "plt.hist(dfg.index);"
   ]
  }
 ],
 "metadata": {
  "interpreter": {
   "hash": "b4e0f46da02f9850f267e2781d63d0f02c45fa623264b236c8ad258f9318af4a"
  },
  "kernelspec": {
   "display_name": "Python 3.9.7 64-bit ('E2': conda)",
   "language": "python",
   "name": "python3"
  },
  "language_info": {
   "codemirror_mode": {
    "name": "ipython",
    "version": 3
   },
   "file_extension": ".py",
   "mimetype": "text/x-python",
   "name": "python",
   "nbconvert_exporter": "python",
   "pygments_lexer": "ipython3",
   "version": "3.9.7"
  },
  "orig_nbformat": 4
 },
 "nbformat": 4,
 "nbformat_minor": 2
}
