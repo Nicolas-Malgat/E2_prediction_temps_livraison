{
 "cells": [
  {
   "cell_type": "markdown",
   "metadata": {},
   "source": [
    "# Amelioration du modele\n",
    "\n",
    "Afin d'ameliorer mon modele, j'ajoute un jeu de données par ville bresilienne\n",
    "\n",
    "Je pense que les zones densément peuplés sont mieux désservies, les informations de population par exemple sont interessantes"
   ]
  },
  {
   "cell_type": "code",
   "execution_count": 1,
   "metadata": {},
   "outputs": [],
   "source": [
    "import pandas as pd\n",
    "import numpy as np\n",
    "import sqlite3\n",
    "import seaborn as sns\n",
    "\n",
    "from sklearn.preprocessing import OneHotEncoder\n",
    "from sklearn.pipeline import Pipeline\n",
    "from sklearn.compose import ColumnTransformer\n",
    "from sklearn.feature_selection import SelectKBest, f_regression\n",
    "import os\n",
    "\n",
    "from unidecode import unidecode"
   ]
  },
  {
   "cell_type": "code",
   "execution_count": 2,
   "metadata": {},
   "outputs": [
    {
     "data": {
      "text/html": [
       "<div>\n",
       "<style scoped>\n",
       "    .dataframe tbody tr th:only-of-type {\n",
       "        vertical-align: middle;\n",
       "    }\n",
       "\n",
       "    .dataframe tbody tr th {\n",
       "        vertical-align: top;\n",
       "    }\n",
       "\n",
       "    .dataframe thead th {\n",
       "        text-align: right;\n",
       "    }\n",
       "</style>\n",
       "<table border=\"1\" class=\"dataframe\">\n",
       "  <thead>\n",
       "    <tr style=\"text-align: right;\">\n",
       "      <th></th>\n",
       "      <th>distance</th>\n",
       "      <th>estimated_delay</th>\n",
       "      <th>price</th>\n",
       "      <th>freight_value</th>\n",
       "      <th>customer_city</th>\n",
       "      <th>customer_state</th>\n",
       "      <th>seller_city</th>\n",
       "      <th>seller_state</th>\n",
       "      <th>weight</th>\n",
       "      <th>volume</th>\n",
       "      <th>...</th>\n",
       "      <th>February</th>\n",
       "      <th>January</th>\n",
       "      <th>July</th>\n",
       "      <th>June</th>\n",
       "      <th>March</th>\n",
       "      <th>May</th>\n",
       "      <th>November</th>\n",
       "      <th>October</th>\n",
       "      <th>September</th>\n",
       "      <th>shipping_delay</th>\n",
       "    </tr>\n",
       "    <tr>\n",
       "      <th>index</th>\n",
       "      <th></th>\n",
       "      <th></th>\n",
       "      <th></th>\n",
       "      <th></th>\n",
       "      <th></th>\n",
       "      <th></th>\n",
       "      <th></th>\n",
       "      <th></th>\n",
       "      <th></th>\n",
       "      <th></th>\n",
       "      <th></th>\n",
       "      <th></th>\n",
       "      <th></th>\n",
       "      <th></th>\n",
       "      <th></th>\n",
       "      <th></th>\n",
       "      <th></th>\n",
       "      <th></th>\n",
       "      <th></th>\n",
       "      <th></th>\n",
       "      <th></th>\n",
       "    </tr>\n",
       "  </thead>\n",
       "  <tbody>\n",
       "    <tr>\n",
       "      <th>0</th>\n",
       "      <td>2400.386719</td>\n",
       "      <td>28.566238</td>\n",
       "      <td>21.99</td>\n",
       "      <td>14.110000</td>\n",
       "      <td>rio de janeiro</td>\n",
       "      <td>RJ</td>\n",
       "      <td>sao paulo</td>\n",
       "      <td>SP</td>\n",
       "      <td>125.0</td>\n",
       "      <td>1040.0</td>\n",
       "      <td>...</td>\n",
       "      <td>1.0</td>\n",
       "      <td>0.0</td>\n",
       "      <td>0.0</td>\n",
       "      <td>0.0</td>\n",
       "      <td>0.0</td>\n",
       "      <td>0.0</td>\n",
       "      <td>0.0</td>\n",
       "      <td>0.0</td>\n",
       "      <td>0.0</td>\n",
       "      <td>6.000926</td>\n",
       "    </tr>\n",
       "    <tr>\n",
       "      <th>1</th>\n",
       "      <td>2653.626709</td>\n",
       "      <td>22.309410</td>\n",
       "      <td>412.00</td>\n",
       "      <td>27.719999</td>\n",
       "      <td>atibaia</td>\n",
       "      <td>SP</td>\n",
       "      <td>curitiba</td>\n",
       "      <td>PR</td>\n",
       "      <td>6000.0</td>\n",
       "      <td>36000.0</td>\n",
       "      <td>...</td>\n",
       "      <td>1.0</td>\n",
       "      <td>0.0</td>\n",
       "      <td>0.0</td>\n",
       "      <td>0.0</td>\n",
       "      <td>0.0</td>\n",
       "      <td>0.0</td>\n",
       "      <td>0.0</td>\n",
       "      <td>0.0</td>\n",
       "      <td>0.0</td>\n",
       "      <td>14.149213</td>\n",
       "    </tr>\n",
       "    <tr>\n",
       "      <th>2</th>\n",
       "      <td>2653.626709</td>\n",
       "      <td>22.309410</td>\n",
       "      <td>412.00</td>\n",
       "      <td>27.719999</td>\n",
       "      <td>atibaia</td>\n",
       "      <td>SP</td>\n",
       "      <td>curitiba</td>\n",
       "      <td>PR</td>\n",
       "      <td>6000.0</td>\n",
       "      <td>36000.0</td>\n",
       "      <td>...</td>\n",
       "      <td>1.0</td>\n",
       "      <td>0.0</td>\n",
       "      <td>0.0</td>\n",
       "      <td>0.0</td>\n",
       "      <td>0.0</td>\n",
       "      <td>0.0</td>\n",
       "      <td>0.0</td>\n",
       "      <td>0.0</td>\n",
       "      <td>0.0</td>\n",
       "      <td>14.149213</td>\n",
       "    </tr>\n",
       "    <tr>\n",
       "      <th>3</th>\n",
       "      <td>2596.499512</td>\n",
       "      <td>17.523668</td>\n",
       "      <td>420.00</td>\n",
       "      <td>24.240000</td>\n",
       "      <td>sao paulo</td>\n",
       "      <td>SP</td>\n",
       "      <td>curitiba</td>\n",
       "      <td>PR</td>\n",
       "      <td>3000.0</td>\n",
       "      <td>18000.0</td>\n",
       "      <td>...</td>\n",
       "      <td>0.0</td>\n",
       "      <td>0.0</td>\n",
       "      <td>1.0</td>\n",
       "      <td>0.0</td>\n",
       "      <td>0.0</td>\n",
       "      <td>0.0</td>\n",
       "      <td>0.0</td>\n",
       "      <td>0.0</td>\n",
       "      <td>0.0</td>\n",
       "      <td>4.436667</td>\n",
       "    </tr>\n",
       "    <tr>\n",
       "      <th>4</th>\n",
       "      <td>3061.440186</td>\n",
       "      <td>22.359861</td>\n",
       "      <td>412.00</td>\n",
       "      <td>26.260000</td>\n",
       "      <td>belo horizonte</td>\n",
       "      <td>MG</td>\n",
       "      <td>curitiba</td>\n",
       "      <td>PR</td>\n",
       "      <td>3000.0</td>\n",
       "      <td>18000.0</td>\n",
       "      <td>...</td>\n",
       "      <td>1.0</td>\n",
       "      <td>0.0</td>\n",
       "      <td>0.0</td>\n",
       "      <td>0.0</td>\n",
       "      <td>0.0</td>\n",
       "      <td>0.0</td>\n",
       "      <td>0.0</td>\n",
       "      <td>0.0</td>\n",
       "      <td>0.0</td>\n",
       "      <td>13.238160</td>\n",
       "    </tr>\n",
       "  </tbody>\n",
       "</table>\n",
       "<p>5 rows × 103 columns</p>\n",
       "</div>"
      ],
      "text/plain": [
       "          distance  estimated_delay   price  freight_value   customer_city  \\\n",
       "index                                                                        \n",
       "0      2400.386719        28.566238   21.99      14.110000  rio de janeiro   \n",
       "1      2653.626709        22.309410  412.00      27.719999         atibaia   \n",
       "2      2653.626709        22.309410  412.00      27.719999         atibaia   \n",
       "3      2596.499512        17.523668  420.00      24.240000       sao paulo   \n",
       "4      3061.440186        22.359861  412.00      26.260000  belo horizonte   \n",
       "\n",
       "      customer_state seller_city seller_state  weight   volume  ...  February  \\\n",
       "index                                                           ...             \n",
       "0                 RJ   sao paulo           SP   125.0   1040.0  ...       1.0   \n",
       "1                 SP    curitiba           PR  6000.0  36000.0  ...       1.0   \n",
       "2                 SP    curitiba           PR  6000.0  36000.0  ...       1.0   \n",
       "3                 SP    curitiba           PR  3000.0  18000.0  ...       0.0   \n",
       "4                 MG    curitiba           PR  3000.0  18000.0  ...       1.0   \n",
       "\n",
       "       January  July  June  March  May  November  October  September  \\\n",
       "index                                                                  \n",
       "0          0.0   0.0   0.0    0.0  0.0       0.0      0.0        0.0   \n",
       "1          0.0   0.0   0.0    0.0  0.0       0.0      0.0        0.0   \n",
       "2          0.0   0.0   0.0    0.0  0.0       0.0      0.0        0.0   \n",
       "3          0.0   1.0   0.0    0.0  0.0       0.0      0.0        0.0   \n",
       "4          0.0   0.0   0.0    0.0  0.0       0.0      0.0        0.0   \n",
       "\n",
       "       shipping_delay  \n",
       "index                  \n",
       "0            6.000926  \n",
       "1           14.149213  \n",
       "2           14.149213  \n",
       "3            4.436667  \n",
       "4           13.238160  \n",
       "\n",
       "[5 rows x 103 columns]"
      ]
     },
     "execution_count": 2,
     "metadata": {},
     "output_type": "execute_result"
    }
   ],
   "source": [
    "clean = '../../datas/CLEAN/E2/'\n",
    "\n",
    "con = sqlite3.connect(clean + 'E2.db')\n",
    "df = pd.read_sql('select * from base_modele_ameliore', con, index_col='index')\n",
    "\n",
    "con.close()\n",
    "\n",
    "df.head()"
   ]
  },
  {
   "cell_type": "markdown",
   "metadata": {},
   "source": [
    "### Recuperation du nombre de compagnies de transport"
   ]
  },
  {
   "cell_type": "code",
   "execution_count": 3,
   "metadata": {},
   "outputs": [
    {
     "data": {
      "text/plain": [
       "0    abadia de goias GO\n",
       "Name: id, dtype: object"
      ]
     },
     "execution_count": 3,
     "metadata": {},
     "output_type": "execute_result"
    }
   ],
   "source": [
    "df_pop = pd.read_csv('modele_amelioration_dataset/BRAZIL_CITIES.csv', sep=';')\n",
    "\n",
    "# Filtre les colonnes interessantes\n",
    "df_pop_cols = ['CITY', 'STATE', 'CAPITAL', 'IBGE_RES_POP', 'ESTIMATED_POP', 'RURAL_URBAN', 'POP_GDP', 'COMP_H', 'POST_OFFICES']\n",
    "df_pop = df_pop[df_pop_cols]\n",
    "\n",
    "# Creation d'un id\n",
    "df_pop.CITY = df_pop.CITY.apply(str.lower).apply(unidecode)\n",
    "df_pop['id'] = df_pop.CITY + ' ' + df_pop.STATE\n",
    "df_pop_cols = ['CAPITAL', 'IBGE_RES_POP', 'ESTIMATED_POP', 'RURAL_URBAN', 'POP_GDP', 'COMP_H', 'POST_OFFICES']\n",
    "df_pop = df_pop.drop(columns=['CITY', 'STATE'])\n",
    "\n",
    "df_pop.id.head(1)"
   ]
  },
  {
   "cell_type": "code",
   "execution_count": 4,
   "metadata": {},
   "outputs": [
    {
     "data": {
      "text/html": [
       "<div>\n",
       "<style scoped>\n",
       "    .dataframe tbody tr th:only-of-type {\n",
       "        vertical-align: middle;\n",
       "    }\n",
       "\n",
       "    .dataframe tbody tr th {\n",
       "        vertical-align: top;\n",
       "    }\n",
       "\n",
       "    .dataframe thead th {\n",
       "        text-align: right;\n",
       "    }\n",
       "</style>\n",
       "<table border=\"1\" class=\"dataframe\">\n",
       "  <thead>\n",
       "    <tr style=\"text-align: right;\">\n",
       "      <th></th>\n",
       "      <th>distance</th>\n",
       "      <th>estimated_delay</th>\n",
       "      <th>price</th>\n",
       "      <th>freight_value</th>\n",
       "      <th>customer_city</th>\n",
       "      <th>customer_state</th>\n",
       "      <th>seller_city</th>\n",
       "      <th>seller_state</th>\n",
       "      <th>weight</th>\n",
       "      <th>volume</th>\n",
       "      <th>...</th>\n",
       "      <th>customer_id</th>\n",
       "      <th>seller_id</th>\n",
       "      <th>CAPITAL</th>\n",
       "      <th>IBGE_RES_POP</th>\n",
       "      <th>ESTIMATED_POP</th>\n",
       "      <th>RURAL_URBAN</th>\n",
       "      <th>POP_GDP</th>\n",
       "      <th>COMP_H</th>\n",
       "      <th>POST_OFFICES</th>\n",
       "      <th>id</th>\n",
       "    </tr>\n",
       "  </thead>\n",
       "  <tbody>\n",
       "    <tr>\n",
       "      <th>0</th>\n",
       "      <td>2400.386719</td>\n",
       "      <td>28.566238</td>\n",
       "      <td>21.99</td>\n",
       "      <td>14.11</td>\n",
       "      <td>rio de janeiro</td>\n",
       "      <td>RJ</td>\n",
       "      <td>sao paulo</td>\n",
       "      <td>SP</td>\n",
       "      <td>125.0</td>\n",
       "      <td>1040.0</td>\n",
       "      <td>...</td>\n",
       "      <td>rio de janeiro RJ</td>\n",
       "      <td>sao paulo SP</td>\n",
       "      <td>1.0</td>\n",
       "      <td>6320446.0</td>\n",
       "      <td>6688927.0</td>\n",
       "      <td>Urbano</td>\n",
       "      <td>6498837.0</td>\n",
       "      <td>4825.0</td>\n",
       "      <td>120.0</td>\n",
       "      <td>rio de janeiro RJ</td>\n",
       "    </tr>\n",
       "  </tbody>\n",
       "</table>\n",
       "<p>1 rows × 113 columns</p>\n",
       "</div>"
      ],
      "text/plain": [
       "      distance  estimated_delay  price  freight_value   customer_city  \\\n",
       "0  2400.386719        28.566238  21.99          14.11  rio de janeiro   \n",
       "\n",
       "  customer_state seller_city seller_state  weight  volume  ...  \\\n",
       "0             RJ   sao paulo           SP   125.0  1040.0  ...   \n",
       "\n",
       "         customer_id     seller_id  CAPITAL  IBGE_RES_POP  ESTIMATED_POP  \\\n",
       "0  rio de janeiro RJ  sao paulo SP      1.0     6320446.0      6688927.0   \n",
       "\n",
       "   RURAL_URBAN    POP_GDP  COMP_H  POST_OFFICES                 id  \n",
       "0       Urbano  6498837.0  4825.0         120.0  rio de janeiro RJ  \n",
       "\n",
       "[1 rows x 113 columns]"
      ]
     },
     "execution_count": 4,
     "metadata": {},
     "output_type": "execute_result"
    }
   ],
   "source": [
    "df['customer_id'] = df.customer_city + ' ' + df.customer_state\n",
    "df['seller_id'] = df.seller_city + ' ' + df.seller_state\n",
    "\n",
    "df = df.merge(df_pop, how='left', left_on='customer_id', right_on='id')\n",
    "df.head(1)"
   ]
  },
  {
   "cell_type": "code",
   "execution_count": 5,
   "metadata": {},
   "outputs": [
    {
     "data": {
      "text/plain": [
       "(<AxesSubplot:>,\n",
       " CAPITAL         -0.054407\n",
       " IBGE_RES_POP    -0.197762\n",
       " ESTIMATED_POP   -0.198824\n",
       " POP_GDP         -0.199168\n",
       " COMP_H          -0.228642\n",
       " POST_OFFICES    -0.196396\n",
       " dtype: float64)"
      ]
     },
     "execution_count": 5,
     "metadata": {},
     "output_type": "execute_result"
    },
    {
     "data": {
      "image/png": "[encoded data removed]",
      "text/plain": [
       "<Figure size 432x288 with 2 Axes>"
      ]
     },
     "metadata": {
      "needs_background": "light"
     },
     "output_type": "display_data"
    }
   ],
   "source": [
    "sns.heatmap(\n",
    "    df[df_pop_cols].corr(),\n",
    "    cmap='mako', annot=True\n",
    "), df[df_pop_cols].corrwith(df.shipping_delay)"
   ]
  },
  {
   "cell_type": "markdown",
   "metadata": {},
   "source": [
    "Etant donné que les variables sont toutes très corrélées entre elles, je ne prends que la meilleure correlation avec la cible"
   ]
  },
  {
   "cell_type": "code",
   "execution_count": 6,
   "metadata": {},
   "outputs": [
    {
     "data": {
      "text/html": [
       "<div>\n",
       "<style scoped>\n",
       "    .dataframe tbody tr th:only-of-type {\n",
       "        vertical-align: middle;\n",
       "    }\n",
       "\n",
       "    .dataframe tbody tr th {\n",
       "        vertical-align: top;\n",
       "    }\n",
       "\n",
       "    .dataframe thead th {\n",
       "        text-align: right;\n",
       "    }\n",
       "</style>\n",
       "<table border=\"1\" class=\"dataframe\">\n",
       "  <thead>\n",
       "    <tr style=\"text-align: right;\">\n",
       "      <th></th>\n",
       "      <th>distance</th>\n",
       "      <th>estimated_delay</th>\n",
       "      <th>price</th>\n",
       "      <th>freight_value</th>\n",
       "      <th>seller_city</th>\n",
       "      <th>seller_state</th>\n",
       "      <th>weight</th>\n",
       "      <th>volume</th>\n",
       "      <th>cool_stuff</th>\n",
       "      <th>pet_shop</th>\n",
       "      <th>...</th>\n",
       "      <th>July</th>\n",
       "      <th>June</th>\n",
       "      <th>March</th>\n",
       "      <th>May</th>\n",
       "      <th>November</th>\n",
       "      <th>October</th>\n",
       "      <th>September</th>\n",
       "      <th>shipping_delay</th>\n",
       "      <th>seller_id</th>\n",
       "      <th>customer_transport</th>\n",
       "    </tr>\n",
       "  </thead>\n",
       "  <tbody>\n",
       "    <tr>\n",
       "      <th>0</th>\n",
       "      <td>2400.386719</td>\n",
       "      <td>28.566238</td>\n",
       "      <td>21.99</td>\n",
       "      <td>14.11</td>\n",
       "      <td>sao paulo</td>\n",
       "      <td>SP</td>\n",
       "      <td>125.0</td>\n",
       "      <td>1040.0</td>\n",
       "      <td>0.0</td>\n",
       "      <td>0.0</td>\n",
       "      <td>...</td>\n",
       "      <td>0.0</td>\n",
       "      <td>0.0</td>\n",
       "      <td>0.0</td>\n",
       "      <td>0.0</td>\n",
       "      <td>0.0</td>\n",
       "      <td>0.0</td>\n",
       "      <td>0.0</td>\n",
       "      <td>6.000926</td>\n",
       "      <td>sao paulo SP</td>\n",
       "      <td>4825.0</td>\n",
       "    </tr>\n",
       "  </tbody>\n",
       "</table>\n",
       "<p>1 rows × 103 columns</p>\n",
       "</div>"
      ],
      "text/plain": [
       "      distance  estimated_delay  price  freight_value seller_city  \\\n",
       "0  2400.386719        28.566238  21.99          14.11   sao paulo   \n",
       "\n",
       "  seller_state  weight  volume  cool_stuff  pet_shop  ...  July  June  March  \\\n",
       "0           SP   125.0  1040.0         0.0       0.0  ...   0.0   0.0    0.0   \n",
       "\n",
       "   May  November  October  September  shipping_delay     seller_id  \\\n",
       "0  0.0       0.0      0.0        0.0        6.000926  sao paulo SP   \n",
       "\n",
       "   customer_transport  \n",
       "0              4825.0  \n",
       "\n",
       "[1 rows x 103 columns]"
      ]
     },
     "execution_count": 6,
     "metadata": {},
     "output_type": "execute_result"
    }
   ],
   "source": [
    "df_pop_cols.remove('COMP_H')\n",
    "df = df.drop(columns=df_pop_cols + ['id', 'customer_id', 'customer_city', 'customer_state'], errors='ignore')\n",
    "df = df.rename(columns={\n",
    "    'COMP_H': 'customer_transport'\n",
    "})\n",
    "df.head(1)"
   ]
  },
  {
   "cell_type": "markdown",
   "metadata": {},
   "source": [
    "Remplacement des valeurs vides par la mediane"
   ]
  },
  {
   "cell_type": "code",
   "execution_count": 7,
   "metadata": {},
   "outputs": [
    {
     "name": "stdout",
     "output_type": "stream",
     "text": [
      "632\n"
     ]
    },
    {
     "data": {
      "text/plain": [
       "0"
      ]
     },
     "execution_count": 7,
     "metadata": {},
     "output_type": "execute_result"
    }
   ],
   "source": [
    "print(df.customer_transport.isna().sum())\n",
    "df.customer_transport = df.customer_transport.fillna(df.customer_transport.median())\n",
    "df.customer_transport.isna().sum()"
   ]
  },
  {
   "cell_type": "markdown",
   "metadata": {},
   "source": [
    "### Meme traitement pour les vendeurs"
   ]
  },
  {
   "cell_type": "code",
   "execution_count": 8,
   "metadata": {},
   "outputs": [
    {
     "data": {
      "text/plain": [
       "CAPITAL         -0.086745\n",
       "IBGE_RES_POP    -0.103065\n",
       "ESTIMATED_POP   -0.102989\n",
       "POP_GDP         -0.103003\n",
       "COMP_H          -0.103294\n",
       "POST_OFFICES    -0.103512\n",
       "dtype: float64"
      ]
     },
     "execution_count": 8,
     "metadata": {},
     "output_type": "execute_result"
    }
   ],
   "source": [
    "df_pop_cols = ['CAPITAL', 'IBGE_RES_POP', 'ESTIMATED_POP', 'RURAL_URBAN', 'POP_GDP', 'COMP_H', 'POST_OFFICES']\n",
    "df = df.merge(df_pop, how='left', left_on='seller_id', right_on='id')\n",
    "\n",
    "df[df_pop_cols].corrwith(df.shipping_delay)"
   ]
  },
  {
   "cell_type": "markdown",
   "metadata": {},
   "source": [
    "Etant donné que les variables sont toutes très corrélées entre elles, je ne prends que la meilleure correlation avec la cible"
   ]
  },
  {
   "cell_type": "code",
   "execution_count": 9,
   "metadata": {},
   "outputs": [
    {
     "data": {
      "text/html": [
       "<div>\n",
       "<style scoped>\n",
       "    .dataframe tbody tr th:only-of-type {\n",
       "        vertical-align: middle;\n",
       "    }\n",
       "\n",
       "    .dataframe tbody tr th {\n",
       "        vertical-align: top;\n",
       "    }\n",
       "\n",
       "    .dataframe thead th {\n",
       "        text-align: right;\n",
       "    }\n",
       "</style>\n",
       "<table border=\"1\" class=\"dataframe\">\n",
       "  <thead>\n",
       "    <tr style=\"text-align: right;\">\n",
       "      <th></th>\n",
       "      <th>distance</th>\n",
       "      <th>estimated_delay</th>\n",
       "      <th>price</th>\n",
       "      <th>freight_value</th>\n",
       "      <th>weight</th>\n",
       "      <th>volume</th>\n",
       "      <th>cool_stuff</th>\n",
       "      <th>pet_shop</th>\n",
       "      <th>moveis_decoracao</th>\n",
       "      <th>perfumaria</th>\n",
       "      <th>...</th>\n",
       "      <th>July</th>\n",
       "      <th>June</th>\n",
       "      <th>March</th>\n",
       "      <th>May</th>\n",
       "      <th>November</th>\n",
       "      <th>October</th>\n",
       "      <th>September</th>\n",
       "      <th>shipping_delay</th>\n",
       "      <th>customer_transport</th>\n",
       "      <th>seller_post</th>\n",
       "    </tr>\n",
       "  </thead>\n",
       "  <tbody>\n",
       "    <tr>\n",
       "      <th>0</th>\n",
       "      <td>2400.386719</td>\n",
       "      <td>28.566238</td>\n",
       "      <td>21.99</td>\n",
       "      <td>14.11</td>\n",
       "      <td>125.0</td>\n",
       "      <td>1040.0</td>\n",
       "      <td>0.0</td>\n",
       "      <td>0.0</td>\n",
       "      <td>0.0</td>\n",
       "      <td>0.0</td>\n",
       "      <td>...</td>\n",
       "      <td>0.0</td>\n",
       "      <td>0.0</td>\n",
       "      <td>0.0</td>\n",
       "      <td>0.0</td>\n",
       "      <td>0.0</td>\n",
       "      <td>0.0</td>\n",
       "      <td>0.0</td>\n",
       "      <td>6.000926</td>\n",
       "      <td>4825.0</td>\n",
       "      <td>225.0</td>\n",
       "    </tr>\n",
       "  </tbody>\n",
       "</table>\n",
       "<p>1 rows × 101 columns</p>\n",
       "</div>"
      ],
      "text/plain": [
       "      distance  estimated_delay  price  freight_value  weight  volume  \\\n",
       "0  2400.386719        28.566238  21.99          14.11   125.0  1040.0   \n",
       "\n",
       "   cool_stuff  pet_shop  moveis_decoracao  perfumaria  ...  July  June  March  \\\n",
       "0         0.0       0.0               0.0         0.0  ...   0.0   0.0    0.0   \n",
       "\n",
       "   May  November  October  September  shipping_delay  customer_transport  \\\n",
       "0  0.0       0.0      0.0        0.0        6.000926              4825.0   \n",
       "\n",
       "   seller_post  \n",
       "0        225.0  \n",
       "\n",
       "[1 rows x 101 columns]"
      ]
     },
     "execution_count": 9,
     "metadata": {},
     "output_type": "execute_result"
    }
   ],
   "source": [
    "df_pop_cols.remove('POST_OFFICES')\n",
    "df = df.drop(columns=df_pop_cols + ['id', 'seller_id', 'seller_city', 'seller_state'], errors='ignore')\n",
    "df = df.rename(columns={\n",
    "    'POST_OFFICES': 'seller_post'\n",
    "})\n",
    "df.head(1)"
   ]
  },
  {
   "cell_type": "markdown",
   "metadata": {},
   "source": [
    "Remplacement des valeurs vides par la mediane"
   ]
  },
  {
   "cell_type": "code",
   "execution_count": 10,
   "metadata": {},
   "outputs": [
    {
     "name": "stdout",
     "output_type": "stream",
     "text": [
      "2394\n"
     ]
    },
    {
     "data": {
      "text/plain": [
       "0"
      ]
     },
     "execution_count": 10,
     "metadata": {},
     "output_type": "execute_result"
    }
   ],
   "source": [
    "print(df.seller_post.isna().sum())\n",
    "df.seller_post = df.seller_post.fillna(df.seller_post.median())\n",
    "df.seller_post.isna().sum()"
   ]
  },
  {
   "cell_type": "code",
   "execution_count": 11,
   "metadata": {},
   "outputs": [
    {
     "name": "stdout",
     "output_type": "stream",
     "text": [
      "80012200\n",
      "40402200\n"
     ]
    },
    {
     "data": {
      "text/plain": [
       "(99025, 100)"
      ]
     },
     "execution_count": 11,
     "metadata": {},
     "output_type": "execute_result"
    }
   ],
   "source": [
    "y = df.pop('shipping_delay')\n",
    "y = y.astype('float')\n",
    "\n",
    "print(df.memory_usage().sum())\n",
    "numeric_cols = df.select_dtypes(include=np.number).columns\n",
    "\n",
    "# optimisation de taille\n",
    "df[numeric_cols] = df[numeric_cols].apply(pd.to_numeric, downcast=\"float\")\n",
    "y = y.apply(pd.to_numeric, downcast=\"float\")\n",
    "\n",
    "print(df.memory_usage().sum())\n",
    "\n",
    "df.shape"
   ]
  },
  {
   "cell_type": "markdown",
   "metadata": {},
   "source": [
    "# Feature selection et preprocessing"
   ]
  },
  {
   "cell_type": "markdown",
   "metadata": {},
   "source": [
    "### Feature selection"
   ]
  },
  {
   "cell_type": "markdown",
   "metadata": {},
   "source": [
    "Si je veux faire un formulaire avec mes données, je souhaite réduire au maximum mon nombre de variables \n",
    "\n",
    "( à 20 variables etant donné que les mois et produits sont très simples à renseigner )\n",
    "\n",
    "La moitié des variables ont en absolu moins de 0.01 de correlation avec le temps de livraison"
   ]
  },
  {
   "cell_type": "code",
   "execution_count": 12,
   "metadata": {},
   "outputs": [
    {
     "data": {
      "text/plain": [
       "(100, 49)"
      ]
     },
     "execution_count": 12,
     "metadata": {},
     "output_type": "execute_result"
    }
   ],
   "source": [
    "df.shape[1], (abs(df.corrwith(y)).sort_values(ascending=False) < 0.01).sum()"
   ]
  },
  {
   "cell_type": "markdown",
   "metadata": {},
   "source": [
    "65 variables on une P-value inferieures à 0.05"
   ]
  },
  {
   "cell_type": "code",
   "execution_count": 13,
   "metadata": {},
   "outputs": [
    {
     "data": {
      "text/plain": [
       "(100, 65)"
      ]
     },
     "execution_count": 13,
     "metadata": {},
     "output_type": "execute_result"
    }
   ],
   "source": [
    "df.shape[1], (pd.Series(f_regression(df, y)[1]).sort_values(ascending=True) < 0.05).sum()"
   ]
  },
  {
   "cell_type": "code",
   "execution_count": 14,
   "metadata": {},
   "outputs": [
    {
     "name": "stdout",
     "output_type": "stream",
     "text": [
      "(99025, 20) (99025,)\n"
     ]
    },
    {
     "data": {
      "text/html": [
       "<div>\n",
       "<style scoped>\n",
       "    .dataframe tbody tr th:only-of-type {\n",
       "        vertical-align: middle;\n",
       "    }\n",
       "\n",
       "    .dataframe tbody tr th {\n",
       "        vertical-align: top;\n",
       "    }\n",
       "\n",
       "    .dataframe thead th {\n",
       "        text-align: right;\n",
       "    }\n",
       "</style>\n",
       "<table border=\"1\" class=\"dataframe\">\n",
       "  <thead>\n",
       "    <tr style=\"text-align: right;\">\n",
       "      <th></th>\n",
       "      <th>distance</th>\n",
       "      <th>estimated_delay</th>\n",
       "      <th>price</th>\n",
       "      <th>freight_value</th>\n",
       "      <th>weight</th>\n",
       "      <th>volume</th>\n",
       "      <th>ferramentas_jardim</th>\n",
       "      <th>utilidades_domesticas</th>\n",
       "      <th>moveis_escritorio</th>\n",
       "      <th>Friday</th>\n",
       "      <th>August</th>\n",
       "      <th>December</th>\n",
       "      <th>February</th>\n",
       "      <th>January</th>\n",
       "      <th>July</th>\n",
       "      <th>June</th>\n",
       "      <th>March</th>\n",
       "      <th>November</th>\n",
       "      <th>customer_transport</th>\n",
       "      <th>seller_post</th>\n",
       "    </tr>\n",
       "  </thead>\n",
       "  <tbody>\n",
       "    <tr>\n",
       "      <th>0</th>\n",
       "      <td>2400.386719</td>\n",
       "      <td>28.566238</td>\n",
       "      <td>21.99</td>\n",
       "      <td>14.11</td>\n",
       "      <td>125.0</td>\n",
       "      <td>1040.0</td>\n",
       "      <td>0.0</td>\n",
       "      <td>0.0</td>\n",
       "      <td>0.0</td>\n",
       "      <td>0.0</td>\n",
       "      <td>0.0</td>\n",
       "      <td>0.0</td>\n",
       "      <td>1.0</td>\n",
       "      <td>0.0</td>\n",
       "      <td>0.0</td>\n",
       "      <td>0.0</td>\n",
       "      <td>0.0</td>\n",
       "      <td>0.0</td>\n",
       "      <td>4825.0</td>\n",
       "      <td>225.0</td>\n",
       "    </tr>\n",
       "  </tbody>\n",
       "</table>\n",
       "</div>"
      ],
      "text/plain": [
       "      distance  estimated_delay  price  freight_value  weight  volume  \\\n",
       "0  2400.386719        28.566238  21.99          14.11   125.0  1040.0   \n",
       "\n",
       "   ferramentas_jardim  utilidades_domesticas  moveis_escritorio  Friday  \\\n",
       "0                 0.0                    0.0                0.0     0.0   \n",
       "\n",
       "   August  December  February  January  July  June  March  November  \\\n",
       "0     0.0       0.0       1.0      0.0   0.0   0.0    0.0       0.0   \n",
       "\n",
       "   customer_transport  seller_post  \n",
       "0              4825.0        225.0  "
      ]
     },
     "execution_count": 14,
     "metadata": {},
     "output_type": "execute_result"
    }
   ],
   "source": [
    "df_cols = df.columns\n",
    "\n",
    "selector = SelectKBest(f_regression, k=20)\n",
    "X = pd.DataFrame(selector.fit_transform(df, y))\n",
    "X.columns = df_cols[selector.get_support()]\n",
    "print(X.shape, y.shape)\n",
    "X.head(1)"
   ]
  },
  {
   "cell_type": "code",
   "execution_count": 15,
   "metadata": {},
   "outputs": [],
   "source": [
    "clean = '../../datas/CLEAN/E2/'\n",
    "\n",
    "if os.path.exists(clean) == False:\n",
    "    os.makedirs(clean)\n",
    "con = sqlite3.connect(clean + 'E2.db')\n",
    "X.to_sql(name='preprocessor_amelioration_input', con=con, if_exists='replace')\n",
    "con.close()"
   ]
  },
  {
   "cell_type": "markdown",
   "metadata": {},
   "source": [
    "### Pipeline"
   ]
  },
  {
   "cell_type": "markdown",
   "metadata": {},
   "source": [
    "Certaines colonnes sont deja sous forme de OneHotEncoder\n",
    "\n",
    "C'est pourquoi je ne les traite pas"
   ]
  },
  {
   "cell_type": "code",
   "execution_count": 16,
   "metadata": {},
   "outputs": [
    {
     "data": {
      "text/plain": [
       "Index(['distance', 'estimated_delay', 'price', 'freight_value', 'weight',\n",
       "       'volume', 'customer_transport', 'seller_post'],\n",
       "      dtype='object')"
      ]
     },
     "execution_count": 16,
     "metadata": {},
     "output_type": "execute_result"
    }
   ],
   "source": [
    "from sklearn.preprocessing import StandardScaler\n",
    "from sklearn.impute import SimpleImputer\n",
    "\n",
    "numeric_transformer = Pipeline(steps=[\n",
    "    ('scaler', StandardScaler())\n",
    "])\n",
    "categorical_transformer = Pipeline(steps=[\n",
    "    ('do_nothing', SimpleImputer(strategy='constant', fill_value=-1))\n",
    "])\n",
    "\n",
    "categorical_features = X.columns[(~(X.nunique() > 2)).to_list()]\n",
    "numeric_features = X.columns[(X.nunique() > 2).to_list()]\n",
    "\n",
    "preprocessor = ColumnTransformer(transformers=[\n",
    "    ('num', numeric_transformer, numeric_features),\n",
    "    ('cat', categorical_transformer, categorical_features),\n",
    "])\n",
    "numeric_features"
   ]
  },
  {
   "cell_type": "code",
   "execution_count": 17,
   "metadata": {},
   "outputs": [
    {
     "data": {
      "text/html": [
       "<div>\n",
       "<style scoped>\n",
       "    .dataframe tbody tr th:only-of-type {\n",
       "        vertical-align: middle;\n",
       "    }\n",
       "\n",
       "    .dataframe tbody tr th {\n",
       "        vertical-align: top;\n",
       "    }\n",
       "\n",
       "    .dataframe thead th {\n",
       "        text-align: right;\n",
       "    }\n",
       "</style>\n",
       "<table border=\"1\" class=\"dataframe\">\n",
       "  <thead>\n",
       "    <tr style=\"text-align: right;\">\n",
       "      <th></th>\n",
       "      <th>0</th>\n",
       "      <th>1</th>\n",
       "      <th>2</th>\n",
       "      <th>3</th>\n",
       "      <th>4</th>\n",
       "      <th>5</th>\n",
       "      <th>6</th>\n",
       "      <th>7</th>\n",
       "      <th>8</th>\n",
       "      <th>9</th>\n",
       "      <th>10</th>\n",
       "      <th>11</th>\n",
       "      <th>12</th>\n",
       "      <th>13</th>\n",
       "      <th>14</th>\n",
       "      <th>15</th>\n",
       "      <th>16</th>\n",
       "      <th>17</th>\n",
       "      <th>18</th>\n",
       "      <th>19</th>\n",
       "    </tr>\n",
       "  </thead>\n",
       "  <tbody>\n",
       "    <tr>\n",
       "      <th>0</th>\n",
       "      <td>-0.449413</td>\n",
       "      <td>0.709033</td>\n",
       "      <td>-0.829501</td>\n",
       "      <td>-0.393858</td>\n",
       "      <td>-0.418558</td>\n",
       "      <td>-0.495045</td>\n",
       "      <td>0.095710</td>\n",
       "      <td>1.681786</td>\n",
       "      <td>0.0</td>\n",
       "      <td>0.0</td>\n",
       "      <td>0.0</td>\n",
       "      <td>0.0</td>\n",
       "      <td>0.0</td>\n",
       "      <td>0.0</td>\n",
       "      <td>1.0</td>\n",
       "      <td>0.0</td>\n",
       "      <td>0.0</td>\n",
       "      <td>0.0</td>\n",
       "      <td>0.0</td>\n",
       "      <td>0.0</td>\n",
       "    </tr>\n",
       "    <tr>\n",
       "      <th>1</th>\n",
       "      <td>0.008244</td>\n",
       "      <td>-0.083789</td>\n",
       "      <td>3.380557</td>\n",
       "      <td>1.066587</td>\n",
       "      <td>0.587374</td>\n",
       "      <td>0.444592</td>\n",
       "      <td>-0.566044</td>\n",
       "      <td>-0.149072</td>\n",
       "      <td>0.0</td>\n",
       "      <td>0.0</td>\n",
       "      <td>0.0</td>\n",
       "      <td>0.0</td>\n",
       "      <td>0.0</td>\n",
       "      <td>0.0</td>\n",
       "      <td>1.0</td>\n",
       "      <td>0.0</td>\n",
       "      <td>0.0</td>\n",
       "      <td>0.0</td>\n",
       "      <td>0.0</td>\n",
       "      <td>0.0</td>\n",
       "    </tr>\n",
       "    <tr>\n",
       "      <th>2</th>\n",
       "      <td>0.008244</td>\n",
       "      <td>-0.083789</td>\n",
       "      <td>3.380557</td>\n",
       "      <td>1.066587</td>\n",
       "      <td>0.587374</td>\n",
       "      <td>0.444592</td>\n",
       "      <td>-0.566044</td>\n",
       "      <td>-0.149072</td>\n",
       "      <td>0.0</td>\n",
       "      <td>0.0</td>\n",
       "      <td>0.0</td>\n",
       "      <td>0.0</td>\n",
       "      <td>0.0</td>\n",
       "      <td>0.0</td>\n",
       "      <td>1.0</td>\n",
       "      <td>0.0</td>\n",
       "      <td>0.0</td>\n",
       "      <td>0.0</td>\n",
       "      <td>0.0</td>\n",
       "      <td>0.0</td>\n",
       "    </tr>\n",
       "    <tr>\n",
       "      <th>3</th>\n",
       "      <td>-0.094997</td>\n",
       "      <td>-0.690204</td>\n",
       "      <td>3.466915</td>\n",
       "      <td>0.693160</td>\n",
       "      <td>0.073707</td>\n",
       "      <td>-0.039203</td>\n",
       "      <td>2.185835</td>\n",
       "      <td>-0.149072</td>\n",
       "      <td>0.0</td>\n",
       "      <td>0.0</td>\n",
       "      <td>0.0</td>\n",
       "      <td>0.0</td>\n",
       "      <td>0.0</td>\n",
       "      <td>0.0</td>\n",
       "      <td>0.0</td>\n",
       "      <td>0.0</td>\n",
       "      <td>1.0</td>\n",
       "      <td>0.0</td>\n",
       "      <td>0.0</td>\n",
       "      <td>0.0</td>\n",
       "    </tr>\n",
       "    <tr>\n",
       "      <th>4</th>\n",
       "      <td>0.745247</td>\n",
       "      <td>-0.077396</td>\n",
       "      <td>3.380557</td>\n",
       "      <td>0.909919</td>\n",
       "      <td>0.073707</td>\n",
       "      <td>-0.039203</td>\n",
       "      <td>-0.201944</td>\n",
       "      <td>-0.149072</td>\n",
       "      <td>0.0</td>\n",
       "      <td>0.0</td>\n",
       "      <td>0.0</td>\n",
       "      <td>0.0</td>\n",
       "      <td>0.0</td>\n",
       "      <td>0.0</td>\n",
       "      <td>1.0</td>\n",
       "      <td>0.0</td>\n",
       "      <td>0.0</td>\n",
       "      <td>0.0</td>\n",
       "      <td>0.0</td>\n",
       "      <td>0.0</td>\n",
       "    </tr>\n",
       "  </tbody>\n",
       "</table>\n",
       "</div>"
      ],
      "text/plain": [
       "         0         1         2         3         4         5         6   \\\n",
       "0 -0.449413  0.709033 -0.829501 -0.393858 -0.418558 -0.495045  0.095710   \n",
       "1  0.008244 -0.083789  3.380557  1.066587  0.587374  0.444592 -0.566044   \n",
       "2  0.008244 -0.083789  3.380557  1.066587  0.587374  0.444592 -0.566044   \n",
       "3 -0.094997 -0.690204  3.466915  0.693160  0.073707 -0.039203  2.185835   \n",
       "4  0.745247 -0.077396  3.380557  0.909919  0.073707 -0.039203 -0.201944   \n",
       "\n",
       "         7    8    9    10   11   12   13   14   15   16   17   18   19  \n",
       "0  1.681786  0.0  0.0  0.0  0.0  0.0  0.0  1.0  0.0  0.0  0.0  0.0  0.0  \n",
       "1 -0.149072  0.0  0.0  0.0  0.0  0.0  0.0  1.0  0.0  0.0  0.0  0.0  0.0  \n",
       "2 -0.149072  0.0  0.0  0.0  0.0  0.0  0.0  1.0  0.0  0.0  0.0  0.0  0.0  \n",
       "3 -0.149072  0.0  0.0  0.0  0.0  0.0  0.0  0.0  0.0  1.0  0.0  0.0  0.0  \n",
       "4 -0.149072  0.0  0.0  0.0  0.0  0.0  0.0  1.0  0.0  0.0  0.0  0.0  0.0  "
      ]
     },
     "execution_count": 17,
     "metadata": {},
     "output_type": "execute_result"
    }
   ],
   "source": [
    "X = pd.DataFrame(preprocessor.fit_transform(X))\n",
    "X.head(5)"
   ]
  },
  {
   "cell_type": "markdown",
   "metadata": {},
   "source": [
    "# Sauvegarde du travail"
   ]
  },
  {
   "cell_type": "code",
   "execution_count": 18,
   "metadata": {},
   "outputs": [],
   "source": [
    "clean = '../../datas/CLEAN/E2/'\n",
    "\n",
    "if os.path.exists(clean) == False:\n",
    "    os.makedirs(clean)\n",
    "con = sqlite3.connect(clean + 'E2.db')\n",
    "X.to_sql(name='X_amelioration', con=con, if_exists='replace')\n",
    "y.to_sql(name='y_amelioration', con=con, if_exists='replace')\n",
    "con.close()"
   ]
  },
  {
   "cell_type": "code",
   "execution_count": 19,
   "metadata": {},
   "outputs": [
    {
     "data": {
      "text/plain": [
       "['pickle/preprocessor_amelioration.pkl']"
      ]
     },
     "execution_count": 19,
     "metadata": {},
     "output_type": "execute_result"
    }
   ],
   "source": [
    "from joblib import dump, load\n",
    "from pathlib import Path\n",
    "\n",
    "dossier_preprocessor = 'pickle/'\n",
    "Path(dossier_preprocessor).mkdir(parents=True, exist_ok=True)\n",
    "dump(preprocessor, dossier_preprocessor + 'preprocessor_amelioration' + '.pkl')"
   ]
  }
 ],
 "metadata": {
  "interpreter": {
   "hash": "b4e0f46da02f9850f267e2781d63d0f02c45fa623264b236c8ad258f9318af4a"
  },
  "kernelspec": {
   "display_name": "Python 3.9.7 ('E2')",
   "language": "python",
   "name": "python3"
  },
  "language_info": {
   "codemirror_mode": {
    "name": "ipython",
    "version": 3
   },
   "file_extension": ".py",
   "mimetype": "text/x-python",
   "name": "python",
   "nbconvert_exporter": "python",
   "pygments_lexer": "ipython3",
   "version": "3.9.7"
  },
  "orig_nbformat": 4
 },
 "nbformat": 4,
 "nbformat_minor": 2
}
