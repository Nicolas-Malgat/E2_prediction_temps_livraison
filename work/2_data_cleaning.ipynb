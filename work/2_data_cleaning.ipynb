{
 "cells": [
  {
   "cell_type": "markdown",
   "metadata": {},
   "source": [
    "# Nettoyage des donnees avant de les enregistrer en BDD"
   ]
  },
  {
   "cell_type": "code",
   "execution_count": 1,
   "metadata": {},
   "outputs": [],
   "source": [
    "%load_ext autoreload\n",
    "%autoreload 2\n",
    "\n",
    "import seaborn as sns\n",
    "import pandas as pd\n",
    "import sqlite3\n",
    "import os\n",
    "\n",
    "from modules.data_cleaning import apply_zscore, \\\n",
    "                                  category_list_encoding, \\\n",
    "                                  get_volume\n",
    "\n",
    "raw = '../../datas/RAW/E2/'"
   ]
  },
  {
   "cell_type": "markdown",
   "metadata": {},
   "source": [
    "# Chargement des csv"
   ]
  },
  {
   "cell_type": "code",
   "execution_count": 2,
   "metadata": {},
   "outputs": [
    {
     "data": {
      "text/plain": [
       "dict_keys(['customer', 'order', 'order_items', 'product', 'seller', 'geoloc'])"
      ]
     },
     "execution_count": 2,
     "metadata": {},
     "output_type": "execute_result"
    }
   ],
   "source": [
    "dict_csv = {\n",
    "    'customer':    'olist_customers_dataset.csv',\n",
    "    'order':       'olist_orders_dataset.csv', \n",
    "    'order_items': 'olist_order_items_dataset.csv', \n",
    "    'product':     'olist_products_dataset.csv', \n",
    "    'seller':      'olist_sellers_dataset.csv',\n",
    "    'geoloc':      'olist_geolocation_dataset.csv'\n",
    "}\n",
    "for csv in dict_csv:\n",
    "    dict_csv[csv] = (pd.read_csv(raw + dict_csv[csv]))\n",
    "dict_csv.keys()"
   ]
  },
  {
   "cell_type": "markdown",
   "metadata": {},
   "source": [
    "# Nettoyage des donnees"
   ]
  },
  {
   "cell_type": "markdown",
   "metadata": {},
   "source": [
    "### Drop na values\n",
    "\n",
    "sur la table order, j'en profite pour supprimer les 6 commandes annulees (canceled)"
   ]
  },
  {
   "cell_type": "code",
   "execution_count": 3,
   "metadata": {},
   "outputs": [
    {
     "name": "stdout",
     "output_type": "stream",
     "text": [
      "\tORDER\n",
      "order_id                            0\n",
      "customer_id                         0\n",
      "order_status                        0\n",
      "order_purchase_timestamp            0\n",
      "order_approved_at                 160\n",
      "order_delivered_carrier_date     1783\n",
      "order_delivered_customer_date    2965\n",
      "order_estimated_delivery_date       0\n",
      "dtype: int64\n",
      "\tPRODUCT\n",
      "product_id                      0\n",
      "product_category_name         610\n",
      "product_name_lenght           610\n",
      "product_description_lenght    610\n",
      "product_photos_qty            610\n",
      "product_weight_g                2\n",
      "product_length_cm               2\n",
      "product_height_cm               2\n",
      "product_width_cm                2\n",
      "dtype: int64\n"
     ]
    }
   ],
   "source": [
    "for df in dict_csv:\n",
    "    if dict_csv[df].isna().sum().sum() != 0:\n",
    "        print('\\t' + df.upper())\n",
    "        print(dict_csv[df].isna().sum())"
   ]
  },
  {
   "cell_type": "code",
   "execution_count": 4,
   "metadata": {},
   "outputs": [
    {
     "name": "stdout",
     "output_type": "stream",
     "text": [
      "Nb de lignes avant et apres traitement\n",
      "(99441, 8)\n",
      "(96455, 8)\n"
     ]
    }
   ],
   "source": [
    "order_without_na = dict_csv['order'].dropna()\n",
    "order_without_na = order_without_na[order_without_na.order_status == 'delivered']\n",
    "print('Nb de lignes avant et apres traitement')\n",
    "print(dict_csv['order'].shape)\n",
    "print(order_without_na.shape)\n",
    "\n",
    "dict_csv['order'] = order_without_na"
   ]
  },
  {
   "cell_type": "code",
   "execution_count": 5,
   "metadata": {},
   "outputs": [
    {
     "name": "stdout",
     "output_type": "stream",
     "text": [
      "Nb de lignes avant et apres traitement\n",
      "(32951, 9)\n",
      "(32340, 9)\n"
     ]
    }
   ],
   "source": [
    "product_without_na = dict_csv['product'].dropna()\n",
    "print('Nb de lignes avant et apres traitement')\n",
    "print(dict_csv['product'].shape)\n",
    "print(product_without_na.shape)\n",
    "\n",
    "dict_csv['product'] = product_without_na"
   ]
  },
  {
   "cell_type": "markdown",
   "metadata": {},
   "source": [
    "### Drop outliers\n",
    "\n",
    "J'applique un zscore uniquement sur la table order_items"
   ]
  },
  {
   "cell_type": "code",
   "execution_count": 6,
   "metadata": {},
   "outputs": [
    {
     "data": {
      "text/plain": [
       "count    112650.000000\n",
       "mean        120.653739\n",
       "std         183.633928\n",
       "min           0.850000\n",
       "25%          39.900000\n",
       "50%          74.990000\n",
       "75%         134.900000\n",
       "max        6735.000000\n",
       "Name: price, dtype: float64"
      ]
     },
     "execution_count": 6,
     "metadata": {},
     "output_type": "execute_result"
    }
   ],
   "source": [
    "dict_csv['order_items'].price.describe()"
   ]
  },
  {
   "cell_type": "code",
   "execution_count": 7,
   "metadata": {},
   "outputs": [
    {
     "data": {
      "text/plain": [
       "<AxesSubplot:>"
      ]
     },
     "execution_count": 7,
     "metadata": {},
     "output_type": "execute_result"
    },
    {
     "data": {
      "image/png": "[encoded data removed]",
      "text/plain": [
       "<Figure size 432x288 with 1 Axes>"
      ]
     },
     "metadata": {
      "needs_background": "light"
     },
     "output_type": "display_data"
    }
   ],
   "source": [
    "dict_csv['order_items'].price.hist(bins=100, log=True)"
   ]
  },
  {
   "cell_type": "code",
   "execution_count": 8,
   "metadata": {},
   "outputs": [
    {
     "data": {
      "text/plain": [
       "(109092, 7)"
      ]
     },
     "execution_count": 8,
     "metadata": {},
     "output_type": "execute_result"
    },
    {
     "data": {
      "image/png": "[encoded data removed]",
      "text/plain": [
       "<Figure size 432x288 with 1 Axes>"
      ]
     },
     "metadata": {
      "needs_background": "light"
     },
     "output_type": "display_data"
    }
   ],
   "source": [
    "order_items_zscore = apply_zscore(dict_csv['order_items'], ['price', 'freight_value'])\n",
    "dict_csv['order_items'] = order_items_zscore\n",
    "\n",
    "ax = sns.boxplot(data=order_items_zscore)\n",
    "order_items_zscore.shape"
   ]
  },
  {
   "cell_type": "markdown",
   "metadata": {},
   "source": [
    "# Récuperation des coordonnées"
   ]
  },
  {
   "cell_type": "code",
   "execution_count": 10,
   "metadata": {},
   "outputs": [
    {
     "data": {
      "text/html": [
       "<div>\n",
       "<style scoped>\n",
       "    .dataframe tbody tr th:only-of-type {\n",
       "        vertical-align: middle;\n",
       "    }\n",
       "\n",
       "    .dataframe tbody tr th {\n",
       "        vertical-align: top;\n",
       "    }\n",
       "\n",
       "    .dataframe thead th {\n",
       "        text-align: right;\n",
       "    }\n",
       "</style>\n",
       "<table border=\"1\" class=\"dataframe\">\n",
       "  <thead>\n",
       "    <tr style=\"text-align: right;\">\n",
       "      <th></th>\n",
       "      <th>geolocation_lat</th>\n",
       "      <th>geolocation_lng</th>\n",
       "    </tr>\n",
       "    <tr>\n",
       "      <th>geolocation_zip_code_prefix</th>\n",
       "      <th></th>\n",
       "      <th></th>\n",
       "    </tr>\n",
       "  </thead>\n",
       "  <tbody>\n",
       "    <tr>\n",
       "      <th>1001</th>\n",
       "      <td>-23.550381</td>\n",
       "      <td>-46.634027</td>\n",
       "    </tr>\n",
       "  </tbody>\n",
       "</table>\n",
       "</div>"
      ],
      "text/plain": [
       "                             geolocation_lat  geolocation_lng\n",
       "geolocation_zip_code_prefix                                  \n",
       "1001                              -23.550381       -46.634027"
      ]
     },
     "execution_count": 10,
     "metadata": {},
     "output_type": "execute_result"
    }
   ],
   "source": [
    "dict_csv['geoloc'] = dict_csv['geoloc'].groupby(['geolocation_zip_code_prefix']).median()\n",
    "dict_csv['geoloc'].head(1)"
   ]
  },
  {
   "cell_type": "code",
   "execution_count": 11,
   "metadata": {},
   "outputs": [
    {
     "name": "stdout",
     "output_type": "stream",
     "text": [
      "(99441, 3) Index(['customer_id', 'customer_lat', 'customer_lng'], dtype='object')\n"
     ]
    },
    {
     "data": {
      "text/html": [
       "<div>\n",
       "<style scoped>\n",
       "    .dataframe tbody tr th:only-of-type {\n",
       "        vertical-align: middle;\n",
       "    }\n",
       "\n",
       "    .dataframe tbody tr th {\n",
       "        vertical-align: top;\n",
       "    }\n",
       "\n",
       "    .dataframe thead th {\n",
       "        text-align: right;\n",
       "    }\n",
       "</style>\n",
       "<table border=\"1\" class=\"dataframe\">\n",
       "  <thead>\n",
       "    <tr style=\"text-align: right;\">\n",
       "      <th></th>\n",
       "      <th>customer_id</th>\n",
       "      <th>customer_lat</th>\n",
       "      <th>customer_lng</th>\n",
       "    </tr>\n",
       "  </thead>\n",
       "  <tbody>\n",
       "    <tr>\n",
       "      <th>0</th>\n",
       "      <td>06b8999e2fba1a1fbc88172c00ba8bc7</td>\n",
       "      <td>-20.50207</td>\n",
       "      <td>-47.396822</td>\n",
       "    </tr>\n",
       "  </tbody>\n",
       "</table>\n",
       "</div>"
      ],
      "text/plain": [
       "                        customer_id  customer_lat  customer_lng\n",
       "0  06b8999e2fba1a1fbc88172c00ba8bc7     -20.50207    -47.396822"
      ]
     },
     "execution_count": 11,
     "metadata": {},
     "output_type": "execute_result"
    }
   ],
   "source": [
    "df_geoloc_customer = dict_csv['customer'].merge(dict_csv['geoloc'], how='left', left_on='customer_zip_code_prefix', right_on='geolocation_zip_code_prefix')\n",
    "df_geoloc_customer = df_geoloc_customer[['customer_id', 'geolocation_lat', 'geolocation_lng']]\n",
    "df_geoloc_customer = df_geoloc_customer.rename(columns={\n",
    "    'geolocation_lat': 'customer_lat',\n",
    "    'geolocation_lng': 'customer_lng',\n",
    "})\n",
    "dict_csv['customer'] = df_geoloc_customer\n",
    "print(df_geoloc_customer.shape, df_geoloc_customer.columns)\n",
    "df_geoloc_customer.head(1)"
   ]
  },
  {
   "cell_type": "code",
   "execution_count": 16,
   "metadata": {},
   "outputs": [
    {
     "name": "stdout",
     "output_type": "stream",
     "text": [
      "(3095, 3) Index(['seller_id', 'seller_lat', 'seller_lng'], dtype='object')\n"
     ]
    },
    {
     "data": {
      "text/html": [
       "<div>\n",
       "<style scoped>\n",
       "    .dataframe tbody tr th:only-of-type {\n",
       "        vertical-align: middle;\n",
       "    }\n",
       "\n",
       "    .dataframe tbody tr th {\n",
       "        vertical-align: top;\n",
       "    }\n",
       "\n",
       "    .dataframe thead th {\n",
       "        text-align: right;\n",
       "    }\n",
       "</style>\n",
       "<table border=\"1\" class=\"dataframe\">\n",
       "  <thead>\n",
       "    <tr style=\"text-align: right;\">\n",
       "      <th></th>\n",
       "      <th>seller_id</th>\n",
       "      <th>seller_lat</th>\n",
       "      <th>seller_lng</th>\n",
       "    </tr>\n",
       "  </thead>\n",
       "  <tbody>\n",
       "    <tr>\n",
       "      <th>0</th>\n",
       "      <td>3442f8959a84dea7ee197c632cb2df15</td>\n",
       "      <td>-22.894561</td>\n",
       "      <td>-47.06238</td>\n",
       "    </tr>\n",
       "  </tbody>\n",
       "</table>\n",
       "</div>"
      ],
      "text/plain": [
       "                          seller_id  seller_lat  seller_lng\n",
       "0  3442f8959a84dea7ee197c632cb2df15  -22.894561   -47.06238"
      ]
     },
     "execution_count": 16,
     "metadata": {},
     "output_type": "execute_result"
    }
   ],
   "source": [
    "df_geoloc_seller = dict_csv['seller'].merge(dict_csv['geoloc'], how='left', left_on='seller_zip_code_prefix', right_on='geolocation_zip_code_prefix')\n",
    "df_geoloc_seller = df_geoloc_seller[['seller_id', 'geolocation_lat', 'geolocation_lng']]\n",
    "df_geoloc_seller = df_geoloc_seller.rename(columns={\n",
    "    'geolocation_lat': 'seller_lat',\n",
    "    'geolocation_lng': 'seller_lng',\n",
    "})\n",
    "dict_csv['seller'] = df_geoloc_seller\n",
    "print(df_geoloc_seller.shape, df_geoloc_seller.columns)\n",
    "df_geoloc_seller.head(1)"
   ]
  },
  {
   "cell_type": "code",
   "execution_count": 28,
   "metadata": {},
   "outputs": [],
   "source": [
    "# le ~ inverse la selection du filtre\n",
    "dict_csv['customer'] = dict_csv['customer'][~ (dict_csv['customer'].isna().any(axis=1))]\n",
    "dict_csv['seller'] = dict_csv['seller'][~ (dict_csv['seller'].isna().any(axis=1))]"
   ]
  },
  {
   "cell_type": "markdown",
   "metadata": {},
   "source": [
    "# Jointure des differentes tables\n",
    "\n",
    "<img src=\"../documentation/data_schema_essential.png\" alt=\"Schéma des tables du dataset\" style=\"height: 300px;\"/>"
   ]
  },
  {
   "cell_type": "markdown",
   "metadata": {},
   "source": [
    "## Jointure customer et order"
   ]
  },
  {
   "cell_type": "code",
   "execution_count": 29,
   "metadata": {},
   "outputs": [
    {
     "name": "stdout",
     "output_type": "stream",
     "text": [
      "(96191, 7) Index(['order_id', 'order_purchase_timestamp', 'order_approved_at',\n",
      "       'order_delivered_customer_date', 'order_estimated_delivery_date',\n",
      "       'customer_lat', 'customer_lng'],\n",
      "      dtype='object')\n"
     ]
    },
    {
     "data": {
      "text/html": [
       "<div>\n",
       "<style scoped>\n",
       "    .dataframe tbody tr th:only-of-type {\n",
       "        vertical-align: middle;\n",
       "    }\n",
       "\n",
       "    .dataframe tbody tr th {\n",
       "        vertical-align: top;\n",
       "    }\n",
       "\n",
       "    .dataframe thead th {\n",
       "        text-align: right;\n",
       "    }\n",
       "</style>\n",
       "<table border=\"1\" class=\"dataframe\">\n",
       "  <thead>\n",
       "    <tr style=\"text-align: right;\">\n",
       "      <th></th>\n",
       "      <th>order_id</th>\n",
       "      <th>order_purchase_timestamp</th>\n",
       "      <th>order_approved_at</th>\n",
       "      <th>order_delivered_customer_date</th>\n",
       "      <th>order_estimated_delivery_date</th>\n",
       "      <th>customer_lat</th>\n",
       "      <th>customer_lng</th>\n",
       "    </tr>\n",
       "  </thead>\n",
       "  <tbody>\n",
       "    <tr>\n",
       "      <th>0</th>\n",
       "      <td>e481f51cbdc54678b7cc49136f2d6af7</td>\n",
       "      <td>2017-10-02 10:56:33</td>\n",
       "      <td>2017-10-02 11:07:15</td>\n",
       "      <td>2017-10-10 21:25:13</td>\n",
       "      <td>2017-10-18 00:00:00</td>\n",
       "      <td>-23.57617</td>\n",
       "      <td>-46.587276</td>\n",
       "    </tr>\n",
       "  </tbody>\n",
       "</table>\n",
       "</div>"
      ],
      "text/plain": [
       "                           order_id order_purchase_timestamp  \\\n",
       "0  e481f51cbdc54678b7cc49136f2d6af7      2017-10-02 10:56:33   \n",
       "\n",
       "     order_approved_at order_delivered_customer_date  \\\n",
       "0  2017-10-02 11:07:15           2017-10-10 21:25:13   \n",
       "\n",
       "  order_estimated_delivery_date  customer_lat  customer_lng  \n",
       "0           2017-10-18 00:00:00     -23.57617    -46.587276  "
      ]
     },
     "execution_count": 29,
     "metadata": {},
     "output_type": "execute_result"
    }
   ],
   "source": [
    "df_order_customer = dict_csv['order'].merge(dict_csv['customer'], how='inner', on='customer_id')\n",
    "df_order_customer = df_order_customer.drop(['customer_id', 'order_delivered_carrier_date', 'order_status'], axis=1)\n",
    "print(df_order_customer.shape, df_order_customer.columns)\n",
    "df_order_customer.head(1)"
   ]
  },
  {
   "cell_type": "markdown",
   "metadata": {},
   "source": [
    "## Jointure order items et order"
   ]
  },
  {
   "cell_type": "code",
   "execution_count": 30,
   "metadata": {},
   "outputs": [
    {
     "name": "stdout",
     "output_type": "stream",
     "text": [
      "(109092, 7)\n",
      "(106472, 12)\n"
     ]
    },
    {
     "data": {
      "text/html": [
       "<div>\n",
       "<style scoped>\n",
       "    .dataframe tbody tr th:only-of-type {\n",
       "        vertical-align: middle;\n",
       "    }\n",
       "\n",
       "    .dataframe tbody tr th {\n",
       "        vertical-align: top;\n",
       "    }\n",
       "\n",
       "    .dataframe thead th {\n",
       "        text-align: right;\n",
       "    }\n",
       "</style>\n",
       "<table border=\"1\" class=\"dataframe\">\n",
       "  <thead>\n",
       "    <tr style=\"text-align: right;\">\n",
       "      <th></th>\n",
       "      <th>order_id</th>\n",
       "      <th>order_item_id</th>\n",
       "      <th>product_id</th>\n",
       "      <th>seller_id</th>\n",
       "      <th>price</th>\n",
       "      <th>freight_value</th>\n",
       "      <th>order_purchase_timestamp</th>\n",
       "      <th>order_approved_at</th>\n",
       "      <th>order_delivered_customer_date</th>\n",
       "      <th>order_estimated_delivery_date</th>\n",
       "      <th>customer_lat</th>\n",
       "      <th>customer_lng</th>\n",
       "    </tr>\n",
       "  </thead>\n",
       "  <tbody>\n",
       "    <tr>\n",
       "      <th>0</th>\n",
       "      <td>00010242fe8c5a6d1ba2dd792cb16214</td>\n",
       "      <td>1</td>\n",
       "      <td>4244733e06e7ecb4970a6e2683c13e61</td>\n",
       "      <td>48436dade18ac8b2bce089ec2a041202</td>\n",
       "      <td>58.90</td>\n",
       "      <td>13.29</td>\n",
       "      <td>2017-09-13 08:59:02</td>\n",
       "      <td>2017-09-13 09:45:35</td>\n",
       "      <td>2017-09-20 23:43:48</td>\n",
       "      <td>2017-09-29 00:00:00</td>\n",
       "      <td>-21.762829</td>\n",
       "      <td>-41.310605</td>\n",
       "    </tr>\n",
       "    <tr>\n",
       "      <th>1</th>\n",
       "      <td>00018f77f2f0320c557190d7a144bdd3</td>\n",
       "      <td>1</td>\n",
       "      <td>e5f2d52b802189ee658865ca93d83a8f</td>\n",
       "      <td>dd7ddc04e1b6c2c614352b383efe2d36</td>\n",
       "      <td>239.90</td>\n",
       "      <td>19.93</td>\n",
       "      <td>2017-04-26 10:53:06</td>\n",
       "      <td>2017-04-26 11:05:13</td>\n",
       "      <td>2017-05-12 16:04:24</td>\n",
       "      <td>2017-05-15 00:00:00</td>\n",
       "      <td>-20.205737</td>\n",
       "      <td>-50.926924</td>\n",
       "    </tr>\n",
       "    <tr>\n",
       "      <th>2</th>\n",
       "      <td>000229ec398224ef6ca0657da4fc703e</td>\n",
       "      <td>1</td>\n",
       "      <td>c777355d18b72b67abbeef9df44fd0fd</td>\n",
       "      <td>5b51032eddd242adc84c38acab88f23d</td>\n",
       "      <td>199.00</td>\n",
       "      <td>17.87</td>\n",
       "      <td>2018-01-14 14:33:31</td>\n",
       "      <td>2018-01-14 14:48:30</td>\n",
       "      <td>2018-01-22 13:19:16</td>\n",
       "      <td>2018-02-05 00:00:00</td>\n",
       "      <td>-19.870383</td>\n",
       "      <td>-44.594355</td>\n",
       "    </tr>\n",
       "    <tr>\n",
       "      <th>3</th>\n",
       "      <td>00024acbcdf0a6daa1e931b038114c75</td>\n",
       "      <td>1</td>\n",
       "      <td>7634da152a4610f1595efa32f14722fc</td>\n",
       "      <td>9d7a1d34a5052409006425275ba1c2b4</td>\n",
       "      <td>12.99</td>\n",
       "      <td>12.79</td>\n",
       "      <td>2018-08-08 10:00:35</td>\n",
       "      <td>2018-08-08 10:10:18</td>\n",
       "      <td>2018-08-14 13:32:39</td>\n",
       "      <td>2018-08-20 00:00:00</td>\n",
       "      <td>-23.104346</td>\n",
       "      <td>-46.595589</td>\n",
       "    </tr>\n",
       "    <tr>\n",
       "      <th>4</th>\n",
       "      <td>00042b26cf59d7ce69dfabb4e55b4fd9</td>\n",
       "      <td>1</td>\n",
       "      <td>ac6c3623068f30de03045865e4e10089</td>\n",
       "      <td>df560393f3a51e74553ab94004ba5c87</td>\n",
       "      <td>199.90</td>\n",
       "      <td>18.14</td>\n",
       "      <td>2017-02-04 13:57:51</td>\n",
       "      <td>2017-02-04 14:10:13</td>\n",
       "      <td>2017-03-01 16:42:31</td>\n",
       "      <td>2017-03-17 00:00:00</td>\n",
       "      <td>-23.245512</td>\n",
       "      <td>-46.825182</td>\n",
       "    </tr>\n",
       "  </tbody>\n",
       "</table>\n",
       "</div>"
      ],
      "text/plain": [
       "                           order_id  order_item_id  \\\n",
       "0  00010242fe8c5a6d1ba2dd792cb16214              1   \n",
       "1  00018f77f2f0320c557190d7a144bdd3              1   \n",
       "2  000229ec398224ef6ca0657da4fc703e              1   \n",
       "3  00024acbcdf0a6daa1e931b038114c75              1   \n",
       "4  00042b26cf59d7ce69dfabb4e55b4fd9              1   \n",
       "\n",
       "                         product_id                         seller_id   price  \\\n",
       "0  4244733e06e7ecb4970a6e2683c13e61  48436dade18ac8b2bce089ec2a041202   58.90   \n",
       "1  e5f2d52b802189ee658865ca93d83a8f  dd7ddc04e1b6c2c614352b383efe2d36  239.90   \n",
       "2  c777355d18b72b67abbeef9df44fd0fd  5b51032eddd242adc84c38acab88f23d  199.00   \n",
       "3  7634da152a4610f1595efa32f14722fc  9d7a1d34a5052409006425275ba1c2b4   12.99   \n",
       "4  ac6c3623068f30de03045865e4e10089  df560393f3a51e74553ab94004ba5c87  199.90   \n",
       "\n",
       "   freight_value order_purchase_timestamp    order_approved_at  \\\n",
       "0          13.29      2017-09-13 08:59:02  2017-09-13 09:45:35   \n",
       "1          19.93      2017-04-26 10:53:06  2017-04-26 11:05:13   \n",
       "2          17.87      2018-01-14 14:33:31  2018-01-14 14:48:30   \n",
       "3          12.79      2018-08-08 10:00:35  2018-08-08 10:10:18   \n",
       "4          18.14      2017-02-04 13:57:51  2017-02-04 14:10:13   \n",
       "\n",
       "  order_delivered_customer_date order_estimated_delivery_date  customer_lat  \\\n",
       "0           2017-09-20 23:43:48           2017-09-29 00:00:00    -21.762829   \n",
       "1           2017-05-12 16:04:24           2017-05-15 00:00:00    -20.205737   \n",
       "2           2018-01-22 13:19:16           2018-02-05 00:00:00    -19.870383   \n",
       "3           2018-08-14 13:32:39           2018-08-20 00:00:00    -23.104346   \n",
       "4           2017-03-01 16:42:31           2017-03-17 00:00:00    -23.245512   \n",
       "\n",
       "   customer_lng  \n",
       "0    -41.310605  \n",
       "1    -50.926924  \n",
       "2    -44.594355  \n",
       "3    -46.595589  \n",
       "4    -46.825182  "
      ]
     },
     "execution_count": 30,
     "metadata": {},
     "output_type": "execute_result"
    }
   ],
   "source": [
    "print(dict_csv['order_items'].shape)\n",
    "df_join = dict_csv['order_items'].merge(df_order_customer, how='inner', on='order_id')\n",
    "df_join = df_join.drop(['shipping_limit_date'], axis=1)\n",
    "print(df_join.shape)\n",
    "df_join.head(5)"
   ]
  },
  {
   "cell_type": "markdown",
   "metadata": {},
   "source": [
    "## Jointure order items et seller"
   ]
  },
  {
   "cell_type": "code",
   "execution_count": 31,
   "metadata": {},
   "outputs": [
    {
     "name": "stdout",
     "output_type": "stream",
     "text": [
      "(106472, 12)\n",
      "(106227, 13)\n"
     ]
    },
    {
     "data": {
      "text/html": [
       "<div>\n",
       "<style scoped>\n",
       "    .dataframe tbody tr th:only-of-type {\n",
       "        vertical-align: middle;\n",
       "    }\n",
       "\n",
       "    .dataframe tbody tr th {\n",
       "        vertical-align: top;\n",
       "    }\n",
       "\n",
       "    .dataframe thead th {\n",
       "        text-align: right;\n",
       "    }\n",
       "</style>\n",
       "<table border=\"1\" class=\"dataframe\">\n",
       "  <thead>\n",
       "    <tr style=\"text-align: right;\">\n",
       "      <th></th>\n",
       "      <th>order_id</th>\n",
       "      <th>order_item_id</th>\n",
       "      <th>product_id</th>\n",
       "      <th>price</th>\n",
       "      <th>freight_value</th>\n",
       "      <th>order_purchase_timestamp</th>\n",
       "      <th>order_approved_at</th>\n",
       "      <th>order_delivered_customer_date</th>\n",
       "      <th>order_estimated_delivery_date</th>\n",
       "      <th>customer_lat</th>\n",
       "      <th>customer_lng</th>\n",
       "      <th>seller_lat</th>\n",
       "      <th>seller_lng</th>\n",
       "    </tr>\n",
       "  </thead>\n",
       "  <tbody>\n",
       "    <tr>\n",
       "      <th>0</th>\n",
       "      <td>00010242fe8c5a6d1ba2dd792cb16214</td>\n",
       "      <td>1</td>\n",
       "      <td>4244733e06e7ecb4970a6e2683c13e61</td>\n",
       "      <td>58.9</td>\n",
       "      <td>13.29</td>\n",
       "      <td>2017-09-13 08:59:02</td>\n",
       "      <td>2017-09-13 09:45:35</td>\n",
       "      <td>2017-09-20 23:43:48</td>\n",
       "      <td>2017-09-29 00:00:00</td>\n",
       "      <td>-21.762829</td>\n",
       "      <td>-41.310605</td>\n",
       "      <td>-22.498419</td>\n",
       "      <td>-44.125272</td>\n",
       "    </tr>\n",
       "  </tbody>\n",
       "</table>\n",
       "</div>"
      ],
      "text/plain": [
       "                           order_id  order_item_id  \\\n",
       "0  00010242fe8c5a6d1ba2dd792cb16214              1   \n",
       "\n",
       "                         product_id  price  freight_value  \\\n",
       "0  4244733e06e7ecb4970a6e2683c13e61   58.9          13.29   \n",
       "\n",
       "  order_purchase_timestamp    order_approved_at order_delivered_customer_date  \\\n",
       "0      2017-09-13 08:59:02  2017-09-13 09:45:35           2017-09-20 23:43:48   \n",
       "\n",
       "  order_estimated_delivery_date  customer_lat  customer_lng  seller_lat  \\\n",
       "0           2017-09-29 00:00:00    -21.762829    -41.310605  -22.498419   \n",
       "\n",
       "   seller_lng  \n",
       "0  -44.125272  "
      ]
     },
     "execution_count": 31,
     "metadata": {},
     "output_type": "execute_result"
    }
   ],
   "source": [
    "print(df_join.shape)\n",
    "df_join = df_join.merge(dict_csv['seller'], how='inner', on='seller_id')\n",
    "df_join = df_join.drop(['seller_id'], axis=1)\n",
    "print(df_join.shape)\n",
    "df_join.head(1)"
   ]
  },
  {
   "cell_type": "markdown",
   "metadata": {},
   "source": [
    "## Jointure order_items et product\n",
    "\n",
    "1 a plusieurs"
   ]
  },
  {
   "cell_type": "code",
   "execution_count": 32,
   "metadata": {},
   "outputs": [
    {
     "data": {
      "text/html": [
       "<div>\n",
       "<style scoped>\n",
       "    .dataframe tbody tr th:only-of-type {\n",
       "        vertical-align: middle;\n",
       "    }\n",
       "\n",
       "    .dataframe tbody tr th {\n",
       "        vertical-align: top;\n",
       "    }\n",
       "\n",
       "    .dataframe thead th {\n",
       "        text-align: right;\n",
       "    }\n",
       "</style>\n",
       "<table border=\"1\" class=\"dataframe\">\n",
       "  <thead>\n",
       "    <tr style=\"text-align: right;\">\n",
       "      <th></th>\n",
       "      <th>order_id</th>\n",
       "      <th>order_item_id</th>\n",
       "      <th>price</th>\n",
       "      <th>freight_value</th>\n",
       "      <th>order_purchase_timestamp</th>\n",
       "      <th>order_approved_at</th>\n",
       "      <th>order_delivered_customer_date</th>\n",
       "      <th>order_estimated_delivery_date</th>\n",
       "      <th>customer_lat</th>\n",
       "      <th>customer_lng</th>\n",
       "      <th>seller_lat</th>\n",
       "      <th>seller_lng</th>\n",
       "      <th>product_category_name</th>\n",
       "      <th>product_weight_g</th>\n",
       "      <th>product_length_cm</th>\n",
       "      <th>product_height_cm</th>\n",
       "      <th>product_width_cm</th>\n",
       "    </tr>\n",
       "  </thead>\n",
       "  <tbody>\n",
       "    <tr>\n",
       "      <th>29613</th>\n",
       "      <td>60b4bdf4f0d6dfa53d78a82a4fbd5a6a</td>\n",
       "      <td>1</td>\n",
       "      <td>21.99</td>\n",
       "      <td>14.11</td>\n",
       "      <td>2017-02-16 10:24:37</td>\n",
       "      <td>2017-02-16 10:35:14</td>\n",
       "      <td>2017-02-22 10:25:57</td>\n",
       "      <td>2017-03-17 00:00:00</td>\n",
       "      <td>-22.975773</td>\n",
       "      <td>-43.192848</td>\n",
       "      <td>-23.542413</td>\n",
       "      <td>-46.490706</td>\n",
       "      <td>agro_industria_e_comercio</td>\n",
       "      <td>125.0</td>\n",
       "      <td>20.0</td>\n",
       "      <td>4.0</td>\n",
       "      <td>13.0</td>\n",
       "    </tr>\n",
       "  </tbody>\n",
       "</table>\n",
       "</div>"
      ],
      "text/plain": [
       "                               order_id  order_item_id  price  freight_value  \\\n",
       "29613  60b4bdf4f0d6dfa53d78a82a4fbd5a6a              1  21.99          14.11   \n",
       "\n",
       "      order_purchase_timestamp    order_approved_at  \\\n",
       "29613      2017-02-16 10:24:37  2017-02-16 10:35:14   \n",
       "\n",
       "      order_delivered_customer_date order_estimated_delivery_date  \\\n",
       "29613           2017-02-22 10:25:57           2017-03-17 00:00:00   \n",
       "\n",
       "       customer_lat  customer_lng  seller_lat  seller_lng  \\\n",
       "29613    -22.975773    -43.192848  -23.542413  -46.490706   \n",
       "\n",
       "           product_category_name  product_weight_g  product_length_cm  \\\n",
       "29613  agro_industria_e_comercio             125.0               20.0   \n",
       "\n",
       "       product_height_cm  product_width_cm  \n",
       "29613                4.0              13.0  "
      ]
     },
     "execution_count": 32,
     "metadata": {},
     "output_type": "execute_result"
    }
   ],
   "source": [
    "df_join = df_join.merge(dict_csv['product'], how='inner', on='product_id')\n",
    "df_join = df_join.drop(columns=['product_description_lenght', 'product_name_lenght', 'product_photos_qty', 'product_id'])\n",
    "df_join = df_join.sort_values(by='product_category_name')\n",
    "df_join.head(1)"
   ]
  },
  {
   "cell_type": "code",
   "execution_count": 33,
   "metadata": {},
   "outputs": [
    {
     "data": {
      "text/html": [
       "<div>\n",
       "<style scoped>\n",
       "    .dataframe tbody tr th:only-of-type {\n",
       "        vertical-align: middle;\n",
       "    }\n",
       "\n",
       "    .dataframe tbody tr th {\n",
       "        vertical-align: top;\n",
       "    }\n",
       "\n",
       "    .dataframe thead th {\n",
       "        text-align: right;\n",
       "    }\n",
       "</style>\n",
       "<table border=\"1\" class=\"dataframe\">\n",
       "  <thead>\n",
       "    <tr style=\"text-align: right;\">\n",
       "      <th></th>\n",
       "      <th>order_id</th>\n",
       "      <th>order_item_id</th>\n",
       "      <th>price</th>\n",
       "      <th>freight_value</th>\n",
       "      <th>order_purchase_timestamp</th>\n",
       "      <th>order_approved_at</th>\n",
       "      <th>order_delivered_customer_date</th>\n",
       "      <th>order_estimated_delivery_date</th>\n",
       "      <th>customer_lat</th>\n",
       "      <th>customer_lng</th>\n",
       "      <th>seller_lat</th>\n",
       "      <th>seller_lng</th>\n",
       "      <th>product_category_name</th>\n",
       "      <th>product_length_cm</th>\n",
       "      <th>product_height_cm</th>\n",
       "      <th>product_width_cm</th>\n",
       "      <th>weight</th>\n",
       "    </tr>\n",
       "  </thead>\n",
       "  <tbody>\n",
       "    <tr>\n",
       "      <th>0</th>\n",
       "      <td>60b4bdf4f0d6dfa53d78a82a4fbd5a6a</td>\n",
       "      <td>1</td>\n",
       "      <td>21.99</td>\n",
       "      <td>14.11</td>\n",
       "      <td>2017-02-16 10:24:37</td>\n",
       "      <td>2017-02-16 10:35:14</td>\n",
       "      <td>2017-02-22 10:25:57</td>\n",
       "      <td>2017-03-17 00:00:00</td>\n",
       "      <td>-22.975773</td>\n",
       "      <td>-43.192848</td>\n",
       "      <td>-23.542413</td>\n",
       "      <td>-46.490706</td>\n",
       "      <td>agro_industria_e_comercio</td>\n",
       "      <td>20.0</td>\n",
       "      <td>4.0</td>\n",
       "      <td>13.0</td>\n",
       "      <td>125.0</td>\n",
       "    </tr>\n",
       "  </tbody>\n",
       "</table>\n",
       "</div>"
      ],
      "text/plain": [
       "                           order_id  order_item_id  price  freight_value  \\\n",
       "0  60b4bdf4f0d6dfa53d78a82a4fbd5a6a              1  21.99          14.11   \n",
       "\n",
       "  order_purchase_timestamp    order_approved_at order_delivered_customer_date  \\\n",
       "0      2017-02-16 10:24:37  2017-02-16 10:35:14           2017-02-22 10:25:57   \n",
       "\n",
       "  order_estimated_delivery_date  customer_lat  customer_lng  seller_lat  \\\n",
       "0           2017-03-17 00:00:00    -22.975773    -43.192848  -23.542413   \n",
       "\n",
       "   seller_lng      product_category_name  product_length_cm  \\\n",
       "0  -46.490706  agro_industria_e_comercio               20.0   \n",
       "\n",
       "   product_height_cm  product_width_cm  weight  \n",
       "0                4.0              13.0   125.0  "
      ]
     },
     "execution_count": 33,
     "metadata": {},
     "output_type": "execute_result"
    }
   ],
   "source": [
    "df_weight = df_join.groupby(by='order_id').product_weight_g.agg(sum)\n",
    "df_weight = df_weight.reset_index()\n",
    "df_weight = df_weight.rename(columns={'product_weight_g': 'weight'})\n",
    "\n",
    "df_join = df_join.drop(columns=['product_weight_g'])\n",
    "df_join = df_join.merge(df_weight, on='order_id', how='inner')\n",
    "\n",
    "df_join.head(1)"
   ]
  },
  {
   "cell_type": "code",
   "execution_count": 34,
   "metadata": {},
   "outputs": [
    {
     "data": {
      "text/html": [
       "<div>\n",
       "<style scoped>\n",
       "    .dataframe tbody tr th:only-of-type {\n",
       "        vertical-align: middle;\n",
       "    }\n",
       "\n",
       "    .dataframe tbody tr th {\n",
       "        vertical-align: top;\n",
       "    }\n",
       "\n",
       "    .dataframe thead th {\n",
       "        text-align: right;\n",
       "    }\n",
       "</style>\n",
       "<table border=\"1\" class=\"dataframe\">\n",
       "  <thead>\n",
       "    <tr style=\"text-align: right;\">\n",
       "      <th></th>\n",
       "      <th>order_id</th>\n",
       "      <th>order_item_id</th>\n",
       "      <th>price</th>\n",
       "      <th>freight_value</th>\n",
       "      <th>order_purchase_timestamp</th>\n",
       "      <th>order_approved_at</th>\n",
       "      <th>order_delivered_customer_date</th>\n",
       "      <th>order_estimated_delivery_date</th>\n",
       "      <th>customer_lat</th>\n",
       "      <th>customer_lng</th>\n",
       "      <th>seller_lat</th>\n",
       "      <th>seller_lng</th>\n",
       "      <th>product_category_name</th>\n",
       "      <th>weight</th>\n",
       "      <th>volume</th>\n",
       "    </tr>\n",
       "  </thead>\n",
       "  <tbody>\n",
       "    <tr>\n",
       "      <th>0</th>\n",
       "      <td>60b4bdf4f0d6dfa53d78a82a4fbd5a6a</td>\n",
       "      <td>1</td>\n",
       "      <td>21.99</td>\n",
       "      <td>14.11</td>\n",
       "      <td>2017-02-16 10:24:37</td>\n",
       "      <td>2017-02-16 10:35:14</td>\n",
       "      <td>2017-02-22 10:25:57</td>\n",
       "      <td>2017-03-17 00:00:00</td>\n",
       "      <td>-22.975773</td>\n",
       "      <td>-43.192848</td>\n",
       "      <td>-23.542413</td>\n",
       "      <td>-46.490706</td>\n",
       "      <td>agro_industria_e_comercio</td>\n",
       "      <td>125.0</td>\n",
       "      <td>1040.0</td>\n",
       "    </tr>\n",
       "  </tbody>\n",
       "</table>\n",
       "</div>"
      ],
      "text/plain": [
       "                           order_id  order_item_id  price  freight_value  \\\n",
       "0  60b4bdf4f0d6dfa53d78a82a4fbd5a6a              1  21.99          14.11   \n",
       "\n",
       "  order_purchase_timestamp    order_approved_at order_delivered_customer_date  \\\n",
       "0      2017-02-16 10:24:37  2017-02-16 10:35:14           2017-02-22 10:25:57   \n",
       "\n",
       "  order_estimated_delivery_date  customer_lat  customer_lng  seller_lat  \\\n",
       "0           2017-03-17 00:00:00    -22.975773    -43.192848  -23.542413   \n",
       "\n",
       "   seller_lng      product_category_name  weight  volume  \n",
       "0  -46.490706  agro_industria_e_comercio   125.0  1040.0  "
      ]
     },
     "execution_count": 34,
     "metadata": {},
     "output_type": "execute_result"
    }
   ],
   "source": [
    "df_volume = df_join.groupby(by='order_id')[['product_length_cm', 'product_height_cm', 'product_width_cm']].agg(list)\n",
    "df_volume = pd.merge(pd.Series(df_volume.index), get_volume(df_volume), left_index=True, right_index=True)\n",
    "\n",
    "df_join = df_join.drop(columns=['product_length_cm', 'product_height_cm', 'product_width_cm'])\n",
    "df_join = df_join.merge(df_volume, on='order_id', how='inner')\n",
    "\n",
    "df_join.head(1)"
   ]
  },
  {
   "cell_type": "code",
   "execution_count": 35,
   "metadata": {},
   "outputs": [
    {
     "data": {
      "text/html": [
       "<div>\n",
       "<style scoped>\n",
       "    .dataframe tbody tr th:only-of-type {\n",
       "        vertical-align: middle;\n",
       "    }\n",
       "\n",
       "    .dataframe tbody tr th {\n",
       "        vertical-align: top;\n",
       "    }\n",
       "\n",
       "    .dataframe thead th {\n",
       "        text-align: right;\n",
       "    }\n",
       "</style>\n",
       "<table border=\"1\" class=\"dataframe\">\n",
       "  <thead>\n",
       "    <tr style=\"text-align: right;\">\n",
       "      <th></th>\n",
       "      <th>order_item_id</th>\n",
       "      <th>price</th>\n",
       "      <th>freight_value</th>\n",
       "      <th>order_purchase_timestamp</th>\n",
       "      <th>order_approved_at</th>\n",
       "      <th>order_delivered_customer_date</th>\n",
       "      <th>order_estimated_delivery_date</th>\n",
       "      <th>customer_lat</th>\n",
       "      <th>customer_lng</th>\n",
       "      <th>seller_lat</th>\n",
       "      <th>...</th>\n",
       "      <th>cds_dvds_musicais</th>\n",
       "      <th>moveis_colchao_e_estofado</th>\n",
       "      <th>tablets_impressao_imagem</th>\n",
       "      <th>construcao_ferramentas_ferramentas</th>\n",
       "      <th>artes_e_artesanato</th>\n",
       "      <th>fashion_esporte</th>\n",
       "      <th>la_cuisine</th>\n",
       "      <th>pc_gamer</th>\n",
       "      <th>seguros_e_servicos</th>\n",
       "      <th>fashion_roupa_infanto_juvenil</th>\n",
       "    </tr>\n",
       "  </thead>\n",
       "  <tbody>\n",
       "    <tr>\n",
       "      <th>0</th>\n",
       "      <td>1</td>\n",
       "      <td>21.99</td>\n",
       "      <td>14.11</td>\n",
       "      <td>2017-02-16 10:24:37</td>\n",
       "      <td>2017-02-16 10:35:14</td>\n",
       "      <td>2017-02-22 10:25:57</td>\n",
       "      <td>2017-03-17 00:00:00</td>\n",
       "      <td>-22.975773</td>\n",
       "      <td>-43.192848</td>\n",
       "      <td>-23.542414</td>\n",
       "      <td>...</td>\n",
       "      <td>0.0</td>\n",
       "      <td>0.0</td>\n",
       "      <td>0.0</td>\n",
       "      <td>0.0</td>\n",
       "      <td>0.0</td>\n",
       "      <td>0.0</td>\n",
       "      <td>0.0</td>\n",
       "      <td>0.0</td>\n",
       "      <td>0.0</td>\n",
       "      <td>0.0</td>\n",
       "    </tr>\n",
       "  </tbody>\n",
       "</table>\n",
       "<p>1 rows × 86 columns</p>\n",
       "</div>"
      ],
      "text/plain": [
       "   order_item_id  price  freight_value order_purchase_timestamp  \\\n",
       "0              1  21.99          14.11      2017-02-16 10:24:37   \n",
       "\n",
       "     order_approved_at order_delivered_customer_date  \\\n",
       "0  2017-02-16 10:35:14           2017-02-22 10:25:57   \n",
       "\n",
       "  order_estimated_delivery_date  customer_lat  customer_lng  seller_lat  ...  \\\n",
       "0           2017-03-17 00:00:00    -22.975773    -43.192848  -23.542414  ...   \n",
       "\n",
       "   cds_dvds_musicais  moveis_colchao_e_estofado  tablets_impressao_imagem  \\\n",
       "0                0.0                        0.0                       0.0   \n",
       "\n",
       "   construcao_ferramentas_ferramentas  artes_e_artesanato  fashion_esporte  \\\n",
       "0                                 0.0                 0.0              0.0   \n",
       "\n",
       "   la_cuisine  pc_gamer  seguros_e_servicos  fashion_roupa_infanto_juvenil  \n",
       "0         0.0       0.0                 0.0                            0.0  \n",
       "\n",
       "[1 rows x 86 columns]"
      ]
     },
     "execution_count": 35,
     "metadata": {},
     "output_type": "execute_result"
    }
   ],
   "source": [
    "df_group = df_join.groupby(by='order_id').product_category_name.agg(set).reset_index(name='category')\n",
    "df_group.category = df_group.category.apply(sorted)\n",
    "df_group = category_list_encoding(df_group, 'category')\n",
    "\n",
    "# optimisation de la taille\n",
    "fcols = df_join.select_dtypes('float').columns\n",
    "df_join[fcols] = df_join[fcols].apply(pd.to_numeric, downcast='float')\n",
    "\n",
    "df_join = df_join.merge(df_group, on='order_id', how='inner')\n",
    "df_join = df_join.drop(columns=['product_category_name', 'order_id'])\n",
    "\n",
    "df_join.head(1)"
   ]
  },
  {
   "cell_type": "markdown",
   "metadata": {},
   "source": [
    "# Enregistrement en base de donnees\n",
    "\n",
    "Diminution de la taille memoire"
   ]
  },
  {
   "cell_type": "code",
   "execution_count": 36,
   "metadata": {},
   "outputs": [
    {
     "name": "stdout",
     "output_type": "stream",
     "text": [
      "69541384\n",
      "38226815\n"
     ]
    }
   ],
   "source": [
    "print(df_join.memory_usage().sum())\n",
    "fcols = df_join.select_dtypes('float').columns\n",
    "icols = df_join.select_dtypes('integer').columns\n",
    "\n",
    "df_join[fcols] = df_join[fcols].apply(pd.to_numeric, downcast='float')\n",
    "df_join[icols] = df_join[icols].apply(pd.to_numeric, downcast='integer')\n",
    "print(df_join.memory_usage().sum())"
   ]
  },
  {
   "cell_type": "code",
   "execution_count": 37,
   "metadata": {},
   "outputs": [],
   "source": [
    "clean = '../../datas/CLEAN/E2/'\n",
    "\n",
    "if os.path.exists(clean) == False:\n",
    "    os.makedirs(clean)\n",
    "con = sqlite3.connect(clean + 'E2.db')\n",
    "df_join.to_sql(name='clean_data', con=con, if_exists='replace')\n",
    "con.close()"
   ]
  },
  {
   "cell_type": "markdown",
   "metadata": {},
   "source": [
    "### Test de la lecture BDD"
   ]
  },
  {
   "cell_type": "code",
   "execution_count": 38,
   "metadata": {},
   "outputs": [
    {
     "data": {
      "text/html": [
       "<div>\n",
       "<style scoped>\n",
       "    .dataframe tbody tr th:only-of-type {\n",
       "        vertical-align: middle;\n",
       "    }\n",
       "\n",
       "    .dataframe tbody tr th {\n",
       "        vertical-align: top;\n",
       "    }\n",
       "\n",
       "    .dataframe thead th {\n",
       "        text-align: right;\n",
       "    }\n",
       "</style>\n",
       "<table border=\"1\" class=\"dataframe\">\n",
       "  <thead>\n",
       "    <tr style=\"text-align: right;\">\n",
       "      <th></th>\n",
       "      <th>order_item_id</th>\n",
       "      <th>price</th>\n",
       "      <th>freight_value</th>\n",
       "      <th>order_purchase_timestamp</th>\n",
       "      <th>order_approved_at</th>\n",
       "      <th>order_delivered_customer_date</th>\n",
       "      <th>order_estimated_delivery_date</th>\n",
       "      <th>customer_lat</th>\n",
       "      <th>customer_lng</th>\n",
       "      <th>seller_lat</th>\n",
       "      <th>...</th>\n",
       "      <th>cds_dvds_musicais</th>\n",
       "      <th>moveis_colchao_e_estofado</th>\n",
       "      <th>tablets_impressao_imagem</th>\n",
       "      <th>construcao_ferramentas_ferramentas</th>\n",
       "      <th>artes_e_artesanato</th>\n",
       "      <th>fashion_esporte</th>\n",
       "      <th>la_cuisine</th>\n",
       "      <th>pc_gamer</th>\n",
       "      <th>seguros_e_servicos</th>\n",
       "      <th>fashion_roupa_infanto_juvenil</th>\n",
       "    </tr>\n",
       "    <tr>\n",
       "      <th>index</th>\n",
       "      <th></th>\n",
       "      <th></th>\n",
       "      <th></th>\n",
       "      <th></th>\n",
       "      <th></th>\n",
       "      <th></th>\n",
       "      <th></th>\n",
       "      <th></th>\n",
       "      <th></th>\n",
       "      <th></th>\n",
       "      <th></th>\n",
       "      <th></th>\n",
       "      <th></th>\n",
       "      <th></th>\n",
       "      <th></th>\n",
       "      <th></th>\n",
       "      <th></th>\n",
       "      <th></th>\n",
       "      <th></th>\n",
       "      <th></th>\n",
       "      <th></th>\n",
       "    </tr>\n",
       "  </thead>\n",
       "  <tbody>\n",
       "    <tr>\n",
       "      <th>0</th>\n",
       "      <td>1</td>\n",
       "      <td>21.99</td>\n",
       "      <td>14.110000</td>\n",
       "      <td>2017-02-16 10:24:37</td>\n",
       "      <td>2017-02-16 10:35:14</td>\n",
       "      <td>2017-02-22 10:25:57</td>\n",
       "      <td>2017-03-17 00:00:00</td>\n",
       "      <td>-22.975773</td>\n",
       "      <td>-43.192848</td>\n",
       "      <td>-23.542414</td>\n",
       "      <td>...</td>\n",
       "      <td>0.0</td>\n",
       "      <td>0.0</td>\n",
       "      <td>0.0</td>\n",
       "      <td>0.0</td>\n",
       "      <td>0.0</td>\n",
       "      <td>0.0</td>\n",
       "      <td>0.0</td>\n",
       "      <td>0.0</td>\n",
       "      <td>0.0</td>\n",
       "      <td>0.0</td>\n",
       "    </tr>\n",
       "    <tr>\n",
       "      <th>1</th>\n",
       "      <td>1</td>\n",
       "      <td>412.00</td>\n",
       "      <td>27.719999</td>\n",
       "      <td>2018-02-14 16:34:27</td>\n",
       "      <td>2018-02-21 12:28:15</td>\n",
       "      <td>2018-02-28 20:09:19</td>\n",
       "      <td>2018-03-09 00:00:00</td>\n",
       "      <td>-23.114775</td>\n",
       "      <td>-46.553326</td>\n",
       "      <td>-25.437271</td>\n",
       "      <td>...</td>\n",
       "      <td>0.0</td>\n",
       "      <td>0.0</td>\n",
       "      <td>0.0</td>\n",
       "      <td>0.0</td>\n",
       "      <td>0.0</td>\n",
       "      <td>0.0</td>\n",
       "      <td>0.0</td>\n",
       "      <td>0.0</td>\n",
       "      <td>0.0</td>\n",
       "      <td>0.0</td>\n",
       "    </tr>\n",
       "    <tr>\n",
       "      <th>2</th>\n",
       "      <td>2</td>\n",
       "      <td>412.00</td>\n",
       "      <td>27.719999</td>\n",
       "      <td>2018-02-14 16:34:27</td>\n",
       "      <td>2018-02-21 12:28:15</td>\n",
       "      <td>2018-02-28 20:09:19</td>\n",
       "      <td>2018-03-09 00:00:00</td>\n",
       "      <td>-23.114775</td>\n",
       "      <td>-46.553326</td>\n",
       "      <td>-25.437271</td>\n",
       "      <td>...</td>\n",
       "      <td>0.0</td>\n",
       "      <td>0.0</td>\n",
       "      <td>0.0</td>\n",
       "      <td>0.0</td>\n",
       "      <td>0.0</td>\n",
       "      <td>0.0</td>\n",
       "      <td>0.0</td>\n",
       "      <td>0.0</td>\n",
       "      <td>0.0</td>\n",
       "      <td>0.0</td>\n",
       "    </tr>\n",
       "  </tbody>\n",
       "</table>\n",
       "<p>3 rows × 86 columns</p>\n",
       "</div>"
      ],
      "text/plain": [
       "       order_item_id   price  freight_value order_purchase_timestamp  \\\n",
       "index                                                                  \n",
       "0                  1   21.99      14.110000      2017-02-16 10:24:37   \n",
       "1                  1  412.00      27.719999      2018-02-14 16:34:27   \n",
       "2                  2  412.00      27.719999      2018-02-14 16:34:27   \n",
       "\n",
       "         order_approved_at order_delivered_customer_date  \\\n",
       "index                                                      \n",
       "0      2017-02-16 10:35:14           2017-02-22 10:25:57   \n",
       "1      2018-02-21 12:28:15           2018-02-28 20:09:19   \n",
       "2      2018-02-21 12:28:15           2018-02-28 20:09:19   \n",
       "\n",
       "      order_estimated_delivery_date  customer_lat  customer_lng  seller_lat  \\\n",
       "index                                                                         \n",
       "0               2017-03-17 00:00:00    -22.975773    -43.192848  -23.542414   \n",
       "1               2018-03-09 00:00:00    -23.114775    -46.553326  -25.437271   \n",
       "2               2018-03-09 00:00:00    -23.114775    -46.553326  -25.437271   \n",
       "\n",
       "       ...  cds_dvds_musicais  moveis_colchao_e_estofado  \\\n",
       "index  ...                                                 \n",
       "0      ...                0.0                        0.0   \n",
       "1      ...                0.0                        0.0   \n",
       "2      ...                0.0                        0.0   \n",
       "\n",
       "       tablets_impressao_imagem  construcao_ferramentas_ferramentas  \\\n",
       "index                                                                 \n",
       "0                           0.0                                 0.0   \n",
       "1                           0.0                                 0.0   \n",
       "2                           0.0                                 0.0   \n",
       "\n",
       "       artes_e_artesanato  fashion_esporte  la_cuisine  pc_gamer  \\\n",
       "index                                                              \n",
       "0                     0.0              0.0         0.0       0.0   \n",
       "1                     0.0              0.0         0.0       0.0   \n",
       "2                     0.0              0.0         0.0       0.0   \n",
       "\n",
       "       seguros_e_servicos  fashion_roupa_infanto_juvenil  \n",
       "index                                                     \n",
       "0                     0.0                            0.0  \n",
       "1                     0.0                            0.0  \n",
       "2                     0.0                            0.0  \n",
       "\n",
       "[3 rows x 86 columns]"
      ]
     },
     "execution_count": 38,
     "metadata": {},
     "output_type": "execute_result"
    }
   ],
   "source": [
    "con = sqlite3.connect(clean + 'E2.db')\n",
    "test = pd.read_sql('select * from clean_data LIMIT 3', con, index_col='index')\n",
    "con.close()\n",
    "test.head()"
   ]
  }
 ],
 "metadata": {
  "interpreter": {
   "hash": "b4e0f46da02f9850f267e2781d63d0f02c45fa623264b236c8ad258f9318af4a"
  },
  "kernelspec": {
   "display_name": "Python 3.9.7 64-bit ('E2': conda)",
   "language": "python",
   "name": "python3"
  },
  "language_info": {
   "codemirror_mode": {
    "name": "ipython",
    "version": 3
   },
   "file_extension": ".py",
   "mimetype": "text/x-python",
   "name": "python",
   "nbconvert_exporter": "python",
   "pygments_lexer": "ipython3",
   "version": "3.9.7"
  },
  "orig_nbformat": 4
 },
 "nbformat": 4,
 "nbformat_minor": 2
}
