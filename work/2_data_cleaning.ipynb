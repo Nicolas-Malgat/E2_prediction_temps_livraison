{
 "cells": [
  {
   "cell_type": "markdown",
   "metadata": {},
   "source": [
    "# Nettoyage des donnees avant de les enregistrer en BDD"
   ]
  },
  {
   "cell_type": "code",
   "execution_count": 1,
   "metadata": {},
   "outputs": [],
   "source": [
    "%load_ext autoreload\n",
    "%autoreload 2\n",
    "\n",
    "import pandas as pd\n",
    "import sqlite3\n",
    "import os\n",
    "\n",
    "from modules.data_cleaning import apply_zscore\n",
    "\n",
    "raw = '../../datas/RAW/E2/'"
   ]
  },
  {
   "cell_type": "markdown",
   "metadata": {},
   "source": [
    "# Chargement des csv"
   ]
  },
  {
   "cell_type": "code",
   "execution_count": 2,
   "metadata": {},
   "outputs": [
    {
     "data": {
      "text/plain": [
       "dict_keys(['customer', 'geolocalisation', 'order', 'order_items', 'product', 'seller'])"
      ]
     },
     "execution_count": 2,
     "metadata": {},
     "output_type": "execute_result"
    }
   ],
   "source": [
    "dict_csv = {\n",
    "    'customer':         'olist_customers_dataset.csv', \n",
    "    'geolocalisation':  'olist_geolocation_dataset.csv', \n",
    "    'order':            'olist_orders_dataset.csv', \n",
    "    'order_items':      'olist_order_items_dataset.csv', \n",
    "    'product':          'olist_products_dataset.csv', \n",
    "    'seller':           'olist_sellers_dataset.csv'\n",
    "}\n",
    "for csv in dict_csv:\n",
    "    dict_csv[csv] = (pd.read_csv(raw + dict_csv[csv]))\n",
    "dict_csv.keys()"
   ]
  },
  {
   "cell_type": "markdown",
   "metadata": {},
   "source": [
    "# Nettoyage des donnees"
   ]
  },
  {
   "cell_type": "markdown",
   "metadata": {},
   "source": [
    "## Drop na values\n",
    "\n",
    "sur la table order, j'en profite pour supprimer les 6 commandes annulees (canceled)"
   ]
  },
  {
   "cell_type": "code",
   "execution_count": 3,
   "metadata": {},
   "outputs": [
    {
     "name": "stdout",
     "output_type": "stream",
     "text": [
      "\tORDER\n",
      "order_id                            0\n",
      "customer_id                         0\n",
      "order_status                        0\n",
      "order_purchase_timestamp            0\n",
      "order_approved_at                 160\n",
      "order_delivered_carrier_date     1783\n",
      "order_delivered_customer_date    2965\n",
      "order_estimated_delivery_date       0\n",
      "dtype: int64\n",
      "\tPRODUCT\n",
      "product_id                      0\n",
      "product_category_name         610\n",
      "product_name_lenght           610\n",
      "product_description_lenght    610\n",
      "product_photos_qty            610\n",
      "product_weight_g                2\n",
      "product_length_cm               2\n",
      "product_height_cm               2\n",
      "product_width_cm                2\n",
      "dtype: int64\n"
     ]
    }
   ],
   "source": [
    "for df in dict_csv:\n",
    "    if dict_csv[df].isna().sum().sum() != 0:\n",
    "        print('\\t' + df.upper())\n",
    "        print(dict_csv[df].isna().sum())"
   ]
  },
  {
   "cell_type": "code",
   "execution_count": 4,
   "metadata": {},
   "outputs": [
    {
     "name": "stdout",
     "output_type": "stream",
     "text": [
      "(99441, 8)\n",
      "(96455, 8)\n"
     ]
    },
    {
     "data": {
      "text/plain": [
       "order_id                         False\n",
       "customer_id                      False\n",
       "order_status                     False\n",
       "order_purchase_timestamp         False\n",
       "order_approved_at                False\n",
       "order_delivered_carrier_date     False\n",
       "order_delivered_customer_date    False\n",
       "order_estimated_delivery_date    False\n",
       "dtype: bool"
      ]
     },
     "execution_count": 4,
     "metadata": {},
     "output_type": "execute_result"
    }
   ],
   "source": [
    "order_without_na = dict_csv['order'].dropna()\n",
    "order_without_na = order_without_na[order_without_na.order_status == 'delivered']\n",
    "print('Nb de lignes avant et apres traitement')\n",
    "print(dict_csv['order'].shape)\n",
    "print(order_without_na.shape)\n",
    "# order_without_na.isna().any()"
   ]
  },
  {
   "cell_type": "code",
   "execution_count": 5,
   "metadata": {},
   "outputs": [
    {
     "name": "stdout",
     "output_type": "stream",
     "text": [
      "(32951, 9)\n",
      "(32340, 9)\n"
     ]
    },
    {
     "data": {
      "text/plain": [
       "product_id                    False\n",
       "product_category_name         False\n",
       "product_name_lenght           False\n",
       "product_description_lenght    False\n",
       "product_photos_qty            False\n",
       "product_weight_g              False\n",
       "product_length_cm             False\n",
       "product_height_cm             False\n",
       "product_width_cm              False\n",
       "dtype: bool"
      ]
     },
     "execution_count": 5,
     "metadata": {},
     "output_type": "execute_result"
    }
   ],
   "source": [
    "product_without_na = dict_csv['product'].dropna()\n",
    "print('Nb de lignes avant et apres traitement')\n",
    "print(dict_csv['product'].shape)\n",
    "print(product_without_na.shape)\n",
    "# product_without_na.isna().any()"
   ]
  },
  {
   "cell_type": "markdown",
   "metadata": {},
   "source": [
    "## Drop outliers\n",
    "\n",
    "J'applique un zscore uniquement sur la table order_items"
   ]
  },
  {
   "cell_type": "code",
   "execution_count": null,
   "metadata": {},
   "outputs": [],
   "source": [
    "order_items_zscore = apply_zscore(order_items, ['price', 'freight_value'])\n",
    "ax = sns.boxplot(data=order_items_zscore)\n",
    "order_items_zscore.shape"
   ]
  },
  {
   "cell_type": "markdown",
   "metadata": {},
   "source": [
    "# Enregistrement en base de donnees"
   ]
  },
  {
   "cell_type": "code",
   "execution_count": 8,
   "metadata": {},
   "outputs": [],
   "source": [
    "clean = '../../datas/CLEAN/E2/'\n",
    "\n",
    "if os.path.exists(clean) == False:\n",
    "    os.makedirs(clean)\n",
    "con = sqlite3.connect(clean + 'E2.db')"
   ]
  },
  {
   "cell_type": "code",
   "execution_count": 9,
   "metadata": {},
   "outputs": [],
   "source": [
    "con.close()"
   ]
  }
 ],
 "metadata": {
  "interpreter": {
   "hash": "b4e0f46da02f9850f267e2781d63d0f02c45fa623264b236c8ad258f9318af4a"
  },
  "kernelspec": {
   "display_name": "Python 3.9.7 64-bit ('E2': conda)",
   "language": "python",
   "name": "python3"
  },
  "language_info": {
   "codemirror_mode": {
    "name": "ipython",
    "version": 3
   },
   "file_extension": ".py",
   "mimetype": "text/x-python",
   "name": "python",
   "nbconvert_exporter": "python",
   "pygments_lexer": "ipython3",
   "version": "3.9.7"
  },
  "orig_nbformat": 4
 },
 "nbformat": 4,
 "nbformat_minor": 2
}
